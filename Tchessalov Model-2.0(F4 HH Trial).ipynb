{
 "cells": [
  {
   "cell_type": "code",
   "execution_count": 39,
   "id": "f6ee5f65",
   "metadata": {},
   "outputs": [],
   "source": [
    "#Libraries\n",
    "import matplotlib.pyplot as plt\n",
    "import numpy as np\n",
    "from scipy.optimize import least_squares\n",
    "import pandas as pd\n",
    "import os"
   ]
  },
  {
   "cell_type": "markdown",
   "id": "1cb89396",
   "metadata": {},
   "source": [
    "# Resistance Calculations From Lyo Cycle Data"
   ]
  },
  {
   "cell_type": "markdown",
   "id": "4c970c62",
   "metadata": {},
   "source": [
    "### Inputs, Data Loading"
   ]
  },
  {
   "cell_type": "code",
   "execution_count": 40,
   "id": "21927900",
   "metadata": {},
   "outputs": [
    {
     "name": "stdout",
     "output_type": "stream",
     "text": [
      "Dry Cake Initial Height: 1.182629899895259\n"
     ]
    }
   ],
   "source": [
    "#Input Parameters\n",
    "SAin=5.982843996\n",
    "SAout=7.0685775\n",
    "ice_dens=0.918\n",
    "dens=1.031 #Density for F4 from slides\n",
    "fill_vol=6.3\n",
    "water_cont=0.484\n",
    "dry_cake=(fill_vol*dens)/(SAin*ice_dens)\n",
    "print(\"Dry Cake Initial Height:\",dry_cake)\n",
    "lam=0.00358"
   ]
  },
  {
   "cell_type": "code",
   "execution_count": 41,
   "id": "912938c8",
   "metadata": {},
   "outputs": [
    {
     "ename": "PermissionError",
     "evalue": "[Errno 13] Permission denied: 'C:\\\\Users\\\\sbadih\\\\OneDrive - Gilead Sciences\\\\Trodelvy 2.0 Modelling Data\\\\220715_GS-0132_F4_0C125mT_SV_5MIN.xlsx'",
     "output_type": "error",
     "traceback": [
      "\u001b[1;31m---------------------------------------------------------------------------\u001b[0m",
      "\u001b[1;31mPermissionError\u001b[0m                           Traceback (most recent call last)",
      "\u001b[1;32m<ipython-input-41-8ed5c1d30177>\u001b[0m in \u001b[0;36m<module>\u001b[1;34m\u001b[0m\n\u001b[0;32m      2\u001b[0m \u001b[0mfile_location\u001b[0m \u001b[1;33m=\u001b[0m \u001b[1;34mr'C:\\Users\\sbadih\\OneDrive - Gilead Sciences\\Trodelvy 2.0 Modelling Data\\220715_GS-0132_F4_0C125mT_SV_5MIN.xlsx'\u001b[0m\u001b[1;33m\u001b[0m\u001b[1;33m\u001b[0m\u001b[0m\n\u001b[0;32m      3\u001b[0m \u001b[1;32massert\u001b[0m \u001b[0mos\u001b[0m\u001b[1;33m.\u001b[0m\u001b[0mpath\u001b[0m\u001b[1;33m.\u001b[0m\u001b[0misfile\u001b[0m\u001b[1;33m(\u001b[0m\u001b[0mfile_location\u001b[0m\u001b[1;33m)\u001b[0m\u001b[1;33m\u001b[0m\u001b[1;33m\u001b[0m\u001b[0m\n\u001b[1;32m----> 4\u001b[1;33m \u001b[0mdf\u001b[0m \u001b[1;33m=\u001b[0m \u001b[0mpd\u001b[0m\u001b[1;33m.\u001b[0m\u001b[0mread_excel\u001b[0m\u001b[1;33m(\u001b[0m\u001b[0mfile_location\u001b[0m\u001b[1;33m,\u001b[0m\u001b[0msheet_name\u001b[0m\u001b[1;33m=\u001b[0m\u001b[1;34m'220715_GS-0132_F4_0C125mT_SV_5M'\u001b[0m\u001b[1;33m)\u001b[0m\u001b[1;33m\u001b[0m\u001b[1;33m\u001b[0m\u001b[0m\n\u001b[0m\u001b[0;32m      5\u001b[0m \u001b[1;31m#df = pd.read_excel(file_location)\u001b[0m\u001b[1;33m\u001b[0m\u001b[1;33m\u001b[0m\u001b[1;33m\u001b[0m\u001b[0m\n\u001b[0;32m      6\u001b[0m \u001b[0mprint\u001b[0m\u001b[1;33m(\u001b[0m\u001b[0mlist\u001b[0m\u001b[1;33m(\u001b[0m\u001b[0mdf\u001b[0m\u001b[1;33m.\u001b[0m\u001b[0mcolumns\u001b[0m\u001b[1;33m)\u001b[0m\u001b[1;33m)\u001b[0m\u001b[1;33m\u001b[0m\u001b[1;33m\u001b[0m\u001b[0m\n",
      "\u001b[1;32m~\\Anaconda3\\lib\\site-packages\\pandas\\util\\_decorators.py\u001b[0m in \u001b[0;36mwrapper\u001b[1;34m(*args, **kwargs)\u001b[0m\n\u001b[0;32m    297\u001b[0m                 )\n\u001b[0;32m    298\u001b[0m                 \u001b[0mwarnings\u001b[0m\u001b[1;33m.\u001b[0m\u001b[0mwarn\u001b[0m\u001b[1;33m(\u001b[0m\u001b[0mmsg\u001b[0m\u001b[1;33m,\u001b[0m \u001b[0mFutureWarning\u001b[0m\u001b[1;33m,\u001b[0m \u001b[0mstacklevel\u001b[0m\u001b[1;33m=\u001b[0m\u001b[0mstacklevel\u001b[0m\u001b[1;33m)\u001b[0m\u001b[1;33m\u001b[0m\u001b[1;33m\u001b[0m\u001b[0m\n\u001b[1;32m--> 299\u001b[1;33m             \u001b[1;32mreturn\u001b[0m \u001b[0mfunc\u001b[0m\u001b[1;33m(\u001b[0m\u001b[1;33m*\u001b[0m\u001b[0margs\u001b[0m\u001b[1;33m,\u001b[0m \u001b[1;33m**\u001b[0m\u001b[0mkwargs\u001b[0m\u001b[1;33m)\u001b[0m\u001b[1;33m\u001b[0m\u001b[1;33m\u001b[0m\u001b[0m\n\u001b[0m\u001b[0;32m    300\u001b[0m \u001b[1;33m\u001b[0m\u001b[0m\n\u001b[0;32m    301\u001b[0m         \u001b[1;32mreturn\u001b[0m \u001b[0mwrapper\u001b[0m\u001b[1;33m\u001b[0m\u001b[1;33m\u001b[0m\u001b[0m\n",
      "\u001b[1;32m~\\Anaconda3\\lib\\site-packages\\pandas\\io\\excel\\_base.py\u001b[0m in \u001b[0;36mread_excel\u001b[1;34m(io, sheet_name, header, names, index_col, usecols, squeeze, dtype, engine, converters, true_values, false_values, skiprows, nrows, na_values, keep_default_na, na_filter, verbose, parse_dates, date_parser, thousands, comment, skipfooter, convert_float, mangle_dupe_cols, storage_options)\u001b[0m\n\u001b[0;32m    334\u001b[0m     \u001b[1;32mif\u001b[0m \u001b[1;32mnot\u001b[0m \u001b[0misinstance\u001b[0m\u001b[1;33m(\u001b[0m\u001b[0mio\u001b[0m\u001b[1;33m,\u001b[0m \u001b[0mExcelFile\u001b[0m\u001b[1;33m)\u001b[0m\u001b[1;33m:\u001b[0m\u001b[1;33m\u001b[0m\u001b[1;33m\u001b[0m\u001b[0m\n\u001b[0;32m    335\u001b[0m         \u001b[0mshould_close\u001b[0m \u001b[1;33m=\u001b[0m \u001b[1;32mTrue\u001b[0m\u001b[1;33m\u001b[0m\u001b[1;33m\u001b[0m\u001b[0m\n\u001b[1;32m--> 336\u001b[1;33m         \u001b[0mio\u001b[0m \u001b[1;33m=\u001b[0m \u001b[0mExcelFile\u001b[0m\u001b[1;33m(\u001b[0m\u001b[0mio\u001b[0m\u001b[1;33m,\u001b[0m \u001b[0mstorage_options\u001b[0m\u001b[1;33m=\u001b[0m\u001b[0mstorage_options\u001b[0m\u001b[1;33m,\u001b[0m \u001b[0mengine\u001b[0m\u001b[1;33m=\u001b[0m\u001b[0mengine\u001b[0m\u001b[1;33m)\u001b[0m\u001b[1;33m\u001b[0m\u001b[1;33m\u001b[0m\u001b[0m\n\u001b[0m\u001b[0;32m    337\u001b[0m     \u001b[1;32melif\u001b[0m \u001b[0mengine\u001b[0m \u001b[1;32mand\u001b[0m \u001b[0mengine\u001b[0m \u001b[1;33m!=\u001b[0m \u001b[0mio\u001b[0m\u001b[1;33m.\u001b[0m\u001b[0mengine\u001b[0m\u001b[1;33m:\u001b[0m\u001b[1;33m\u001b[0m\u001b[1;33m\u001b[0m\u001b[0m\n\u001b[0;32m    338\u001b[0m         raise ValueError(\n",
      "\u001b[1;32m~\\Anaconda3\\lib\\site-packages\\pandas\\io\\excel\\_base.py\u001b[0m in \u001b[0;36m__init__\u001b[1;34m(self, path_or_buffer, engine, storage_options)\u001b[0m\n\u001b[0;32m   1069\u001b[0m                 \u001b[0mext\u001b[0m \u001b[1;33m=\u001b[0m \u001b[1;34m\"xls\"\u001b[0m\u001b[1;33m\u001b[0m\u001b[1;33m\u001b[0m\u001b[0m\n\u001b[0;32m   1070\u001b[0m             \u001b[1;32melse\u001b[0m\u001b[1;33m:\u001b[0m\u001b[1;33m\u001b[0m\u001b[1;33m\u001b[0m\u001b[0m\n\u001b[1;32m-> 1071\u001b[1;33m                 ext = inspect_excel_format(\n\u001b[0m\u001b[0;32m   1072\u001b[0m                     \u001b[0mcontent\u001b[0m\u001b[1;33m=\u001b[0m\u001b[0mpath_or_buffer\u001b[0m\u001b[1;33m,\u001b[0m \u001b[0mstorage_options\u001b[0m\u001b[1;33m=\u001b[0m\u001b[0mstorage_options\u001b[0m\u001b[1;33m\u001b[0m\u001b[1;33m\u001b[0m\u001b[0m\n\u001b[0;32m   1073\u001b[0m                 )\n",
      "\u001b[1;32m~\\Anaconda3\\lib\\site-packages\\pandas\\io\\excel\\_base.py\u001b[0m in \u001b[0;36minspect_excel_format\u001b[1;34m(path, content, storage_options)\u001b[0m\n\u001b[0;32m    947\u001b[0m     \u001b[1;32massert\u001b[0m \u001b[0mcontent_or_path\u001b[0m \u001b[1;32mis\u001b[0m \u001b[1;32mnot\u001b[0m \u001b[1;32mNone\u001b[0m\u001b[1;33m\u001b[0m\u001b[1;33m\u001b[0m\u001b[0m\n\u001b[0;32m    948\u001b[0m \u001b[1;33m\u001b[0m\u001b[0m\n\u001b[1;32m--> 949\u001b[1;33m     with get_handle(\n\u001b[0m\u001b[0;32m    950\u001b[0m         \u001b[0mcontent_or_path\u001b[0m\u001b[1;33m,\u001b[0m \u001b[1;34m\"rb\"\u001b[0m\u001b[1;33m,\u001b[0m \u001b[0mstorage_options\u001b[0m\u001b[1;33m=\u001b[0m\u001b[0mstorage_options\u001b[0m\u001b[1;33m,\u001b[0m \u001b[0mis_text\u001b[0m\u001b[1;33m=\u001b[0m\u001b[1;32mFalse\u001b[0m\u001b[1;33m\u001b[0m\u001b[1;33m\u001b[0m\u001b[0m\n\u001b[0;32m    951\u001b[0m     ) as handle:\n",
      "\u001b[1;32m~\\Anaconda3\\lib\\site-packages\\pandas\\io\\common.py\u001b[0m in \u001b[0;36mget_handle\u001b[1;34m(path_or_buf, mode, encoding, compression, memory_map, is_text, errors, storage_options)\u001b[0m\n\u001b[0;32m    649\u001b[0m         \u001b[1;32melse\u001b[0m\u001b[1;33m:\u001b[0m\u001b[1;33m\u001b[0m\u001b[1;33m\u001b[0m\u001b[0m\n\u001b[0;32m    650\u001b[0m             \u001b[1;31m# Binary mode\u001b[0m\u001b[1;33m\u001b[0m\u001b[1;33m\u001b[0m\u001b[1;33m\u001b[0m\u001b[0m\n\u001b[1;32m--> 651\u001b[1;33m             \u001b[0mhandle\u001b[0m \u001b[1;33m=\u001b[0m \u001b[0mopen\u001b[0m\u001b[1;33m(\u001b[0m\u001b[0mhandle\u001b[0m\u001b[1;33m,\u001b[0m \u001b[0mioargs\u001b[0m\u001b[1;33m.\u001b[0m\u001b[0mmode\u001b[0m\u001b[1;33m)\u001b[0m\u001b[1;33m\u001b[0m\u001b[1;33m\u001b[0m\u001b[0m\n\u001b[0m\u001b[0;32m    652\u001b[0m         \u001b[0mhandles\u001b[0m\u001b[1;33m.\u001b[0m\u001b[0mappend\u001b[0m\u001b[1;33m(\u001b[0m\u001b[0mhandle\u001b[0m\u001b[1;33m)\u001b[0m\u001b[1;33m\u001b[0m\u001b[1;33m\u001b[0m\u001b[0m\n\u001b[0;32m    653\u001b[0m \u001b[1;33m\u001b[0m\u001b[0m\n",
      "\u001b[1;31mPermissionError\u001b[0m: [Errno 13] Permission denied: 'C:\\\\Users\\\\sbadih\\\\OneDrive - Gilead Sciences\\\\Trodelvy 2.0 Modelling Data\\\\220715_GS-0132_F4_0C125mT_SV_5MIN.xlsx'"
     ]
    }
   ],
   "source": [
    "#Initial Data(SV File)\n",
    "file_location = r'C:\\Users\\sbadih\\OneDrive - Gilead Sciences\\Trodelvy 2.0 Modelling Data\\220715_GS-0132_F4_0C125mT_SV_5MIN.xlsx'\n",
    "assert os.path.isfile(file_location)\n",
    "df = pd.read_excel(file_location,sheet_name='220715_GS-0132_F4_0C125mT_SV_5M')\n",
    "#df = pd.read_excel(file_location)\n",
    "print(list(df.columns))\n",
    "\n",
    "#Elapsed Time Array\n",
    "time=(df[['Timestamp']]).values #every 5 mins\n",
    "t_m=np.arange(0,len(time)*5,5) #Create array for time passed in increments of 5 mins\n",
    "print(t_m)\n",
    "\n",
    "#Pirani Pressure\n",
    "pirani_pres=(df[[' SPLYO.CHAMBER_PIRANI.F_CV']]).values\n",
    "\n",
    "#Chamber Pressure\n",
    "cham_pres=(df[[' SPLYO.CHAMBER_CM.F_CV']]).values"
   ]
  },
  {
   "cell_type": "code",
   "execution_count": null,
   "id": "24afa60a",
   "metadata": {},
   "outputs": [],
   "source": [
    "#Initial Data(PP File)\n",
    "file_location1 = r'C:\\Users\\sbadih\\OneDrive - Gilead Sciences\\Trodelvy 2.0 Modelling Data\\220715_GS-0132_F4_0C125mT_PP_5MIN.xlsx'\n",
    "assert os.path.isfile(file_location1)\n",
    "df1 = pd.read_excel(file_location1,sheet_name='220715_GS-0132_F4_0C125mT_PP_5M')\n",
    "print(\"Headers:\")\n",
    "print(list(df1.columns))\n",
    "\n",
    "#Find Nested Configuration Temperatures\n",
    "T_2N=(df1[[' SPLYO.TC06.F_CV']]).values\n",
    "T_3N=(df1[[' SPLYO.TC03.F_CV']]).values\n",
    "T_4N=(df1[[' SPLYO.TC01.F_CV']]).values\n",
    "Tp=(df[[' SPLYO.SHELF_OUTLET.F_CV']]).values ##Check which one this should be?\n",
    "\n",
    "#Extract Core Thermocouple (TC02)\n",
    "T_core=(df1[[' SPLYO.TC02.F_CV']]).values\n",
    "\n",
    "#Print Shape of some variables\n",
    "print(\"Shapes:\")\n",
    "print(Tp.shape)\n",
    "print(t_m.shape)\n",
    "print(pirani_pres.shape)"
   ]
  },
  {
   "cell_type": "code",
   "execution_count": null,
   "id": "21523866",
   "metadata": {},
   "outputs": [],
   "source": [
    "print(cham_pres)"
   ]
  },
  {
   "cell_type": "markdown",
   "id": "6afa7e19",
   "metadata": {},
   "source": [
    "### Sublimation Pressure"
   ]
  },
  {
   "cell_type": "code",
   "execution_count": null,
   "id": "89be85e7",
   "metadata": {},
   "outputs": [],
   "source": [
    "#Function to Calc. Sublimation Pressure\n",
    "def sub_p(T): #input is temperature\n",
    "    sp=(np.exp(24.01849-6144.96/((T)+273)))*1000\n",
    "    return sp"
   ]
  },
  {
   "cell_type": "code",
   "execution_count": null,
   "id": "ca5bec8c",
   "metadata": {},
   "outputs": [],
   "source": [
    "#Store Sublimation Pressures\n",
    "sub_pres2=sub_p(T_2N)\n",
    "sub_pres3=sub_p(T_3N)\n",
    "sub_pres4=sub_p(T_4N)\n",
    "sub_pres_core=sub_p(T_core)\n",
    "print(\"Sublimation Pressure Shape:\",sub_pres2.shape)"
   ]
  },
  {
   "cell_type": "markdown",
   "id": "b6555b4b",
   "metadata": {},
   "source": [
    "##### Index Setup"
   ]
  },
  {
   "cell_type": "code",
   "execution_count": null,
   "id": "d42cea79",
   "metadata": {},
   "outputs": [],
   "source": [
    "#Need to automatically find the index at which we stop calculating any values\n",
    "    #This is determined by when the Chamber CM reading becomes close to the pirani reading indicating end of primary drying\n",
    "    \n",
    "#Start Index\n",
    "    #This will vary depending on the vial configuration\n",
    "    #Start index is where the calculated sublimation pressure is equal to the Chamber CM reading(ie where sublimation starts(primary drying))\n",
    "# 2NN\n",
    "minimum=[]\n",
    "ind=[]\n",
    "for i in range(len(cham_pres)):\n",
    "    if sub_pres2[i]<98.5:\n",
    "        ind.append(i)\n",
    "        minimum.append(cham_pres[i]-sub_pres2[i])\n",
    "minimum=np.array(minimum) #convert list to array\n",
    "min_ind2=np.argmin(minimum) #Find the index in the minimum array where the minimum difference occurs\n",
    "strt_ind2=ind[min_ind2] #Find the index in the sublimation pressure where the minimum occurs\n",
    "\n",
    "# 3NN\n",
    "minimum=[]\n",
    "ind=[]\n",
    "for i in range(len(cham_pres)):\n",
    "    if sub_pres3[i]<98.5:\n",
    "        ind.append(i)\n",
    "        minimum.append(cham_pres[i]-sub_pres3[i])\n",
    "minimum=np.array(minimum) #convert list to array\n",
    "min_ind3=np.argmin(minimum) #Find the index in the minimum array where the minimum difference occurs\n",
    "strt_ind3=ind[min_ind3] #Find the index in the sublimation pressure where the minimum occurs\n",
    "\n",
    "# 4NN\n",
    "minimum=[]\n",
    "ind=[]\n",
    "for i in range(len(cham_pres)):\n",
    "    if sub_pres4[i]<98.5:\n",
    "        ind.append(i)\n",
    "        minimum.append(cham_pres[i]-sub_pres4[i])\n",
    "minimum=np.array(minimum) #convert list to array\n",
    "min_ind4=np.argmin(minimum) #Find the index in the minimum array where the minimum difference occurs\n",
    "strt_ind4=ind[min_ind4] #Find the index in the sublimation pressure where the minimum occurs\n",
    "\n",
    "print(\"Start Index for 2NN:\",strt_ind2)\n",
    "print(\"Start Index for 3NN:\",strt_ind3)\n",
    "print(\"Start Index for 4NN:\",strt_ind4)\n",
    "\n",
    "#Stop Index\n",
    "index=[]\n",
    "diff=[]\n",
    "for i in range(len(pirani_pres[strt_ind2:])): #start where the primary drying starts\n",
    "    if cham_pres[i+strt_ind2]<200:\n",
    "        index.append(i+strt_ind2)\n",
    "        diff.append(pirani_pres[i+strt_ind2]-cham_pres[i+strt_ind2])\n",
    "diff=np.array(diff)\n",
    "min_diff=np.argmin(diff) #find index where minimum occurs\n",
    "   #Stop Index is the same for all vial configurations \n",
    "stop_ind=index[min_diff]\n",
    "print(\"Stop Index is:\",stop_ind) "
   ]
  },
  {
   "cell_type": "markdown",
   "id": "f1aea6e5",
   "metadata": {},
   "source": [
    "Note: The indices here are the points we will set to zero and all values after that is where the calculations start.This applies to Kv calculations up to the resistance calculations on the spreadsheet. "
   ]
  },
  {
   "cell_type": "code",
   "execution_count": null,
   "id": "8aeb6011",
   "metadata": {},
   "outputs": [],
   "source": [
    "#Modify Sub. Pressures based on start indices indicating beginning of sublimation where sub. pres=chamber pres and end indices where pirani converges to chamber pressure\n",
    "sub_pres2_new=sub_pres2[strt_ind2:stop_ind] \n",
    "sub_pres3_new=sub_pres3[strt_ind3:stop_ind]\n",
    "sub_pres4_new=sub_pres4[strt_ind4:stop_ind]\n",
    "sub_pres_core_new=sub_pres_core[strt_ind4:stop_ind]\n",
    "print(\"New Array Shape for Sub. Pressures:\\n\")\n",
    "print(\"2NN:\",sub_pres2_new.shape)\n",
    "print(\"3NN:\",sub_pres3_new.shape)\n",
    "print(\"4NN:\",sub_pres4_new.shape)"
   ]
  },
  {
   "cell_type": "markdown",
   "id": "8cc53d74",
   "metadata": {},
   "source": [
    "### Kv Values(Vial Heat Transfer Coefficient)"
   ]
  },
  {
   "cell_type": "code",
   "execution_count": null,
   "id": "78700a91",
   "metadata": {},
   "outputs": [],
   "source": [
    "#Kv Parameters\n",
    "a_kv=0.000817654\n",
    "b_kv=0.00045\n",
    "c_kv=1.320652597"
   ]
  },
  {
   "cell_type": "code",
   "execution_count": null,
   "id": "3b6e0388",
   "metadata": {},
   "outputs": [],
   "source": [
    "#Kv Value Calculations\n",
    "def Kv_calc(p,factor): #Inputs are pirani pressure reading and adjustment factor\n",
    "    return a_kv+(b_kv*(p/1000))/ (1+(c_kv*(p/1000))) *factor #might need to adjust the rounding"
   ]
  },
  {
   "cell_type": "code",
   "execution_count": null,
   "id": "50e31571",
   "metadata": {},
   "outputs": [],
   "source": [
    "# #Assuming Same Kv for all 3 cases for now\n",
    "# kv_2=Kv_calc(pirani_pres,1)\n",
    "# kv_3=Kv_calc(pirani_pres,1)\n",
    "# kv_4=Kv_calc(pirani_pres,1)\n",
    "# print(\"Previous Size:\",kv_2.shape)\n",
    "# #Adjust size based on start and stop indices\n",
    "# kv_2 = kv_2[strt_ind2:]\n",
    "# kv_3 = kv_3[strt_ind3:]\n",
    "# kv_4 = kv_4[strt_ind4:]\n",
    "# print(\"New Size:\",kv_2.shape)"
   ]
  },
  {
   "cell_type": "code",
   "execution_count": null,
   "id": "a485f916",
   "metadata": {},
   "outputs": [],
   "source": [
    "# Kv Calculations Using the Hyperplane Fitting\n",
    "value=0.00020961432864185497\n",
    "# kv_2=np.repeat(7.49795279e-05,len(pirani_pres[strt_ind2:]))\n",
    "# kv_3=np.repeat(7.49795279e-05,len(pirani_pres[strt_ind3:]))\n",
    "# kv_4=np.repeat(7.49795279e-05,len(pirani_pres[strt_ind4:]))\n",
    "kv_2=np.repeat(value,len(pirani_pres[strt_ind2:stop_ind]))\n",
    "kv_3=np.repeat(value,len(pirani_pres[strt_ind3:stop_ind]))\n",
    "kv_4=np.repeat(value,len(pirani_pres[strt_ind4:stop_ind]))"
   ]
  },
  {
   "cell_type": "code",
   "execution_count": null,
   "id": "b4686e9c",
   "metadata": {},
   "outputs": [],
   "source": [
    "print(kv_2.shape)\n",
    "print(kv_3.shape)\n",
    "print(kv_4.shape)"
   ]
  },
  {
   "cell_type": "markdown",
   "id": "a7553629",
   "metadata": {},
   "source": [
    "### Heat Flow"
   ]
  },
  {
   "cell_type": "code",
   "execution_count": null,
   "id": "117c7623",
   "metadata": {},
   "outputs": [],
   "source": [
    "#Heat Flow Calculations\n",
    "def heat_flow(T,K,index): #inputs are temperature and vial heat transfer coefficient\n",
    "    hf=np.zeros((K.size))\n",
    "    for i in range(len(K)):\n",
    "        hf[i]=abs(Tp[i+index]-T[i+index])*K[i] #Make sure we are sampling the time points correctly\n",
    "    return hf"
   ]
  },
  {
   "cell_type": "code",
   "execution_count": null,
   "id": "eafdb815",
   "metadata": {},
   "outputs": [],
   "source": [
    "#HF calc. values\n",
    "hf_2_old=heat_flow(T_2N,kv_2,strt_ind2)\n",
    "hf_3_old=heat_flow(T_3N,kv_3,strt_ind3)\n",
    "hf_4_old=heat_flow(T_4N,kv_4,strt_ind4)\n",
    "hf_core_old=heat_flow(T_core,kv_4,strt_ind4)\n",
    "#Store indices where hf is zero for later use\n",
    "ind2_zero=[]\n",
    "ind3_zero=[]\n",
    "ind4_zero=[]\n",
    "indc_zero=[]\n",
    "for i in range(len(hf_2_old)):\n",
    "    if hf_2_old[i]==0:\n",
    "        ind2_zero.append(i)\n",
    "for i in range(len(hf_3_old)):\n",
    "    if hf_3_old[i]==0:\n",
    "        ind3_zero.append(i)\n",
    "\n",
    "for i in range(len(hf_4_old)):\n",
    "    if hf_4_old[i]==0:\n",
    "        ind4_zero.append(i)\n",
    "for i in range(len(hf_core_old)):\n",
    "    if hf_core_old[i]==0:\n",
    "        indc_zero.append(i) \n",
    "# #Remove all zero values to prevent infinite resistance calculations\n",
    "hf_2=np.array([i for i in hf_2_old if i != 0])\n",
    "hf_3=np.array([i for i in hf_3_old if i != 0])\n",
    "hf_4=np.array([i for i in hf_4_old if i != 0])\n",
    "hf_core=np.array([i for i in hf_core_old if i != 0])\n",
    "\n",
    "print(\"Size:\",hf_2.shape)\n",
    "print(\"Size:\",hf_3.shape)\n",
    "print(\"Size:\",hf_4.shape)\n",
    "print(\"Size:\",hf_core.shape)\n",
    "#Now no need to use the start/stop indices because everything will depend on previous steps that we already truncated"
   ]
  },
  {
   "cell_type": "code",
   "execution_count": null,
   "id": "7b4efd5d",
   "metadata": {},
   "outputs": [],
   "source": [
    "#Setting Zero Initial Condition\n",
    "hf_2[0]=0    \n",
    "hf_3[0]=0\n",
    "hf_4[0]=0\n",
    "hf_core[0]=0"
   ]
  },
  {
   "cell_type": "markdown",
   "id": "83ecbe9b",
   "metadata": {},
   "source": [
    "### Sublimation Rate"
   ]
  },
  {
   "cell_type": "code",
   "execution_count": null,
   "id": "a826212e",
   "metadata": {},
   "outputs": [],
   "source": [
    "#Sub. Rate Calc.\n",
    "def sub_rate(HF,S): #inputs are heat flow and outer surface area\n",
    "    sr=HF*(S/676)\n",
    "    return sr"
   ]
  },
  {
   "cell_type": "code",
   "execution_count": null,
   "id": "24179f16",
   "metadata": {},
   "outputs": [],
   "source": [
    "#Sublimation Rate Calc. Values\n",
    "sr_2=sub_rate(hf_2,SAout)\n",
    "sr_3=sub_rate(hf_3,SAout)\n",
    "sr_4=sub_rate(hf_4,SAout)\n",
    "sr_core=sub_rate(hf_core,SAout)\n",
    "print(\"Size:\",sr_2.shape)\n",
    "print(\"Size:\",sr_3.shape)\n",
    "print(\"Size:\",sr_4.shape) #These shapes should match the heatflow shapes\n",
    "print(\"Size:\",sr_core.shape)"
   ]
  },
  {
   "cell_type": "code",
   "execution_count": null,
   "id": "238a69d1",
   "metadata": {},
   "outputs": [],
   "source": [
    "print(sr_2)"
   ]
  },
  {
   "cell_type": "markdown",
   "id": "b23a6945",
   "metadata": {},
   "source": [
    "### Mass Sublimed"
   ]
  },
  {
   "cell_type": "code",
   "execution_count": null,
   "id": "3b58bd95",
   "metadata": {},
   "outputs": [],
   "source": [
    "#Mass Sublimed Function\n",
    "    #The index is the spreadsheet row-2\n",
    "def mass_sub(SR,t,index): #inputs are sublimation rate. time elapsed and start index(indicating beginning of sublimation)\n",
    "    ms=np.zeros(SR.shape) #initialize array to store mass sublimed \n",
    "    for i in range(SR.shape[0]):\n",
    "        if i==0:\n",
    "            ms[i]=0\n",
    "        else:\n",
    "            ms[i]=ms[i-1]+((SR[i-1]+SR[i])/2)*(t_m[i+index]-t_m[i-1+index])*60 #Making sure to match the time indices\n",
    "    return ms"
   ]
  },
  {
   "cell_type": "code",
   "execution_count": null,
   "id": "6fe03e76",
   "metadata": {},
   "outputs": [],
   "source": [
    "#Mass Sublimed Calc. Values\n",
    "ms_2=mass_sub(sr_2,t_m,strt_ind2)\n",
    "ms_3=mass_sub(sr_3,t_m,strt_ind3) \n",
    "ms_4=mass_sub(sr_4,t_m,strt_ind4)\n",
    "ms_core=mass_sub(sr_core,t_m,strt_ind4)\n",
    "\n",
    "print(\"Size:\",ms_2.shape)\n",
    "print(\"Size:\",ms_3.shape)\n",
    "print(\"Size:\",ms_4.shape) #Should match sublimation rate shapes\n",
    "print(ms_2)"
   ]
  },
  {
   "cell_type": "markdown",
   "id": "14a1e30e",
   "metadata": {},
   "source": [
    "### Dry Layer Height"
   ]
  },
  {
   "cell_type": "code",
   "execution_count": 42,
   "id": "98d105c8",
   "metadata": {},
   "outputs": [],
   "source": [
    "#Dry Layer Height Function\n",
    "def dry_h(MS): #Input is mass sublimated\n",
    "    dlh=MS/(ice_dens*water_cont*SAin) #Since we set ms[0]=0, no need to reset initial conditions here\n",
    "    return dlh"
   ]
  },
  {
   "cell_type": "code",
   "execution_count": 43,
   "id": "1d9785e6",
   "metadata": {},
   "outputs": [
    {
     "name": "stdout",
     "output_type": "stream",
     "text": [
      "Size: (544,)\n",
      "Size: (544,)\n",
      "Size: (543,)\n",
      "Final Dry Layer Height Predicted By Model: 0.8991090044579073\n"
     ]
    }
   ],
   "source": [
    "#Dry Layer Height Calculated\n",
    "dlh_2=dry_h(ms_2)\n",
    "dlh_3=dry_h(ms_3)\n",
    "dlh_4=dry_h(ms_4)\n",
    "dlh_core=dry_h(ms_core)\n",
    "\n",
    "print(\"Size:\",dlh_2.shape)\n",
    "print(\"Size:\",dlh_3.shape)\n",
    "print(\"Size:\",dlh_4.shape) #Again sizes should match up\n",
    "print(\"Final Dry Layer Height Predicted By Model:\",dlh_2[dlh_2.shape[0]-1])"
   ]
  },
  {
   "cell_type": "markdown",
   "id": "01402034",
   "metadata": {},
   "source": [
    "Note: Model predicts the dry layer height well as this value is close to what was measured experimentally as the dry layer height."
   ]
  },
  {
   "cell_type": "markdown",
   "id": "07dd1331",
   "metadata": {},
   "source": [
    "### Sublimation Temperature"
   ]
  },
  {
   "cell_type": "code",
   "execution_count": 44,
   "id": "f1715198",
   "metadata": {},
   "outputs": [],
   "source": [
    "# Sublimation Temperature Function\n",
    "def sub_temp(T,HF,DLH,strt_index,index,stop_index): #inputs are temperature,heat flow,dry layer height,start index and the zeros HF index\n",
    "    f=((HF*(dry_cake-DLH))/lam)\n",
    "    T=T[strt_index:stop_index]\n",
    "    T=np.delete(T, index)\n",
    "    T=T.reshape(f.size) #Get rid of the extra second dimension\n",
    "    st=T-f\n",
    "    return st"
   ]
  },
  {
   "cell_type": "code",
   "execution_count": 45,
   "id": "93428459",
   "metadata": {},
   "outputs": [
    {
     "name": "stdout",
     "output_type": "stream",
     "text": [
      "Size: (544,)\n",
      "Size: (544,)\n",
      "Size: (543,)\n"
     ]
    }
   ],
   "source": [
    "# Sublimation Temperature Calculations\n",
    "st_2=sub_temp(T_2N,hf_2,dlh_2,strt_ind2,ind2_zero,stop_ind)\n",
    "st_3=sub_temp(T_3N,hf_3,dlh_3,strt_ind3,ind3_zero,stop_ind)\n",
    "st_4=sub_temp(T_4N,hf_4,dlh_4,strt_ind4,ind4_zero,stop_ind)\n",
    "st_core=sub_temp(T_core,hf_core,dlh_core,strt_ind4,indc_zero,stop_ind)\n",
    "print(\"Size:\",st_2.shape)\n",
    "print(\"Size:\",st_3.shape)\n",
    "print(\"Size:\",st_4.shape) #Again shapes should match"
   ]
  },
  {
   "cell_type": "code",
   "execution_count": 46,
   "id": "8b122a77",
   "metadata": {},
   "outputs": [],
   "source": [
    "#Set Initial Condtions\n",
    "st_2[0]=0   \n",
    "st_3[0]=0\n",
    "st_4[0]=0\n",
    "st_core[0]=0"
   ]
  },
  {
   "cell_type": "markdown",
   "id": "c4abb040",
   "metadata": {},
   "source": [
    "### Measured Resistance(Experimental)"
   ]
  },
  {
   "cell_type": "code",
   "execution_count": 47,
   "id": "1fac3322",
   "metadata": {},
   "outputs": [],
   "source": [
    "#Measured Resistance Function\n",
    "def res_calc(SP,CM,SR,strt_ind,index,stop_index): #Inputs are sublimation pressure, chamber pressure,sublimation rate and start index\n",
    "    SP=SP.reshape(SP.shape[0]) #Get rid of extra dimension\n",
    "    CM=CM.reshape(CM.shape[0])\n",
    "    SP=SP[strt_ind:stop_index]\n",
    "    CM=CM[strt_ind:stop_index] #Make sure we're extracting the correct pressures\n",
    "    SP=np.delete(SP, index)\n",
    "    CM=np.delete(CM, index)\n",
    "    r_m=(SP-CM)*(SAin/(SR*3600))\n",
    "    r_m[0]=0 #Set initial condition\n",
    "    return r_m"
   ]
  },
  {
   "cell_type": "code",
   "execution_count": 48,
   "id": "3b070944",
   "metadata": {},
   "outputs": [
    {
     "name": "stdout",
     "output_type": "stream",
     "text": [
      "Size: (544,)\n",
      "Size: (544,)\n",
      "Size: (543,)\n"
     ]
    },
    {
     "name": "stderr",
     "output_type": "stream",
     "text": [
      "<ipython-input-47-4b3398be3b6b>:9: RuntimeWarning: divide by zero encountered in true_divide\n",
      "  r_m=(SP-CM)*(SAin/(SR*3600))\n"
     ]
    }
   ],
   "source": [
    "#Measured Resistance Calculations\n",
    "rm_2=res_calc(sub_pres2,cham_pres,sr_2,strt_ind2,ind2_zero,stop_ind)\n",
    "rm_3=res_calc(sub_pres3,cham_pres,sr_3,strt_ind3,ind3_zero,stop_ind)\n",
    "rm_4=res_calc(sub_pres4,cham_pres,sr_4,strt_ind4,ind4_zero,stop_ind)\n",
    "rm_core=res_calc(sub_pres_core,cham_pres,sr_core,strt_ind4,indc_zero,stop_ind)\n",
    "\n",
    "print(\"Size:\",rm_2.shape)\n",
    "print(\"Size:\",rm_3.shape)\n",
    "print(\"Size:\",rm_4.shape) #Again shapes should match"
   ]
  },
  {
   "cell_type": "code",
   "execution_count": 49,
   "id": "2474ee39",
   "metadata": {},
   "outputs": [
    {
     "data": {
      "text/plain": [
       "Text(0, 0.5, 'Resistance[(mT*hr*cm2/g)]')"
      ]
     },
     "execution_count": 49,
     "metadata": {},
     "output_type": "execute_result"
    },
    {
     "data": {
      "image/png": "[encoded data removed]",
      "text/plain": [
       "<Figure size 432x288 with 1 Axes>"
      ]
     },
     "metadata": {
      "needs_background": "light"
     },
     "output_type": "display_data"
    }
   ],
   "source": [
    "#Visualize Measured Resistance Values\n",
    "plt.plot(dlh_2,rm_2,label=\"2NN\")\n",
    "plt.plot(dlh_3,rm_3,label=\"3NN\")\n",
    "plt.plot(dlh_4,rm_4,label=\"4NN\")\n",
    "plt.plot(dlh_core,rm_core,label=\"Core\")\n",
    "plt.title(\"Resistance Values For 4 Vial Cases\")\n",
    "plt.legend()\n",
    "plt.xlabel(\"Dry Layer(cm)\")\n",
    "plt.ylabel(\"Resistance[(mT*hr*cm2/g)]\")"
   ]
  },
  {
   "cell_type": "code",
   "execution_count": 55,
   "id": "3d5582f6",
   "metadata": {},
   "outputs": [
    {
     "data": {
      "text/plain": [
       "Text(0.5, 1.0, 'Resistance Values For 4 Vial Cases')"
      ]
     },
     "execution_count": 55,
     "metadata": {},
     "output_type": "execute_result"
    },
    {
     "data": {
      "image/png": "[encoded data removed]",
      "text/plain": [
       "<Figure size 432x288 with 1 Axes>"
      ]
     },
     "metadata": {
      "needs_background": "light"
     },
     "output_type": "display_data"
    }
   ],
   "source": [
    "plt.plot(dlh_2[0:125],rm_2[0:125],label=\"2NN\")\n",
    "plt.plot(dlh_3[0:125],rm_3[0:125],label=\"3NN\")\n",
    "plt.plot(dlh_4[0:125],rm_4[0:125],label=\"4NN\")\n",
    "plt.plot(dlh_core[0:125],rm_core[0:125],label=\"Core\")\n",
    "plt.legend()\n",
    "plt.xlabel(\"Dry Layer(cm)\")\n",
    "plt.ylabel(\"Resistance[(mT*hr*cm2/g)]\")\n",
    "plt.title(\"Resistance Values For 4 Vial Cases\")"
   ]
  },
  {
   "cell_type": "markdown",
   "id": "c3fdccdb",
   "metadata": {},
   "source": [
    "### OLS for Resistance "
   ]
  },
  {
   "cell_type": "code",
   "execution_count": 51,
   "id": "be706e44",
   "metadata": {},
   "outputs": [
    {
     "name": "stdout",
     "output_type": "stream",
     "text": [
      "(544,)\n",
      "4\n",
      "[[0.000e+00 5.250e+04 2.000e+00]\n",
      " [0.000e+00 9.300e+04 3.500e+00]\n",
      " [0.000e+00 1.201e+05 5.900e+00]\n",
      " [0.000e+00 1.201e+05 5.900e+00]]\n"
     ]
    }
   ],
   "source": [
    "R_calc=np.array([rm_2,rm_3,rm_4,rm_core],dtype=\"object\")\n",
    "d=np.array([dlh_2,dlh_3,dlh_4,dlh_core],dtype=\"object\")\n",
    "print(R_calc[1].shape)\n",
    "print(len(R_calc))\n",
    "ic2=np.array([0,52500,2])\n",
    "ic3=np.array([0,93000,3.5])\n",
    "ic4=np.array([0,120100,5.9])\n",
    "ic_c=np.array([0,120100,5.9])\n",
    "ic=np.array([ic2,ic3,ic4,ic_c])\n",
    "print(ic)"
   ]
  },
  {
   "cell_type": "code",
   "execution_count": 52,
   "id": "712ec050",
   "metadata": {},
   "outputs": [
    {
     "name": "stdout",
     "output_type": "stream",
     "text": [
      "Time I fitted to(hrs): 10.416666666666666\n"
     ]
    }
   ],
   "source": [
    "print(\"Time I fitted to(hrs):\",t_m[125]/60)"
   ]
  },
  {
   "cell_type": "code",
   "execution_count": 53,
   "id": "fac8375e",
   "metadata": {},
   "outputs": [
    {
     "name": "stdout",
     "output_type": "stream",
     "text": [
      "0\n",
      "Current Vial Case: 2NN\n",
      "Parameters for 2NN : [2.37967969e-04 1.50500000e+05 3.92977818e+00]\n",
      "1\n",
      "Current Vial Case: 3NN\n",
      "Parameters for 3NN : [2.11020015e+02 1.50001112e+05 4.23697031e+00]\n",
      "2\n",
      "Current Vial Case: 4NN\n",
      "Parameters for 4NN : [2.30943948e-03 1.20100000e+05 4.58371880e+00]\n",
      "3\n",
      "Current Vial Case: core\n",
      "Parameters for core : [1.42191708e-03 1.20100000e+05 3.65804215e+00]\n"
     ]
    },
    {
     "data": {
      "image/png": "[encoded data removed]",
      "text/plain": [
       "<Figure size 360x720 with 4 Axes>"
      ]
     },
     "metadata": {
      "needs_background": "light"
     },
     "output_type": "display_data"
    }
   ],
   "source": [
    "#Least Squares Fitting of Resistance Values\n",
    "\n",
    "#Define matrices to hold Calculated Resistance Values,Dry Layer Height(measured), and initial condition estimates\n",
    "R_calc_all=np.array([rm_2,rm_3,rm_4,rm_core],dtype=\"object\")\n",
    "d_all=np.array([dlh_2,dlh_3,dlh_4,dlh_core],dtype=\"object\")\n",
    "ic2=np.array([0,150500,2])\n",
    "ic3=np.array([0,150000,500])\n",
    "ic4=np.array([0,120100,5.9])\n",
    "ic_c=np.array([0,120100,5.9])\n",
    "#ic4=np.array([0,60000,450])\n",
    "ic=np.array([ic2,ic3,ic4,ic_c])\n",
    "#x=np.array([rm_2.shape[0],rm_3.shape[0],rm_4.shape[0]]) #I tried this first to see if fitting until end of primary drying would be better\n",
    "x=np.array([125,125,125,125]) #ending up fitting up to the 125th time step ()\n",
    "model=[\"2NN\",\"3NN\",\"4NN\",\"core\"]\n",
    "plt.figure(figsize=(5, 10))\n",
    "for i in range(len(R_calc_all)): #loop over vial cases\n",
    "    print(i)\n",
    "    print(\"Current Vial Case:\",model[i])\n",
    "    R_calc=(R_calc_all[i][0:x[i]]).astype(\"float\") #Select appropriate R and d values for this run, and truncate \n",
    "    d=(d_all[i][0:x[i]]).astype(\"float\")\n",
    "    #Define Residuals Function\n",
    "    def residuals(theta,d,R_calc):\n",
    "        R_fit = theta[0]+((theta[1]*d)/(1+theta[2]*d)) #Calculated Resistance\n",
    "        res=R_fit-R_calc      \n",
    "        return res\n",
    "\n",
    "    #Define Parameter Set\n",
    "        #theta=[a,b,c]\n",
    "    theta_0=(ic[i]).astype(\"float\") #Set initial Condition\n",
    "\n",
    "    #Least Squares Fitting\n",
    "    param=least_squares(residuals,theta_0, loss='soft_l1', f_scale=0.1,args=(d,R_calc))\n",
    "    print(\"Parameters for\",model[i],\":\",param.x)\n",
    "    \n",
    "    #Find predicted resistance values\n",
    "    R_pred=param.x[0]+((param.x[1]*d)/(1+param.x[2]*d)) \n",
    "\n",
    "    #Plotting\n",
    "    labels_p=[\"2NN Predicted\",\"3NN Predicted\",\"4NN Predicted\",\"Core Predicted\"]\n",
    "    labels_m=[\"2NN Measured\",\"3NN Measured\",\"4NN Measured\",\"Core Measured\"]\n",
    "    plt.subplot(4, 1, i+1)\n",
    "    plt.plot(d,R_pred,label=labels_p[i])\n",
    "    plt.plot(d,R_calc,label=labels_m[i])\n",
    "    plt.xlabel(\"Dry Layer Height(cm)\")\n",
    "    plt.ylabel(\"Resistance[(mT*hr*cm2/g)]\")\n",
    "    plt.title(\"Fitted vs Measured Resistance\")\n",
    "    plt.legend()\n",
    "    plt.tight_layout()"
   ]
  },
  {
   "cell_type": "markdown",
   "id": "3e58efe7",
   "metadata": {},
   "source": [
    "### Another Package for higher order fitting\n",
    "https://lmfit.github.io/lmfit-py/\n",
    "\n",
    "Might try this? Dont know what our acceptance criteria is. "
   ]
  },
  {
   "cell_type": "markdown",
   "id": "a3231fff",
   "metadata": {},
   "source": [
    "https://stackoverflow.com/questions/51972637/nonlinear-regression-with-python-whats-a-simple-method-to-fit-this-data-bette   "
   ]
  },
  {
   "cell_type": "markdown",
   "id": "01b9c8b2",
   "metadata": {},
   "source": [
    "https://docs.scipy.org/doc/scipy/reference/generated/scipy.optimize.least_squares.html"
   ]
  },
  {
   "cell_type": "markdown",
   "id": "8056be04",
   "metadata": {},
   "source": [
    "# Extra Stuff"
   ]
  },
  {
   "cell_type": "code",
   "execution_count": 54,
   "id": "671a5e1a",
   "metadata": {},
   "outputs": [
    {
     "name": "stdout",
     "output_type": "stream",
     "text": [
      "[1.05010025e+02 6.00023663e+04 1.48194889e+00]\n"
     ]
    },
    {
     "data": {
      "image/png": "[encoded data removed]",
      "text/plain": [
       "<Figure size 432x288 with 1 Axes>"
      ]
     },
     "metadata": {
      "needs_background": "light"
     },
     "output_type": "display_data"
    }
   ],
   "source": [
    "#Least Squares Fitting of Resistance Values\n",
    "\n",
    "#Define matrices to hold Calculated Resistance Values and Dry Layer Height\n",
    "R_calc=rm_4[0:125]\n",
    "d=dlh_4[0:125]\n",
    "\n",
    "#Define Residuals Function\n",
    "def residuals(theta,d,R_calc):\n",
    "    R_fit = theta[0]+((theta[1]*d)/(1+theta[2]*d)) #Calculated Resistance\n",
    "    res=R_fit-R_calc\n",
    "    return res\n",
    "\n",
    "#Define Parameter Set\n",
    "    #theta=[a,b,c]\n",
    "\n",
    "#theta_0=[0,120100,5.9] #Random guess for initial conditions #Model Changes as we change initial conditions\n",
    "theta_0=[0,60000,450]\n",
    "\n",
    "#Least Squares Fitting\n",
    "res1=least_squares(residuals,theta_0, loss='soft_l1', f_scale=0.1,args=(d,R_calc))\n",
    "print(res1.x)\n",
    "\n",
    "#Plotting\n",
    "R_pred=res1.x[0]+((res1.x[1]*d)/(1+res1.x[2]*d)) \n",
    "plt.plot(dlh_4[0:125],R_pred,label=\"4NN Predicted\")\n",
    "plt.plot(dlh_4[0:125],rm_4[0:125],label=\"4NN Measured\")\n",
    "plt.xlabel(\"Time(s)\")\n",
    "plt.ylabel(\"Resistance[(mT*hr*cm2/g)]\")\n",
    "plt.title(\"Resistance Values Across All Time\")\n",
    "plt.legend()\n",
    "plt.tight_layout()"
   ]
  },
  {
   "cell_type": "code",
   "execution_count": null,
   "id": "f9efda70",
   "metadata": {},
   "outputs": [],
   "source": []
  }
 ],
 "metadata": {
  "kernelspec": {
   "display_name": "Python 3",
   "language": "python",
   "name": "python3"
  },
  "language_info": {
   "codemirror_mode": {
    "name": "ipython",
    "version": 3
   },
   "file_extension": ".py",
   "mimetype": "text/x-python",
   "name": "python",
   "nbconvert_exporter": "python",
   "pygments_lexer": "ipython3",
   "version": "3.8.8"
  }
 },
 "nbformat": 4,
 "nbformat_minor": 5
}
