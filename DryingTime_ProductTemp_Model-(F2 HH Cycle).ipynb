{
 "cells": [
  {
   "cell_type": "markdown",
   "id": "c7eb5e69",
   "metadata": {},
   "source": [
    "# Drying Time and Product Temperature Calculations"
   ]
  },
  {
   "cell_type": "code",
   "execution_count": 356,
   "id": "dcb70dd8",
   "metadata": {},
   "outputs": [],
   "source": [
    "#Outputs: \n",
    "    #Drying Time Calculations\n",
    "    #Product Temperature Calculations\n",
    "    #Least squares Fitting of Tproduct based on Kv values and Resistance fitting(Equation 3)"
   ]
  },
  {
   "cell_type": "code",
   "execution_count": 357,
   "id": "366d3639",
   "metadata": {},
   "outputs": [],
   "source": [
    "#Libraries\n",
    "import matplotlib.pyplot as plt\n",
    "import numpy as np\n",
    "from scipy.optimize import least_squares\n",
    "import pandas as pd\n",
    "import os\n",
    "import warnings\n",
    "warnings.filterwarnings('ignore')\n",
    "import math"
   ]
  },
  {
   "cell_type": "markdown",
   "id": "7103d88a",
   "metadata": {},
   "source": [
    "## Resistance Parameters from Resistance Fitting Model"
   ]
  },
  {
   "cell_type": "markdown",
   "id": "e42a6da4",
   "metadata": {},
   "source": [
    "Parameters for 2NN : [2.37967969e-04 1.50500000e+05 3.92977818e+00]\n",
    "\n",
    "Parameters for 3NN : [2.11020015e+02 1.50001112e+05 4.23697031e+00]\n",
    "\n",
    "Parameters for 4NN : [2.30943948e-03 1.20100000e+05 4.58371880e+00]\n",
    "\n",
    "Parameters for core : [1.42191708e-03 1.20100000e+05 3.65804215e+00]"
   ]
  },
  {
   "cell_type": "markdown",
   "id": "512f0d69",
   "metadata": {},
   "source": [
    "## Product Temperature"
   ]
  },
  {
   "cell_type": "markdown",
   "id": "74215180",
   "metadata": {},
   "source": [
    "### Load Excel Sheet"
   ]
  },
  {
   "cell_type": "code",
   "execution_count": 358,
   "id": "c9167c61",
   "metadata": {},
   "outputs": [
    {
     "name": "stdout",
     "output_type": "stream",
     "text": [
      "['Timestamp', ' SPLYO.CONDENSER_TEMPERATURE.F_CV', ' SPLYO.SHELF_OUTLET.F_CV', ' SPLYO.SHELF_INLET.F_CV', ' SPLYO.SHELF_SP.F_CV', ' SPLYO.TC_AVG.F_CV', ' SPLYO.VACUUM_SP.F_CV', ' SPLYO.CHAMBER_CM.F_CV', ' SPLYO.ROUGH_VACUUM.F_CV', ' SPLYO.CHAMBER_PIRANI.F_CV', ' SPLYO.CONDENSER_VACUUM.F_CV']\n"
     ]
    }
   ],
   "source": [
    "#Initial Data(SV File)\n",
    "file_location = r'C:\\Users\\sbadih\\OneDrive - Gilead Sciences\\Trodelvy 2.0 Modelling Data\\220711-GS0132_SV_hrs.xlsx'\n",
    "assert os.path.isfile(file_location)\n",
    "df = pd.read_excel(file_location,sheet_name='220711-GS0132_SV_hrs')\n",
    "print(list(df.columns))"
   ]
  },
  {
   "cell_type": "code",
   "execution_count": 359,
   "id": "1de8a60c",
   "metadata": {},
   "outputs": [],
   "source": [
    "#Load Brandy's Excel Sheet for Drying\n",
    "file_location1 = r'C:\\Users\\sbadih\\OneDrive - Gilead Sciences\\Tchessalov Model\\Tchessalov model spreadsheet-Find Drying Time and Product Temp.xlsx'\n",
    "assert os.path.isfile(file_location1)\n",
    "df1 = pd.read_excel(file_location1,sheet_name='Model 150 mgmL') #Chose random condition as a test sample"
   ]
  },
  {
   "cell_type": "code",
   "execution_count": 360,
   "id": "c84de790",
   "metadata": {},
   "outputs": [
    {
     "name": "stdout",
     "output_type": "stream",
     "text": [
      "Headers:\n",
      "['Timestamp', ' SPLYO.TC01.F_CV', ' SPLYO.TC02.F_CV', ' SPLYO.TC03.F_CV', ' SPLYO.TC04.F_CV', ' SPLYO.TC05.F_CV', ' SPLYO.TC06.F_CV', ' SPLYO.TC07.F_CV', ' SPLYO.TC08.F_CV', ' SPLYO.TC09.F_CV', ' SPLYO.TC10.F_CV', ' SPLYO.TC11.F_CV', ' SPLYO.TC12.F_CV', ' SPLYO.TC13.F_CV', ' SPLYO.TC14.F_CV', ' SPLYO.TC15.F_CV', ' SPLYO.TC16.F_CV', ' SPLYO.TC_AVG.F_CV']\n"
     ]
    }
   ],
   "source": [
    "# Load Data(PP File)\n",
    "file_location2 = r'C:\\Users\\sbadih\\OneDrive - Gilead Sciences\\Trodelvy 2.0 Modelling Data\\220711_GS0132_PP_hrs.xlsx'\n",
    "assert os.path.isfile(file_location2)\n",
    "df2 = pd.read_excel(file_location2,sheet_name='220711_GS0132_PP_hrs')\n",
    "print(\"Headers:\")\n",
    "print(list(df2.columns))"
   ]
  },
  {
   "cell_type": "markdown",
   "id": "2b15aa2c",
   "metadata": {},
   "source": [
    "### Load Parameters"
   ]
  },
  {
   "cell_type": "code",
   "execution_count": 361,
   "id": "f0d260a8",
   "metadata": {},
   "outputs": [],
   "source": [
    "#Function to Calc. Sublimation Pressure\n",
    "def sub_p(T): #input is temperature\n",
    "    sp=(np.exp(24.01849-6144.96/((T)+273)))*1000\n",
    "    return sp"
   ]
  },
  {
   "cell_type": "code",
   "execution_count": 362,
   "id": "07611ab9",
   "metadata": {},
   "outputs": [],
   "source": [
    "#Extract required variables to find the start and stop index\n",
    "cham_pres=((df[[' SPLYO.CHAMBER_CM.F_CV']]).values)\n",
    "pirani_pres=(df[[' SPLYO.CHAMBER_PIRANI.F_CV']].values)\n",
    "#Find Nested Configuration Temperatures\n",
    "T_2N=(df2[[' SPLYO.TC06.F_CV']]).values\n",
    "T_3N=(df2[[' SPLYO.TC03.F_CV']]).values\n",
    "T_4N=(df2[[' SPLYO.TC01.F_CV']]).values\n",
    "sub_pres2=sub_p(T_2N)\n",
    "sub_pres3=sub_p(T_3N)\n",
    "sub_pres4=sub_p(T_4N)"
   ]
  },
  {
   "cell_type": "code",
   "execution_count": 363,
   "id": "5509d5eb",
   "metadata": {},
   "outputs": [
    {
     "name": "stdout",
     "output_type": "stream",
     "text": [
      "Start Index for 2NN: 18\n",
      "Start Index for 3NN: 18\n",
      "Start Index for 4NN: 18\n",
      "Strt Index: 18\n",
      "Stop Index is: 58\n"
     ]
    }
   ],
   "source": [
    "#Find Index Information(Same as Resistance Sheet)\n",
    "# 2NN\n",
    "minimum=[]\n",
    "ind=[]\n",
    "for i in range(len(cham_pres)):\n",
    "    if sub_pres2[i]<98.5:\n",
    "        ind.append(i)\n",
    "        minimum.append(cham_pres[i]-sub_pres2[i])\n",
    "minimum=np.array(minimum) #convert list to array\n",
    "min_ind2=np.argmin(minimum) #Find the index in the minimum array where the minimum difference occurs\n",
    "strt_ind2=ind[min_ind2] #Find the index in the sublimation pressure where the minimum occurs\n",
    "# 3NN\n",
    "minimum=[]\n",
    "ind=[]\n",
    "for i in range(len(cham_pres)):\n",
    "    if sub_pres3[i]<98.5:\n",
    "        ind.append(i)\n",
    "        minimum.append(cham_pres[i]-sub_pres3[i])\n",
    "minimum=np.array(minimum) #convert list to array\n",
    "min_ind3=np.argmin(minimum) #Find the index in the minimum array where the minimum difference occurs\n",
    "strt_ind3=ind[min_ind3] #Find the index in the sublimation pressure where the minimum occurs\n",
    "\n",
    "# 4NN\n",
    "minimum=[]\n",
    "ind=[]\n",
    "for i in range(len(cham_pres)):\n",
    "    if sub_pres4[i]<98.5:\n",
    "        ind.append(i)\n",
    "        minimum.append(cham_pres[i]-sub_pres4[i])\n",
    "minimum=np.array(minimum) #convert list to array\n",
    "min_ind4=np.argmin(minimum) #Find the index in the minimum array where the minimum difference occurs\n",
    "strt_ind4=ind[min_ind4] #Find the index in the sublimation pressure where the minimum occurs\n",
    "\n",
    "print(\"Start Index for 2NN:\",strt_ind2)\n",
    "print(\"Start Index for 3NN:\",strt_ind3)\n",
    "print(\"Start Index for 4NN:\",strt_ind4)\n",
    "\n",
    "#Stop Index\n",
    "index=[]\n",
    "diff=[]\n",
    "for i in range(len(pirani_pres[strt_ind2:])): #start where the primary drying starts\n",
    "    if pirani_pres[strt_ind2+i]<128:\n",
    "        index.append(i+strt_ind2)\n",
    "   #Stop Index is the same for all vial configurations \n",
    "stop_ind=index[0] #pick the timestamp where the pirani goes close to 125. This only applies to HH cycle\n",
    "\n",
    "tol=1E-10\n",
    "if abs(strt_ind2-strt_ind3)<tol and abs(strt_ind3-strt_ind4)<tol and abs(strt_ind2-strt_ind4)<tol:\n",
    "    strt_ind=strt_ind2\n",
    "    print(\"Strt Index:\",strt_ind)\n",
    "# stop_ind=67\n",
    "print(\"Stop Index is:\",stop_ind)"
   ]
  },
  {
   "cell_type": "code",
   "execution_count": 364,
   "id": "9e9659b1",
   "metadata": {},
   "outputs": [],
   "source": [
    "# #Stop Index (initial method, gave me wrong answer)\n",
    "# index=[]\n",
    "# diff=[]\n",
    "# for i in range(len(pirani_pres[strt_ind2:])): #start where the primary drying starts\n",
    "#     if cham_pres[i+strt_ind2]<100:\n",
    "#         index.append(i+strt_ind2)\n",
    "#         diff.append(pirani_pres[i+strt_ind2]-cham_pres[i+strt_ind2])\n",
    "# diff=np.array(diff)\n",
    "# min_diff=np.argmin(diff) #find index where minimum occurs\n",
    "#    #Stop Index is the same for all vial configurations \n",
    "# stop_ind=index[min_diff]"
   ]
  },
  {
   "cell_type": "markdown",
   "id": "ebad9d52",
   "metadata": {},
   "source": [
    "#Based on Mckenzies calcs.\n",
    "stop_ind=69\n",
    "strt_ind=21"
   ]
  },
  {
   "cell_type": "code",
   "execution_count": 365,
   "id": "69f9c856",
   "metadata": {},
   "outputs": [
    {
     "name": "stdout",
     "output_type": "stream",
     "text": [
      "Kv Values Shape: (40,)\n"
     ]
    }
   ],
   "source": [
    "#Elapsed Time Array\n",
    "time=(df[['Timestamp']]).values #every hour\n",
    "cycle_time=(np.arange(0,len(time),1))[strt_ind:stop_ind] #Create array for time passed in increments of 1 hour\n",
    "\n",
    "#Pirani Pressure\n",
    "pirani_pres=((df[[' SPLYO.CHAMBER_PIRANI.F_CV']]).values)[strt_ind:stop_ind]\n",
    "\n",
    "#Chamber Pressure\n",
    "cham_pres=(((df[[' SPLYO.CHAMBER_CM.F_CV']]).values)/1000)[strt_ind:stop_ind] #This is the capacitance monometer reading(Torr)\n",
    "\n",
    "shelf_temp=((df[[' SPLYO.SHELF_SP.F_CV']]).values)[strt_ind:stop_ind] ##Check which one this should be?\n",
    "shelf_temp=shelf_temp.reshape(-1)\n",
    "\n",
    "#Store resistance values in a 3 by 3 matrix for 2,3,4NN vial configurations\n",
    "    #Note this is extracted from the resistance calculation sheets(Tchessalov Model)\n",
    "cake_res_param=np.array(([2.37967969e-04,1.50500000e+05,3.92977818e+00],[2.11020015e+02,1.50001112e+05,4.23697031e+00],[2.30943948e-03,1.20100000e+05,4.58371880e+00],[1.42191708e-03,1.20100000e+05,3.65804215e+00]))\n",
    "\n",
    "Kv_param=np.array([2.50434209e-06,-5.18465628e-05,-6.31311756e-04])\n",
    "Kv_values=np.repeat(0.00020961432864185497,len(pirani_pres)) #From Kv Fitting model, doesn't change based on vial configuration\n",
    "print(\"Kv Values Shape:\",Kv_values.shape)\n",
    "#0.00020961432864185497\n",
    "#Input Parameters\n",
    "vial_capac=20 #Using 20R vials\n",
    "SAin=5.982843996\n",
    "Din=2.76\n",
    "Dout=3\n",
    "ice_den=0.918\n",
    "den=1.036\n",
    "fill_volume=6.3\n",
    "water_cont=0.484\n",
    "dry_cake=(fill_volume*den)/(SAin*ice_den)\n",
    "vial_numbers=86 #Number of filled vials only\n",
    "T_critical=-21.2 #Collapse temp. in Celsius for F2\n",
    "lam=0.00358 #constant"
   ]
  },
  {
   "cell_type": "code",
   "execution_count": 366,
   "id": "335d3d68",
   "metadata": {},
   "outputs": [
    {
     "name": "stdout",
     "output_type": "stream",
     "text": [
      "[18 19 20 21 22 23 24 25 26 27 28 29 30 31 32 33 34 35 36 37 38 39 40 41\n",
      " 42 43 44 45 46 47 48 49 50 51 52 53 54 55 56 57]\n"
     ]
    }
   ],
   "source": [
    "print(cycle_time)"
   ]
  },
  {
   "cell_type": "markdown",
   "id": "79eb6be9",
   "metadata": {},
   "source": [
    "Note: For each cycle we run will have 3 different values of resistance and only one value for Kv(based on assumption that nearest neighbours configuration doesn't effect the Kv value)."
   ]
  },
  {
   "cell_type": "markdown",
   "id": "09c826fc",
   "metadata": {},
   "source": [
    "### Heat Flux"
   ]
  },
  {
   "cell_type": "markdown",
   "id": "916efc5f",
   "metadata": {},
   "source": [
    "$$hf=(ShelfTemp-Tproduct))*Kv$$"
   ]
  },
  {
   "cell_type": "markdown",
   "id": "5b394fd5",
   "metadata": {},
   "source": [
    "### Sublimation Heat"
   ]
  },
  {
   "cell_type": "markdown",
   "id": "9720cb87",
   "metadata": {},
   "source": [
    "$$sh[i]=sh[i-1]+(hf[i]+hf[i-1])*(cycleTime[i]-cycleTime[i-1])*\\frac{3600}{2}*Dout*\\frac{pi}{4}$$"
   ]
  },
  {
   "cell_type": "markdown",
   "id": "b66d8ad6",
   "metadata": {},
   "source": [
    "### Mass of Sublimed Ice"
   ]
  },
  {
   "cell_type": "markdown",
   "id": "a8bb68ca",
   "metadata": {},
   "source": [
    "$$msi=\\frac{sh}{676}$$"
   ]
  },
  {
   "cell_type": "markdown",
   "id": "a8480468",
   "metadata": {},
   "source": [
    "### Product Dried Layer"
   ]
  },
  {
   "cell_type": "markdown",
   "id": "f3b88857",
   "metadata": {},
   "source": [
    "$$pdl=\\frac{msi}{waterCont*iceDen*Din^2*\\frac{pi}{4}}$$"
   ]
  },
  {
   "cell_type": "markdown",
   "id": "1f052159",
   "metadata": {},
   "source": [
    "### Cake Resistance"
   ]
  },
  {
   "cell_type": "markdown",
   "id": "2411817e",
   "metadata": {},
   "source": [
    "$$cakeRes=A+\\frac{(B*pdl)}{(1+C*pdl)}$$"
   ]
  },
  {
   "cell_type": "markdown",
   "id": "30374bed",
   "metadata": {},
   "source": [
    "### Ice Surface Temperature"
   ]
  },
  {
   "cell_type": "markdown",
   "id": "4861f011",
   "metadata": {},
   "source": [
    "$$TempIceSurf=Tproduct-hf*\\frac{dryCake-pdl}{lambda}$$"
   ]
  },
  {
   "cell_type": "markdown",
   "id": "2bc065ec",
   "metadata": {},
   "source": [
    "### Theoretical Pressure"
   ]
  },
  {
   "cell_type": "markdown",
   "id": "a41725e9",
   "metadata": {},
   "source": [
    "$$presPred=e^\\frac{24.01849-6144.96}{(Tice_surf+273)}$$"
   ]
  },
  {
   "cell_type": "markdown",
   "id": "6cee59a9",
   "metadata": {},
   "source": [
    "### Experimental Pressure"
   ]
  },
  {
   "cell_type": "markdown",
   "id": "a46ef5e1",
   "metadata": {},
   "source": [
    "$$pReal=chamPres+cakeRes*3600*(\\frac{Dout^2}{Din^2})*Kv*\\frac{shelfTemp-Tproduct}{676}$$"
   ]
  },
  {
   "cell_type": "markdown",
   "id": "fc330768",
   "metadata": {},
   "source": [
    "### Iterative OLS approach to fit the product temperature(T_p) by backtracking from pressure calculations"
   ]
  },
  {
   "cell_type": "code",
   "execution_count": 367,
   "id": "7218d616",
   "metadata": {},
   "outputs": [],
   "source": [
    "#OLS Function\n",
    "def ols_fit():\n",
    "    #Define Parameter Set(Initial)\n",
    "    T_p_0=(df2[[' SPLYO.TC_AVG.F_CV']]).values #Used thermocouple average as a starting point for the product temperature fitting\n",
    "    T_p_0=(T_p_0.reshape(-1))[strt_ind:stop_ind]\n",
    "    \n",
    "    #Define Residuals Function\n",
    "    def residuals(T_p): #T_p is the parameter we are fitting\n",
    "        #Need to calculate initial condition for cake resistance and Tice based on initial T_p_0 guess\n",
    "        #Go through all steps here\n",
    "        #Define function to calculate cake resistance and Tice\n",
    "        def intermed(T_p):\n",
    "            hf=(shelf_temp-T_p)*Kv_values\n",
    "            sh=np.zeros(hf.size)\n",
    "            for i in range(len(hf)):\n",
    "                if i==0:\n",
    "                    sh[i]=0\n",
    "                else:\n",
    "                    sh[i]=sh[i-1]+(hf[i]+hf[i-1])*(cycle_time[i]-cycle_time[i-1])*3600/2*Dout*Dout*np.pi/4\n",
    "            msi=sh/676\n",
    "            pdl=msi/(water_cont*ice_den*Din*Din*np.pi/4)\n",
    "            cake_res=(cake_res_param[3,0]+((cake_res_param[3,1]*pdl)/(1+cake_res_param[3,2]*pdl)))/1000\n",
    "            Tice_surf=T_p-hf*(dry_cake-pdl)/lam\n",
    "            return cake_res, Tice_surf\n",
    "        outputs=intermed(T_p) #variable to store cake res and Tice_surf\n",
    "        p_pred=np.exp(24.01849-6144.96/(outputs[1].astype(\"float64\")+273.0)) #Have to set initial condition for Tice_surf\n",
    "        #p_pred=np.exp(24.01849-6144.96/(outputs[0]+273.0)) #Have to set initial condition for Tice_surf\n",
    "        p_real=cham_pres.reshape(-1)+outputs[0]*3600*((Dout*Dout)/(Din*Din))*Kv_values*(shelf_temp-T_p)/676 #Have to set initial condition for cake_res\n",
    "        p_real=np.array(p_real, dtype=float)\n",
    "        res=p_pred-p_real\n",
    "        return res\n",
    "    #Least Squares Fitting\n",
    "    lsq=least_squares(residuals,T_p_0, loss='soft_l1', f_scale=0.1)\n",
    "    \n",
    "    #Fitted Product Temperature\n",
    "    T_p_fit=lsq.x\n",
    "    \n",
    "    return T_p_fit #final outcome T_p "
   ]
  },
  {
   "cell_type": "code",
   "execution_count": 368,
   "id": "66d63911",
   "metadata": {},
   "outputs": [
    {
     "name": "stdout",
     "output_type": "stream",
     "text": [
      "Fitted Temperature from OLS:\n",
      " [-37.23157632 -28.73977272 -24.18230373 -22.61674792 -21.73019166\n",
      " -21.15522362 -20.72976928 -20.45412883 -20.21685754 -20.0300569\n",
      " -19.89984629 -19.78740967 -19.70613464 -19.62315644 -19.57297961\n",
      " -19.5341785  -19.49578555 -19.46559787 -19.42445862 -19.41638423\n",
      " -19.39569799 -19.39739851 -19.39429398 -19.39482333 -19.38986463\n",
      " -19.39660431 -19.41468699 -19.41780691 -19.44047253 -19.45650932\n",
      " -19.47442501 -19.49408291 -19.51536277 -19.53815845 -19.562376\n",
      " -19.57937793 -19.61474035 -19.6427582  -19.66338434 -19.69361988]\n"
     ]
    },
    {
     "data": {
      "text/plain": [
       "<matplotlib.legend.Legend at 0x26b98ab21f0>"
      ]
     },
     "execution_count": 368,
     "metadata": {},
     "output_type": "execute_result"
    },
    {
     "data": {
      "image/png": "[encoded data removed]",
      "text/plain": [
       "<Figure size 432x288 with 1 Axes>"
      ]
     },
     "metadata": {
      "needs_background": "light"
     },
     "output_type": "display_data"
    }
   ],
   "source": [
    "print(\"Fitted Temperature from OLS:\\n\",ols_fit())\n",
    "plt.plot(cycle_time,ols_fit(),color=\"red\",linewidth=5,label=\"code\")\n",
    "plt.plot(cycle_time,(df2[[' SPLYO.TC_AVG.F_CV']]).values[strt_ind:stop_ind],color=\"blue\",label=\"Thermocouple Average\")\n",
    "plt.xlabel(\"Time(hrs)\")\n",
    "plt.ylabel(\"Temperature(C)\")\n",
    "plt.title(\"Fitted Product Temp From Code\")\n",
    "plt.legend()"
   ]
  },
  {
   "cell_type": "markdown",
   "id": "ea606335",
   "metadata": {},
   "source": [
    "Note: We do observe that in this cycle we are operating closer to the collapse temperature."
   ]
  },
  {
   "cell_type": "code",
   "execution_count": 369,
   "id": "7cfe73ec",
   "metadata": {},
   "outputs": [],
   "source": [
    "#Function to calculate all intermediate values used to fit the T_product\n",
    "def param(T_p):\n",
    "    hf=(shelf_temp-T_p)*Kv_values\n",
    "    sh=np.zeros(hf.size)\n",
    "    for i in range(len(hf)):\n",
    "        if i==0:\n",
    "            sh[i]=0\n",
    "        else:\n",
    "            sh[i]=sh[i-1]+(hf[i]+hf[i-1])*(cycle_time[i]-cycle_time[i-1])*3600/2*Dout*Dout*np.pi/4\n",
    "    msi=sh/676\n",
    "    pdl=msi/(water_cont*ice_den*Din*Din*np.pi/4)\n",
    "    cake_res=(cake_res_param[3,0]+((cake_res_param[3,1]*pdl)/(1+cake_res_param[3,2]*pdl)))/1000 #Want cake resistance in Torr\n",
    "    Tice_surf=T_p-hf*(dry_cake-pdl)/lam\n",
    "    return cake_res, Tice_surf, hf, msi, sh, pdl"
   ]
  },
  {
   "cell_type": "code",
   "execution_count": 370,
   "id": "75abccb0",
   "metadata": {},
   "outputs": [],
   "source": [
    "#Calculate all outputs of our model using the fitted Tproduct \n",
    "\n",
    "#T product\n",
    "T_p_model=ols_fit()\n",
    "#Heat Flux\n",
    "hf_model=param(ols_fit())[2]\n",
    "#Sublimation Heat\n",
    "sh_model=param(ols_fit())[4]\n",
    "#Mass of Sublimed Ice \n",
    "msi_model=param(ols_fit())[3]\n",
    "#Product Dried Layer\n",
    "pdl_model=param(ols_fit())[5]\n",
    "#Cake Resistance\n",
    "cake_res_model=param(ols_fit())[0]\n",
    "#Tice_surf\n",
    "Tice_model=param(ols_fit())[1]\n",
    "#Pressure(Experimental)\n",
    "p_exp_model=cham_pres.reshape(-1)+(param(ols_fit()))[0]*3600*((Dout*Dout)/(Din*Din))*Kv_values*(shelf_temp-ols_fit())/676\n",
    "#Pressure(Theoretical)\n",
    "p_theo_model=np.exp(24.01849-6144.96/((param(ols_fit()))[1].astype(\"float64\")+273))"
   ]
  },
  {
   "cell_type": "code",
   "execution_count": 371,
   "id": "0b79fdd6",
   "metadata": {},
   "outputs": [
    {
     "name": "stdout",
     "output_type": "stream",
     "text": [
      "[1.42191708e-06 4.38216023e+00 9.72257902e+00 1.32284024e+01\n",
      " 1.56923329e+01 1.75498075e+01 1.90125221e+01 2.02012205e+01\n",
      " 2.11901346e+01 2.20272578e+01 2.27467372e+01 2.33727892e+01\n",
      " 2.39231154e+01 2.44110006e+01 2.48468185e+01 2.52388964e+01\n",
      " 2.55936040e+01 2.59161075e+01 2.62105809e+01 2.64806726e+01\n",
      " 2.67294156e+01 2.69593004e+01 2.71724865e+01 2.73707236e+01\n",
      " 2.75555224e+01 2.77282312e+01 2.78900921e+01 2.80420820e+01\n",
      " 2.81850935e+01 2.83199428e+01 2.84472939e+01 2.85677661e+01\n",
      " 2.86819116e+01 2.87902241e+01 2.88931471e+01 2.89910588e+01\n",
      " 2.90843420e+01 2.91733417e+01 2.92583147e+01 2.93395327e+01]\n"
     ]
    }
   ],
   "source": [
    "print(param(ols_fit())[0])"
   ]
  },
  {
   "cell_type": "code",
   "execution_count": 372,
   "id": "dcaf0294",
   "metadata": {},
   "outputs": [
    {
     "data": {
      "image/png": "[encoded data removed]",
      "text/plain": [
       "<Figure size 360x504 with 2 Axes>"
      ]
     },
     "metadata": {
      "needs_background": "light"
     },
     "output_type": "display_data"
    }
   ],
   "source": [
    "#Plot\n",
    "plt.figure(figsize=(5, 7))\n",
    "plt.subplot(2,1,1)\n",
    "plt.plot(cycle_time,p_exp_model,marker=\"o\",label=\"Experimental Pressure(code)\")\n",
    "plt.xlabel(\"Time(hrs)\")\n",
    "plt.ylabel(\"Pressure(Torr)\")\n",
    "plt.title(\"Experimental Pressure From Code\")\n",
    "plt.legend()\n",
    "plt.subplot(2,1,2)\n",
    "plt.plot(cycle_time,p_theo_model,marker=\"o\",label=\"Theoretical Pressure(code)\")\n",
    "plt.xlabel(\"Time(hrs)\")\n",
    "plt.ylabel(\"Pressure(Torr)\")\n",
    "plt.title(\"Theoretical Pressure From Code\")\n",
    "plt.legend()\n",
    "plt.tight_layout()"
   ]
  },
  {
   "cell_type": "code",
   "execution_count": 373,
   "id": "6d58411a",
   "metadata": {},
   "outputs": [
    {
     "name": "stdout",
     "output_type": "stream",
     "text": [
      "SSE for Theoretical Vs Experimental Pressures(Model): 7.324226513854841e-18\n"
     ]
    }
   ],
   "source": [
    "#### Checkpoint(SSE) #####\n",
    "\n",
    "def sse(x1,x2):\n",
    "    sse=[]\n",
    "    for i in range(len(x1)):\n",
    "        sse.append(math.pow(x1[i]-x2[i],2))\n",
    "    sse=np.array(sse)\n",
    "    return np.sum(sse)\n",
    "print(\"SSE for Theoretical Vs Experimental Pressures(Model):\",sse(p_theo_model,p_exp_model))"
   ]
  },
  {
   "cell_type": "markdown",
   "id": "0356333a",
   "metadata": {},
   "source": [
    "## Drying Time"
   ]
  },
  {
   "cell_type": "code",
   "execution_count": 374,
   "id": "9c8c6191",
   "metadata": {},
   "outputs": [],
   "source": [
    "#Sublimation Rate Function\n",
    "def sub_rate(HF):\n",
    "    sr=np.zeros(HF.size)\n",
    "    for i in range(len(HF)):\n",
    "        if i==0:\n",
    "            sr[i]=0\n",
    "        else:\n",
    "            sr[i]=vial_numbers*HF[i]*np.pi*math.pow(Dout,2)/(4*676)\n",
    "    return sr"
   ]
  },
  {
   "cell_type": "code",
   "execution_count": 375,
   "id": "e16a142a",
   "metadata": {},
   "outputs": [],
   "source": [
    "#Sublimation Rate Calculation\n",
    "sr=sub_rate(param(ols_fit())[2]) #g/s\n",
    "sr_kg=sr*3600/1000"
   ]
  },
  {
   "cell_type": "code",
   "execution_count": 376,
   "id": "4a68b344",
   "metadata": {},
   "outputs": [],
   "source": [
    "#Percent Removed Water Function\n",
    "def perc_wat():\n",
    "    prw = ((((param(ols_fit()))[3]/water_cont)/fill_volume)/den)*100\n",
    "    return prw "
   ]
  },
  {
   "cell_type": "code",
   "execution_count": 377,
   "id": "8f8fad51",
   "metadata": {},
   "outputs": [
    {
     "name": "stdout",
     "output_type": "stream",
     "text": [
      "[ 0.          3.54334538  9.67828393 15.52309601 21.0616597  26.41769116\n",
      " 31.6487782  36.79230433 41.87177206 46.89827673 51.88518933 56.84179731\n",
      " 61.77421232 66.68611347 71.58138467 76.46554326 81.34006095 86.20601349\n",
      " 91.0630579  95.91395593]\n"
     ]
    }
   ],
   "source": [
    "#Percent Removed Water Calculation\n",
    "prw_old=perc_wat()\n",
    "ind=[]\n",
    "for i in range(len(prw_old)):\n",
    "    if prw_old[i]>100:\n",
    "        ind.append(i)\n",
    "prw=np.delete(prw_old,ind) #drop values that exceed 100\n",
    "print(prw)"
   ]
  },
  {
   "cell_type": "code",
   "execution_count": 378,
   "id": "b314b5ec",
   "metadata": {},
   "outputs": [
    {
     "name": "stdout",
     "output_type": "stream",
     "text": [
      "Pmin Parameters: [5.12 18.829 0]\n"
     ]
    },
    {
     "data": {
      "text/plain": [
       "<matplotlib.legend.Legend at 0x26b987add00>"
      ]
     },
     "execution_count": 378,
     "metadata": {},
     "output_type": "execute_result"
    },
    {
     "data": {
      "image/png": "[encoded data removed]",
      "text/plain": [
       "<Figure size 432x288 with 1 Axes>"
      ]
     },
     "metadata": {
      "needs_background": "light"
     },
     "output_type": "display_data"
    }
   ],
   "source": [
    "#Pmin (Chocked Flow) Calculation\n",
    "\n",
    "#Load a,b,c parameters (these are the ones we will use for our model)\n",
    "p_min_param=df1.iloc[3:6,13].values\n",
    "print(\"Pmin Parameters:\",p_min_param)\n",
    "p_min_model=p_min_param[0]+p_min_param[1]*sr_kg+p_min_param[2]*sr_kg*sr_kg\n",
    "plt.plot(cycle_time,p_min_model,marker=\"o\",label=\"Code pmin\")\n",
    "plt.title(\"Pmin(Chocked Flow Limit)\")\n",
    "plt.xlabel(\"Time(hrs)\")\n",
    "plt.ylabel(\"Pressure(mTorr)\")\n",
    "plt.legend()"
   ]
  },
  {
   "cell_type": "markdown",
   "id": "99160eec",
   "metadata": {},
   "source": [
    "### Final Graphs Output"
   ]
  },
  {
   "cell_type": "code",
   "execution_count": 379,
   "id": "67460678",
   "metadata": {},
   "outputs": [
    {
     "data": {
      "image/png": "[encoded data removed]",
      "text/plain": [
       "<Figure size 576x432 with 2 Axes>"
      ]
     },
     "metadata": {
      "needs_background": "light"
     },
     "output_type": "display_data"
    }
   ],
   "source": [
    "#Plot Final Graph For combined Pressures and Temperatures\n",
    "pressure=125 #only for high high cycles\n",
    "l=len(prw)\n",
    "fig,ax = plt.subplots( figsize=(8,6) )\n",
    "#Temperature axis\n",
    "ax.plot(cycle_time[0:l],\n",
    "        shelf_temp[0:l],\n",
    "        color=\"red\",label=\"Shelf Temperature(C)\")\n",
    "ax.plot(cycle_time[0:l],\n",
    "        ols_fit()[0:l],\n",
    "        color=\"pink\",marker=\"x\",label=\"T_product/T_bottom\") #T_product/T_bottom\n",
    "ax.plot(cycle_time[0:l],\n",
    "        (param(ols_fit()))[1][0:l],\n",
    "        color=\"blue\",marker=\"D\",label=\"Tice_surf/T_subl_surf\") #Tice_surf/T_subl_surf\n",
    "#Change this to real T critical\n",
    "ax.plot(cycle_time[0:l],\n",
    "        np.repeat(-20.1,cycle_time.shape[0])[0:l],\n",
    "        color=\"purple\",marker=\"*\",label=\"T_critical\") #Tcritical\n",
    "ax.set_xlabel(\"Time(hrs)\", fontsize = 14)\n",
    "ax.set_ylabel(\"Temperature(C)\", fontsize = 14)\n",
    "plt.legend(bbox_to_anchor=(1.5,0.5))\n",
    "\n",
    "#Pressure Axis\n",
    "ax2=ax.twinx()\n",
    "ax2.plot(cycle_time[0:l],prw,color=\"green\",label=\"% of removed water\") #Percent Removed Water\n",
    "ax2.plot(cycle_time[0:l],p_min_model[0:l],color=\"brown\",label=\"Pmin\") #pmin\n",
    "ax2.plot(cycle_time[0:l],np.repeat(pressure,cycle_time.shape[0])[0:l],color=\"m\",marker=\"s\",label=\"Pressure(mTorr)\") #pressure\n",
    "\n",
    "ax2.set_ylabel(\"Pressure(mTorr)/Percent Removed Water\", fontsize = 14)\n",
    "plt.legend(bbox_to_anchor=(1.5,0.75))\n",
    "plt.show()\n",
    "\n",
    "# save the plot as a file\n",
    "#fig.savefig('Final_Output1.jpg',format='jpeg')"
   ]
  },
  {
   "cell_type": "code",
   "execution_count": 380,
   "id": "970f43f6",
   "metadata": {},
   "outputs": [
    {
     "data": {
      "image/png": "[encoded data removed]",
      "text/plain": [
       "<Figure size 576x432 with 2 Axes>"
      ]
     },
     "metadata": {
      "needs_background": "light"
     },
     "output_type": "display_data"
    }
   ],
   "source": [
    "#Plot graph for Kv vs Rh\n",
    "fig,ax = plt.subplots( figsize=(8,6) )\n",
    "#Temperature axis\n",
    "ax.plot(cycle_time[0:l],\n",
    "        cake_res_model[0:l],\n",
    "        color=\"blue\",marker=\"D\",label=\"Cake Resistance\")\n",
    "ax.set_xlabel(\"Time(hrs)\", fontsize = 14)\n",
    "ax.set_ylabel(\"Cake Resistance(cm^2Torr*hr/g)\", fontsize = 14)\n",
    "plt.legend(bbox_to_anchor=(1.5,0.5))\n",
    "ax2=ax.twinx()\n",
    "ax2.plot(cycle_time[0:l],Kv_values[0:l],color=\"magenta\",label=\"Heat Transfer Coefficient\") #Percent Removed Water\n",
    "ax2.set_ylabel(\"Heat Transfer Coefficient(cal/s/K/cm^2)\", fontsize = 14)\n",
    "plt.legend(bbox_to_anchor=(1.55,0.6))\n",
    "plt.title(\"Kv vs R(h)\",fontsize=18)\n",
    "plt.show()\n",
    "# save the plot as a file\n",
    "#fig.savefig('Final_Output2.jpg',format='jpeg')"
   ]
  },
  {
   "cell_type": "code",
   "execution_count": 381,
   "id": "e3011d27",
   "metadata": {},
   "outputs": [
    {
     "name": "stdout",
     "output_type": "stream",
     "text": [
      "Drying Time Using Percent Removed Water: 37 (Hrs)\n"
     ]
    }
   ],
   "source": [
    "#Extract Drying Time \n",
    "\n",
    "#Method 1: Using percent water removed\n",
    "diff=[]\n",
    "for i in range(len(prw)):\n",
    "    if 100-prw[i]>0:\n",
    "        diff.append(100-prw[i])\n",
    "min_index=np.argmin(np.array(diff)) #Find index where percent of removed water is closest to 100\n",
    "drying_time=cycle_time[min_index]\n",
    "print(\"Drying Time Using Percent Removed Water:\",drying_time,\"(Hrs)\")\n",
    "\n",
    "# #Method 2: Using pirani and chamber pressure convergence\n",
    "# drying_time_other=cycle_time[cycle_time.shape[0]-1] #Use stop index that indicated convergence of pressures\n",
    "# print(\"Drying Time Using Pressure Convergence:\",drying_time_other,\"(Hrs)\")"
   ]
  },
  {
   "cell_type": "code",
   "execution_count": null,
   "id": "220adfba",
   "metadata": {},
   "outputs": [],
   "source": []
  }
 ],
 "metadata": {
  "kernelspec": {
   "display_name": "Python 3",
   "language": "python",
   "name": "python3"
  },
  "language_info": {
   "codemirror_mode": {
    "name": "ipython",
    "version": 3
   },
   "file_extension": ".py",
   "mimetype": "text/x-python",
   "name": "python",
   "nbconvert_exporter": "python",
   "pygments_lexer": "ipython3",
   "version": "3.8.8"
  }
 },
 "nbformat": 4,
 "nbformat_minor": 5
}
