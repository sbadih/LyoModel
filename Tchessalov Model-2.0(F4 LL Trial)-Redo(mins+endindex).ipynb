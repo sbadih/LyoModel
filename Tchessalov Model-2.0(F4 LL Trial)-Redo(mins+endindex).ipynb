{
 "cells": [
  {
   "cell_type": "code",
   "execution_count": 415,
   "id": "f6ee5f65",
   "metadata": {},
   "outputs": [],
   "source": [
    "#Libraries\n",
    "import matplotlib.pyplot as plt\n",
    "import numpy as np\n",
    "from scipy.optimize import least_squares\n",
    "import pandas as pd\n",
    "import os"
   ]
  },
  {
   "cell_type": "markdown",
   "id": "1cb89396",
   "metadata": {},
   "source": [
    "# Resistance Calculations From Lyo Cycle Data"
   ]
  },
  {
   "cell_type": "markdown",
   "id": "4c970c62",
   "metadata": {},
   "source": [
    "### Inputs, Data Loading"
   ]
  },
  {
   "cell_type": "code",
   "execution_count": 416,
   "id": "21927900",
   "metadata": {},
   "outputs": [
    {
     "name": "stdout",
     "output_type": "stream",
     "text": [
      "Dry Cake Initial Height: 1.182629899895259\n"
     ]
    }
   ],
   "source": [
    "#Input Parameters\n",
    "SAin=5.982843996\n",
    "SAout=7.0685775\n",
    "ice_dens=0.918\n",
    "dens=1.031 #Density for F4 from slides\n",
    "fill_vol=6.3\n",
    "water_cont=0.484\n",
    "dry_cake=(fill_vol*dens)/(SAin*ice_dens)\n",
    "print(\"Dry Cake Initial Height:\",dry_cake)\n",
    "lam=0.00358"
   ]
  },
  {
   "cell_type": "code",
   "execution_count": 417,
   "id": "912938c8",
   "metadata": {},
   "outputs": [
    {
     "name": "stdout",
     "output_type": "stream",
     "text": [
      "['Timestamp', ' SPLYO.CONDENSER_TEMPERATURE.F_CV', ' SPLYO.SHELF_OUTLET.F_CV', ' SPLYO.SHELF_INLET.F_CV', ' SPLYO.SHELF_SP.F_CV', ' SPLYO.TC_AVG.F_CV', ' SPLYO.VACUUM_SP.F_CV', ' SPLYO.CHAMBER_CM.F_CV', ' SPLYO.ROUGH_VACUUM.F_CV', ' SPLYO.CHAMBER_PIRANI.F_CV', ' SPLYO.CONDENSER_VACUUM.F_CV', 'Time', 'Unnamed: 12', 'Unnamed: 13', 'Unnamed: 14', 'Unnamed: 15', 'Unnamed: 16']\n",
      "[   0    5   10 ... 7185 7190 7195]\n"
     ]
    }
   ],
   "source": [
    "#Initial Data(SV File)\n",
    "file_location = r'C:\\Users\\sbadih\\OneDrive - Gilead Sciences\\Trodelvy 2.0 Modelling Data\\220701_GS0132_F4_SV_mins.xlsx'\n",
    "assert os.path.isfile(file_location)\n",
    "df = pd.read_excel(file_location,sheet_name='in')\n",
    "#df = pd.read_excel(file_location)\n",
    "print(list(df.columns))\n",
    "\n",
    "#Elapsed Time Array\n",
    "time=(df[['Timestamp']]).values #every 5 mins\n",
    "t_m=np.arange(0,len(time)*5,5) #Create array for time passed in increments of 5 mins\n",
    "print(t_m)\n",
    "\n",
    "#Pirani Pressure\n",
    "pirani_pres=(df[[' SPLYO.CHAMBER_PIRANI.F_CV']]).values\n",
    "\n",
    "#Chamber Pressure\n",
    "cham_pres=(df[[' SPLYO.CHAMBER_CM.F_CV']]).values"
   ]
  },
  {
   "cell_type": "code",
   "execution_count": 418,
   "id": "24afa60a",
   "metadata": {},
   "outputs": [
    {
     "name": "stdout",
     "output_type": "stream",
     "text": [
      "Headers:\n",
      "['Timestamp', ' SPLYO.TC01.F_CV', ' SPLYO.TC02.F_CV', ' SPLYO.TC03.F_CV', ' SPLYO.TC04.F_CV', ' SPLYO.TC05.F_CV', ' SPLYO.TC06.F_CV', ' SPLYO.TC07.F_CV', ' SPLYO.TC08.F_CV', ' SPLYO.TC09.F_CV', ' SPLYO.TC10.F_CV', ' SPLYO.TC11.F_CV', ' SPLYO.TC12.F_CV', ' SPLYO.TC13.F_CV', ' SPLYO.TC14.F_CV', ' SPLYO.TC15.F_CV', ' SPLYO.TC16.F_CV', ' SPLYO.TC_AVG.F_CV', 'Unnamed: 18', 'Unnamed: 19', 'Unnamed: 20']\n",
      "Shapes:\n",
      "(1440, 1)\n",
      "(1440,)\n",
      "(1440, 1)\n"
     ]
    }
   ],
   "source": [
    "#Initial Data(PP File)\n",
    "file_location1 = r'C:\\Users\\sbadih\\OneDrive - Gilead Sciences\\Trodelvy 2.0 Modelling Data\\220701_GS0132_F4_PP_mins.xlsx'\n",
    "assert os.path.isfile(file_location1)\n",
    "df1 = pd.read_excel(file_location1,sheet_name='in')\n",
    "print(\"Headers:\")\n",
    "print(list(df1.columns))\n",
    "\n",
    "#Find Nested Configuration Temperatures\n",
    "T_2N=(df1[[' SPLYO.TC06.F_CV']]).values\n",
    "T_3N=(df1[[' SPLYO.TC03.F_CV']]).values\n",
    "T_4N=(df1[[' SPLYO.TC01.F_CV']]).values\n",
    "Tp=(df[[' SPLYO.SHELF_OUTLET.F_CV']]).values ##Check which one this should be?\n",
    "\n",
    "#Extract Core Thermocouple (TC02)\n",
    "T_core=(df1[[' SPLYO.TC02.F_CV']]).values\n",
    "\n",
    "#Print Shape of some variables\n",
    "print(\"Shapes:\")\n",
    "print(Tp.shape)\n",
    "print(t_m.shape)\n",
    "print(pirani_pres.shape)"
   ]
  },
  {
   "cell_type": "markdown",
   "id": "6afa7e19",
   "metadata": {},
   "source": [
    "### Sublimation Pressure"
   ]
  },
  {
   "cell_type": "code",
   "execution_count": 419,
   "id": "89be85e7",
   "metadata": {},
   "outputs": [],
   "source": [
    "#Function to Calc. Sublimation Pressure\n",
    "def sub_p(T): #input is temperature\n",
    "    sp=(np.exp(24.01849-6144.96/((T)+273)))*1000\n",
    "    return sp"
   ]
  },
  {
   "cell_type": "code",
   "execution_count": 420,
   "id": "ca5bec8c",
   "metadata": {},
   "outputs": [
    {
     "name": "stdout",
     "output_type": "stream",
     "text": [
      "Sublimation Pressure Shape: (1440, 1)\n"
     ]
    }
   ],
   "source": [
    "#Store Sublimation Pressures\n",
    "sub_pres2=sub_p(T_2N)\n",
    "sub_pres3=sub_p(T_3N)\n",
    "sub_pres4=sub_p(T_4N)\n",
    "sub_pres_core=sub_p(T_core)\n",
    "print(\"Sublimation Pressure Shape:\",sub_pres2.shape)"
   ]
  },
  {
   "cell_type": "markdown",
   "id": "b6555b4b",
   "metadata": {},
   "source": [
    "##### Index Setup"
   ]
  },
  {
   "cell_type": "code",
   "execution_count": 421,
   "id": "d42cea79",
   "metadata": {},
   "outputs": [
    {
     "name": "stdout",
     "output_type": "stream",
     "text": [
      "Start Index for 2NN: 256\n",
      "Start Index for 3NN: 256\n",
      "Start Index for 4NN: 256\n",
      "Stop Index is: 1255\n"
     ]
    }
   ],
   "source": [
    "#Need to automatically find the index at which we stop calculating any values\n",
    "    #This is determined by when the Chamber CM reading becomes close to the pirani reading indicating end of primary drying\n",
    "    \n",
    "#Start Index\n",
    "    #This will vary depending on the vial configuration\n",
    "    #Start index is where the calculated sublimation pressure is equal to the Chamber CM reading(ie where sublimation starts(primary drying))\n",
    "# 2NN\n",
    "minimum=[]\n",
    "ind=[]\n",
    "for i in range(len(cham_pres)):\n",
    "    if sub_pres2[i]<98.5:\n",
    "        ind.append(i)\n",
    "        minimum.append(cham_pres[i]-sub_pres2[i])\n",
    "minimum=np.array(minimum) #convert list to array\n",
    "min_ind2=np.argmin(minimum) #Find the index in the minimum array where the minimum difference occurs\n",
    "strt_ind2=ind[min_ind2] #Find the index in the sublimation pressure where the minimum occurs\n",
    "\n",
    "# 3NN\n",
    "minimum=[]\n",
    "ind=[]\n",
    "for i in range(len(cham_pres)):\n",
    "    if sub_pres3[i]<98.5:\n",
    "        ind.append(i)\n",
    "        minimum.append(cham_pres[i]-sub_pres3[i])\n",
    "minimum=np.array(minimum) #convert list to array\n",
    "min_ind3=np.argmin(minimum) #Find the index in the minimum array where the minimum difference occurs\n",
    "strt_ind3=ind[min_ind3] #Find the index in the sublimation pressure where the minimum occurs\n",
    "\n",
    "# 4NN\n",
    "minimum=[]\n",
    "ind=[]\n",
    "for i in range(len(cham_pres)):\n",
    "    if sub_pres4[i]<98.5:\n",
    "        ind.append(i)\n",
    "        minimum.append(cham_pres[i]-sub_pres4[i])\n",
    "minimum=np.array(minimum) #convert list to array\n",
    "min_ind4=np.argmin(minimum) #Find the index in the minimum array where the minimum difference occurs\n",
    "strt_ind4=ind[min_ind4] #Find the index in the sublimation pressure where the minimum occurs\n",
    "\n",
    "print(\"Start Index for 2NN:\",strt_ind2)\n",
    "print(\"Start Index for 3NN:\",strt_ind3)\n",
    "print(\"Start Index for 4NN:\",strt_ind4)\n",
    "\n",
    "#Stop Index\n",
    "index=[]\n",
    "diff=[]\n",
    "for i in range(len(pirani_pres[strt_ind2:])): #start where the primary drying starts\n",
    "    if cham_pres[i+strt_ind2]<100:\n",
    "        index.append(i+strt_ind2)\n",
    "        diff.append(pirani_pres[i+strt_ind2]-cham_pres[i+strt_ind2])\n",
    "diff=np.array(diff)\n",
    "min_diff=np.argmin(diff) #find index where minimum occurs\n",
    "   #Stop Index is the same for all vial configurations \n",
    "stop_ind=index[min_diff]\n",
    "print(\"Stop Index is:\",stop_ind) "
   ]
  },
  {
   "cell_type": "markdown",
   "id": "f1aea6e5",
   "metadata": {},
   "source": [
    "Note: The indices here are the points we will set to zero and all values after that is where the calculations start.This applies to Kv calculations up to the resistance calculations on the spreadsheet. "
   ]
  },
  {
   "cell_type": "code",
   "execution_count": 422,
   "id": "8aeb6011",
   "metadata": {},
   "outputs": [
    {
     "name": "stdout",
     "output_type": "stream",
     "text": [
      "New Array Shape for Sub. Pressures:\n",
      "\n",
      "2NN: (999, 1)\n",
      "3NN: (999, 1)\n",
      "4NN: (999, 1)\n"
     ]
    }
   ],
   "source": [
    "#Modify Sub. Pressures based on start indices indicating beginning of sublimation where sub. pres=chamber pres and end indices where pirani converges to chamber pressure\n",
    "sub_pres2_new=sub_pres2[strt_ind2:stop_ind] \n",
    "sub_pres3_new=sub_pres3[strt_ind3:stop_ind]\n",
    "sub_pres4_new=sub_pres4[strt_ind4:stop_ind]\n",
    "sub_pres_core_new=sub_pres_core[strt_ind4:stop_ind]\n",
    "print(\"New Array Shape for Sub. Pressures:\\n\")\n",
    "print(\"2NN:\",sub_pres2_new.shape)\n",
    "print(\"3NN:\",sub_pres3_new.shape)\n",
    "print(\"4NN:\",sub_pres4_new.shape)"
   ]
  },
  {
   "cell_type": "markdown",
   "id": "8cc53d74",
   "metadata": {},
   "source": [
    "### Kv Values(Vial Heat Transfer Coefficient)"
   ]
  },
  {
   "cell_type": "code",
   "execution_count": 423,
   "id": "78700a91",
   "metadata": {},
   "outputs": [],
   "source": [
    "#Kv Parameters\n",
    "a_kv=0.000817654\n",
    "b_kv=0.00045\n",
    "c_kv=1.320652597"
   ]
  },
  {
   "cell_type": "code",
   "execution_count": 424,
   "id": "3b6e0388",
   "metadata": {},
   "outputs": [],
   "source": [
    "#Kv Value Calculations\n",
    "def Kv_calc(p,factor): #Inputs are pirani pressure reading and adjustment factor\n",
    "    return a_kv+(b_kv*(p/1000))/ (1+(c_kv*(p/1000))) *factor #might need to adjust the rounding"
   ]
  },
  {
   "cell_type": "code",
   "execution_count": 425,
   "id": "50e31571",
   "metadata": {},
   "outputs": [],
   "source": [
    "# #Assuming Same Kv for all 3 cases for now\n",
    "# kv_2=Kv_calc(pirani_pres,1)\n",
    "# kv_3=Kv_calc(pirani_pres,1)\n",
    "# kv_4=Kv_calc(pirani_pres,1)\n",
    "# print(\"Previous Size:\",kv_2.shape)\n",
    "# #Adjust size based on start and stop indices\n",
    "# kv_2 = kv_2[strt_ind2:]\n",
    "# kv_3 = kv_3[strt_ind3:]\n",
    "# kv_4 = kv_4[strt_ind4:]\n",
    "# print(\"New Size:\",kv_2.shape)"
   ]
  },
  {
   "cell_type": "code",
   "execution_count": 426,
   "id": "a485f916",
   "metadata": {},
   "outputs": [],
   "source": [
    "# Kv Calculations Using the Hyperplane Fitting\n",
    "value=2.0961432864185497e-04\n",
    "# kv_2=np.repeat(7.49795279e-05,len(pirani_pres[strt_ind2:]))\n",
    "# kv_3=np.repeat(7.49795279e-05,len(pirani_pres[strt_ind3:]))\n",
    "# kv_4=np.repeat(7.49795279e-05,len(pirani_pres[strt_ind4:]))\n",
    "kv_2=np.repeat(value,len(pirani_pres[strt_ind2:stop_ind]))\n",
    "kv_3=np.repeat(value,len(pirani_pres[strt_ind3:stop_ind]))\n",
    "kv_4=np.repeat(value,len(pirani_pres[strt_ind4:stop_ind]))"
   ]
  },
  {
   "cell_type": "code",
   "execution_count": 427,
   "id": "b4686e9c",
   "metadata": {},
   "outputs": [
    {
     "name": "stdout",
     "output_type": "stream",
     "text": [
      "(999,)\n",
      "(999,)\n",
      "(999,)\n"
     ]
    }
   ],
   "source": [
    "print(kv_2.shape)\n",
    "print(kv_3.shape)\n",
    "print(kv_4.shape)"
   ]
  },
  {
   "cell_type": "markdown",
   "id": "a7553629",
   "metadata": {},
   "source": [
    "### Heat Flow"
   ]
  },
  {
   "cell_type": "code",
   "execution_count": 428,
   "id": "117c7623",
   "metadata": {},
   "outputs": [],
   "source": [
    "#Heat Flow Calculations\n",
    "def heat_flow(T,K,index): #inputs are temperature and vial heat transfer coefficient\n",
    "    hf=np.zeros((K.size))\n",
    "    for i in range(len(K)):\n",
    "        hf[i]=abs(Tp[i+index]-T[i+index])*K[i] #Make sure we are sampling the time points correctly\n",
    "    return hf"
   ]
  },
  {
   "cell_type": "code",
   "execution_count": 429,
   "id": "eafdb815",
   "metadata": {},
   "outputs": [
    {
     "name": "stdout",
     "output_type": "stream",
     "text": [
      "Size: (975,)\n",
      "Size: (784,)\n",
      "Size: (983,)\n",
      "Size: (999,)\n"
     ]
    }
   ],
   "source": [
    "#HF calc. values\n",
    "hf_2_old=heat_flow(T_2N,kv_2,strt_ind2)\n",
    "hf_3_old=heat_flow(T_3N,kv_3,strt_ind3)\n",
    "hf_4_old=heat_flow(T_4N,kv_4,strt_ind4)\n",
    "hf_core_old=heat_flow(T_core,kv_4,strt_ind4)\n",
    "\n",
    "#Store indices where hf is zero for later use\n",
    "ind2_zero=[]\n",
    "ind3_zero=[]\n",
    "ind4_zero=[]\n",
    "indc_zero=[]\n",
    "for i in range(len(hf_2_old)):\n",
    "    if hf_2_old[i]==0:\n",
    "        ind2_zero.append(i)\n",
    "for i in range(len(hf_3_old)):\n",
    "    if hf_3_old[i]==0:\n",
    "        ind3_zero.append(i)\n",
    "for i in range(len(hf_4_old)):\n",
    "    if hf_4_old[i]==0:\n",
    "        ind4_zero.append(i)\n",
    "for i in range(len(hf_core_old)):\n",
    "    if hf_core_old[i]==0:\n",
    "        indc_zero.append(i) \n",
    "# #Remove all zero values to prevent infinite resistance calculations\n",
    "hf_2=np.array([i for i in hf_2_old if i != 0])\n",
    "hf_3=np.array([i for i in hf_3_old if i != 0])\n",
    "hf_4=np.array([i for i in hf_4_old if i != 0])\n",
    "hf_core=np.array([i for i in hf_core_old if i != 0])\n",
    "\n",
    "print(\"Size:\",hf_2.shape)\n",
    "print(\"Size:\",hf_3.shape)\n",
    "print(\"Size:\",hf_4.shape)\n",
    "print(\"Size:\",hf_core.shape)\n",
    "#Now no need to use the start/stop indices because everything will depend on previous steps that we already truncated"
   ]
  },
  {
   "cell_type": "code",
   "execution_count": 430,
   "id": "7b4efd5d",
   "metadata": {},
   "outputs": [],
   "source": [
    "#Setting Zero Initial Condition\n",
    "hf_2[0]=0    \n",
    "hf_3[0]=0\n",
    "hf_4[0]=0\n",
    "hf_core[0]=0"
   ]
  },
  {
   "cell_type": "markdown",
   "id": "83ecbe9b",
   "metadata": {},
   "source": [
    "### Sublimation Rate"
   ]
  },
  {
   "cell_type": "code",
   "execution_count": 431,
   "id": "a826212e",
   "metadata": {},
   "outputs": [],
   "source": [
    "#Sub. Rate Calc.\n",
    "def sub_rate(HF,S): #inputs are heat flow and outer surface area\n",
    "    sr=HF*(S/676)\n",
    "    return sr"
   ]
  },
  {
   "cell_type": "code",
   "execution_count": 432,
   "id": "24179f16",
   "metadata": {},
   "outputs": [
    {
     "name": "stdout",
     "output_type": "stream",
     "text": [
      "Size: (975,)\n",
      "Size: (784,)\n",
      "Size: (983,)\n",
      "Size: (999,)\n"
     ]
    }
   ],
   "source": [
    "#Sublimation Rate Calc. Values\n",
    "sr_2=sub_rate(hf_2,SAout)\n",
    "sr_3=sub_rate(hf_3,SAout)\n",
    "sr_4=sub_rate(hf_4,SAout)\n",
    "sr_core=sub_rate(hf_core,SAout)\n",
    "print(\"Size:\",sr_2.shape)\n",
    "print(\"Size:\",sr_3.shape)\n",
    "print(\"Size:\",sr_4.shape) #These shapes should match the heatflow shapes\n",
    "print(\"Size:\",sr_core.shape)"
   ]
  },
  {
   "cell_type": "code",
   "execution_count": 433,
   "id": "238a69d1",
   "metadata": {},
   "outputs": [
    {
     "name": "stdout",
     "output_type": "stream",
     "text": [
      "[0.00000000e+00 1.84113477e-05 2.25758192e-05 2.73978389e-05\n",
      " 3.17814931e-05 3.52884165e-05 3.76994263e-05 4.05488016e-05\n",
      " 4.38365422e-05 4.71242829e-05 5.10695717e-05 5.08503890e-05\n",
      " 5.08503890e-05 5.01928408e-05 4.88777446e-05 4.51516385e-05\n",
      " 4.03296188e-05 4.16447151e-05 4.40557249e-05 4.44940904e-05\n",
      " 4.42749076e-05 4.36173595e-05 4.27406287e-05 3.85761572e-05\n",
      " 3.98912534e-05 4.12063497e-05 4.09871670e-05 4.07679843e-05\n",
      " 4.03296188e-05 4.01104361e-05 3.98912534e-05 3.96720707e-05\n",
      " 3.90145226e-05 3.87953399e-05 3.85761572e-05 3.83569744e-05\n",
      " 3.79186090e-05 3.79186090e-05 3.74802436e-05 3.74802436e-05\n",
      " 3.72610609e-05 3.70418782e-05 3.68226955e-05 3.66035128e-05\n",
      " 3.63843300e-05 3.61651473e-05 3.61651473e-05 3.57267819e-05\n",
      " 3.57267819e-05 3.55075992e-05 3.55075992e-05 3.52884165e-05\n",
      " 3.50692338e-05 3.50692338e-05 3.48500511e-05 3.46308684e-05\n",
      " 3.46308684e-05 3.44116856e-05 3.44116856e-05 3.41925029e-05\n",
      " 3.41925029e-05 3.39733202e-05 3.39733202e-05 3.37541375e-05\n",
      " 3.37541375e-05 3.37541375e-05 3.35349548e-05 3.35349548e-05\n",
      " 3.33157721e-05 3.33157721e-05 3.33157721e-05 3.30965894e-05\n",
      " 3.30965894e-05 3.30965894e-05 3.28774067e-05 3.28774067e-05\n",
      " 3.28774067e-05 3.28774067e-05 3.26582240e-05 3.26582240e-05\n",
      " 3.26582240e-05 3.26582240e-05 3.24390412e-05 3.24390412e-05\n",
      " 3.24390412e-05 3.24390412e-05 3.24390412e-05 3.22198585e-05\n",
      " 3.22198585e-05 3.22198585e-05 3.22198585e-05 3.22198585e-05\n",
      " 3.20006758e-05 3.20006758e-05 3.20006758e-05 3.20006758e-05\n",
      " 3.20006758e-05 3.20006758e-05 3.20006758e-05 3.20006758e-05\n",
      " 3.17814931e-05 3.17814931e-05 3.17814931e-05 3.17814931e-05\n",
      " 3.17814931e-05 3.17814931e-05 3.17814931e-05 3.17814931e-05\n",
      " 3.17814931e-05 3.17814931e-05 3.17814931e-05 3.17814931e-05\n",
      " 3.17814931e-05 3.15623104e-05 3.15623104e-05 3.15623104e-05\n",
      " 3.17814931e-05 3.15623104e-05 3.15623104e-05 3.15623104e-05\n",
      " 3.17814931e-05 3.15623104e-05 3.17814931e-05 3.15623104e-05\n",
      " 3.15623104e-05 3.17814931e-05 3.17814931e-05 3.17814931e-05\n",
      " 3.17814931e-05 3.17814931e-05 3.17814931e-05 3.17814931e-05\n",
      " 3.17814931e-05 3.17814931e-05 3.17814931e-05 3.17814931e-05\n",
      " 3.17814931e-05 3.17814931e-05 3.17814931e-05 3.17814931e-05\n",
      " 3.20006758e-05 3.20006758e-05 3.20006758e-05 3.20006758e-05\n",
      " 3.20006758e-05 3.20006758e-05 3.22198585e-05 3.22198585e-05\n",
      " 3.22198585e-05 3.22198585e-05 3.22198585e-05 3.24390412e-05\n",
      " 3.24390412e-05 3.24390412e-05 3.24390412e-05 3.24390412e-05\n",
      " 3.26582240e-05 3.26582240e-05 3.26582240e-05 3.26582240e-05\n",
      " 3.26582240e-05 3.26582240e-05 3.26582240e-05 3.26582240e-05\n",
      " 3.26582240e-05 3.26582240e-05 3.26582240e-05 3.26582240e-05\n",
      " 3.26582240e-05 3.26582240e-05 3.26582240e-05 3.26582240e-05\n",
      " 3.26582240e-05 3.26582240e-05 3.26582240e-05 3.26582240e-05\n",
      " 3.26582240e-05 3.26582240e-05 3.26582240e-05 3.24390412e-05\n",
      " 3.24390412e-05 3.22198585e-05 3.22198585e-05 3.20006758e-05\n",
      " 3.20006758e-05 3.17814931e-05 3.13431277e-05 3.09047623e-05\n",
      " 3.06855796e-05 3.00280314e-05 2.93704833e-05 2.89321179e-05\n",
      " 2.84937524e-05 2.80553870e-05 2.78362043e-05 2.78362043e-05\n",
      " 2.76170216e-05 2.73978389e-05 2.69594735e-05 2.65211080e-05\n",
      " 2.60827426e-05 2.54251945e-05 2.52060118e-05 2.47676464e-05\n",
      " 2.43292809e-05 2.41100982e-05 2.38909155e-05 2.36717328e-05\n",
      " 2.34525501e-05 2.32333674e-05 2.30141847e-05 2.25758192e-05\n",
      " 2.25758192e-05 2.23566365e-05 2.21374538e-05 2.19182711e-05\n",
      " 2.16990884e-05 2.14799057e-05 2.14799057e-05 2.12607230e-05\n",
      " 2.10415403e-05 2.08223576e-05 2.06031748e-05 2.06031748e-05\n",
      " 2.03839921e-05 2.01648094e-05 1.99456267e-05 1.97264440e-05\n",
      " 1.95072613e-05 1.95072613e-05 1.90688959e-05 1.88497132e-05\n",
      " 1.86305304e-05 1.84113477e-05 1.81921650e-05 1.81921650e-05\n",
      " 1.77537996e-05 1.75346169e-05 1.73154342e-05 1.70962515e-05\n",
      " 1.68770688e-05 1.66578860e-05 1.62195206e-05 1.60003379e-05\n",
      " 1.57811552e-05 1.53427898e-05 1.51236071e-05 1.46852416e-05\n",
      " 1.44660589e-05 1.42468762e-05 1.38085108e-05 1.35893281e-05\n",
      " 1.31509627e-05 1.27125972e-05 1.22742318e-05 1.18358664e-05\n",
      " 1.13975010e-05 1.11783183e-05 1.07399528e-05 1.03015874e-05\n",
      " 1.00824047e-05 9.86322200e-06 9.42485658e-06 8.98649116e-06\n",
      " 8.76730844e-06 8.54812573e-06 8.10976031e-06 7.67139489e-06\n",
      " 7.45221218e-06 7.01384676e-06 6.57548133e-06 6.13711591e-06\n",
      " 5.91793320e-06 5.69875049e-06 5.47956778e-06 5.04120236e-06\n",
      " 4.82201964e-06 4.60283693e-06 4.16447151e-06 3.94528880e-06\n",
      " 3.72610609e-06 3.50692338e-06 3.50692338e-06 3.28774067e-06\n",
      " 3.28774067e-06 3.06855796e-06 3.06855796e-06 3.06855796e-06\n",
      " 2.84937524e-06 2.84937524e-06 2.84937524e-06 2.63019253e-06\n",
      " 2.63019253e-06 2.63019253e-06 2.41100982e-06 2.41100982e-06\n",
      " 2.41100982e-06 2.19182711e-06 2.19182711e-06 2.19182711e-06\n",
      " 2.19182711e-06 1.97264440e-06 2.19182711e-06 1.97264440e-06\n",
      " 1.75346169e-06 1.75346169e-06 1.75346169e-06 1.53427898e-06\n",
      " 1.53427898e-06 1.53427898e-06 1.31509627e-06 1.31509627e-06\n",
      " 1.31509627e-06 1.31509627e-06 1.31509627e-06 1.31509627e-06\n",
      " 1.31509627e-06 1.31509627e-06 1.09591356e-06 1.09591356e-06\n",
      " 1.09591356e-06 1.09591356e-06 1.09591356e-06 1.09591356e-06\n",
      " 1.09591356e-06 1.09591356e-06 1.09591356e-06 8.76730844e-07\n",
      " 8.76730844e-07 8.76730844e-07 8.76730844e-07 8.76730844e-07\n",
      " 8.76730844e-07 8.76730844e-07 8.76730844e-07 1.09591356e-06\n",
      " 8.76730844e-07 6.57548133e-07 6.57548133e-07 6.57548133e-07\n",
      " 6.57548133e-07 6.57548133e-07 6.57548133e-07 6.57548133e-07\n",
      " 6.57548133e-07 6.57548133e-07 6.57548133e-07 6.57548133e-07\n",
      " 6.57548133e-07 6.57548133e-07 4.38365422e-07 6.57548133e-07\n",
      " 4.38365422e-07 4.38365422e-07 4.38365422e-07 4.38365422e-07\n",
      " 4.38365422e-07 4.38365422e-07 4.38365422e-07 4.38365422e-07\n",
      " 4.38365422e-07 6.57548133e-07 4.38365422e-07 6.57548133e-07\n",
      " 2.19182711e-07 2.19182711e-07 2.19182711e-07 2.19182711e-07\n",
      " 4.38365422e-07 2.19182711e-07 4.38365422e-07 2.19182711e-07\n",
      " 2.19182711e-07 2.19182711e-07 2.19182711e-07 2.19182711e-07\n",
      " 2.19182711e-07 2.19182711e-07 4.38365422e-07 2.19182711e-07\n",
      " 2.19182711e-07 4.38365422e-07 2.19182711e-07 2.19182711e-07\n",
      " 2.19182711e-07 2.19182711e-07 2.19182711e-07 2.19182711e-07\n",
      " 2.19182711e-07 2.19182711e-07 2.19182711e-07 2.19182711e-07\n",
      " 2.19182711e-07 2.19182711e-07 2.19182711e-07 2.19182711e-07\n",
      " 2.19182711e-07 2.19182711e-07 2.19182711e-07 2.19182711e-07\n",
      " 2.19182711e-07 2.19182711e-07 2.19182711e-07 2.19182711e-07\n",
      " 2.19182711e-07 2.19182711e-07 2.19182711e-07 4.38365422e-07\n",
      " 4.38365422e-07 2.19182711e-07 2.19182711e-07 2.19182711e-07\n",
      " 2.19182711e-07 2.19182711e-07 4.38365422e-07 2.19182711e-07\n",
      " 2.19182711e-07 2.19182711e-07 4.38365422e-07 4.38365422e-07\n",
      " 2.19182711e-07 4.38365422e-07 2.19182711e-07 4.38365422e-07\n",
      " 2.19182711e-07 2.19182711e-07 4.38365422e-07 2.19182711e-07\n",
      " 2.19182711e-07 2.19182711e-07 2.19182711e-07 4.38365422e-07\n",
      " 4.38365422e-07 2.19182711e-07 4.38365422e-07 4.38365422e-07\n",
      " 2.19182711e-07 4.38365422e-07 2.19182711e-07 2.19182711e-07\n",
      " 4.38365422e-07 2.19182711e-07 4.38365422e-07 2.19182711e-07\n",
      " 4.38365422e-07 2.19182711e-07 4.38365422e-07 4.38365422e-07\n",
      " 2.19182711e-07 2.19182711e-07 2.19182711e-07 4.38365422e-07\n",
      " 2.19182711e-07 2.19182711e-07 2.19182711e-07 2.19182711e-07\n",
      " 4.38365422e-07 2.19182711e-07 4.38365422e-07 2.19182711e-07\n",
      " 2.19182711e-07 4.38365422e-07 2.19182711e-07 2.19182711e-07\n",
      " 2.19182711e-07 4.38365422e-07 2.19182711e-07 2.19182711e-07\n",
      " 4.38365422e-07 4.38365422e-07 2.19182711e-07 2.19182711e-07\n",
      " 2.19182711e-07 4.38365422e-07 2.19182711e-07 4.38365422e-07\n",
      " 2.19182711e-07 4.38365422e-07 2.19182711e-07 2.19182711e-07\n",
      " 4.38365422e-07 4.38365422e-07 2.19182711e-07 4.38365422e-07\n",
      " 2.19182711e-07 2.19182711e-07 4.38365422e-07 4.38365422e-07\n",
      " 4.38365422e-07 6.57548133e-07 2.19182711e-07 2.19182711e-07\n",
      " 2.19182711e-07 2.19182711e-07 2.19182711e-07 2.19182711e-07\n",
      " 2.19182711e-07 4.38365422e-07 4.38365422e-07 4.38365422e-07\n",
      " 4.38365422e-07 6.57548133e-07 2.19182711e-07 2.19182711e-07\n",
      " 4.38365422e-07 6.57548133e-07 2.19182711e-07 2.19182711e-07\n",
      " 2.19182711e-07 2.19182711e-07 2.19182711e-07 4.38365422e-07\n",
      " 4.38365422e-07 4.38365422e-07 6.57548133e-07 4.38365422e-07\n",
      " 4.38365422e-07 4.38365422e-07 6.57548133e-07 4.38365422e-07\n",
      " 4.38365422e-07 6.57548133e-07 6.57548133e-07 4.38365422e-07\n",
      " 6.57548133e-07 6.57548133e-07 4.38365422e-07 4.38365422e-07\n",
      " 6.57548133e-07 4.38365422e-07 6.57548133e-07 4.38365422e-07\n",
      " 4.38365422e-07 4.38365422e-07 4.38365422e-07 4.38365422e-07\n",
      " 4.38365422e-07 6.57548133e-07 4.38365422e-07 4.38365422e-07\n",
      " 6.57548133e-07 4.38365422e-07 4.38365422e-07 4.38365422e-07\n",
      " 4.38365422e-07 4.38365422e-07 6.57548133e-07 4.38365422e-07\n",
      " 4.38365422e-07 4.38365422e-07 4.38365422e-07 6.57548133e-07\n",
      " 6.57548133e-07 4.38365422e-07 4.38365422e-07 6.57548133e-07\n",
      " 4.38365422e-07 6.57548133e-07 6.57548133e-07 4.38365422e-07\n",
      " 4.38365422e-07 4.38365422e-07 6.57548133e-07 4.38365422e-07\n",
      " 4.38365422e-07 4.38365422e-07 6.57548133e-07 6.57548133e-07\n",
      " 4.38365422e-07 4.38365422e-07 6.57548133e-07 4.38365422e-07\n",
      " 4.38365422e-07 6.57548133e-07 4.38365422e-07 4.38365422e-07\n",
      " 4.38365422e-07 6.57548133e-07 6.57548133e-07 6.57548133e-07\n",
      " 4.38365422e-07 6.57548133e-07 6.57548133e-07 4.38365422e-07\n",
      " 6.57548133e-07 4.38365422e-07 4.38365422e-07 4.38365422e-07\n",
      " 4.38365422e-07 6.57548133e-07 6.57548133e-07 4.38365422e-07\n",
      " 4.38365422e-07 4.38365422e-07 4.38365422e-07 4.38365422e-07\n",
      " 6.57548133e-07 4.38365422e-07 4.38365422e-07 6.57548133e-07\n",
      " 4.38365422e-07 4.38365422e-07 4.38365422e-07 6.57548133e-07\n",
      " 6.57548133e-07 6.57548133e-07 4.38365422e-07 4.38365422e-07\n",
      " 8.76730844e-07 4.38365422e-07 4.38365422e-07 6.57548133e-07\n",
      " 4.38365422e-07 4.38365422e-07 6.57548133e-07 4.38365422e-07\n",
      " 8.76730844e-07 4.38365422e-07 6.57548133e-07 4.38365422e-07\n",
      " 6.57548133e-07 4.38365422e-07 6.57548133e-07 8.76730844e-07\n",
      " 6.57548133e-07 6.57548133e-07 8.76730844e-07 8.76730844e-07\n",
      " 6.57548133e-07 4.38365422e-07 8.76730844e-07 6.57548133e-07\n",
      " 4.38365422e-07 6.57548133e-07 4.38365422e-07 6.57548133e-07\n",
      " 4.38365422e-07 4.38365422e-07 4.38365422e-07 6.57548133e-07\n",
      " 6.57548133e-07 8.76730844e-07 8.76730844e-07 6.57548133e-07\n",
      " 6.57548133e-07 8.76730844e-07 6.57548133e-07 6.57548133e-07\n",
      " 6.57548133e-07 6.57548133e-07 8.76730844e-07 8.76730844e-07\n",
      " 4.38365422e-07 4.38365422e-07 4.38365422e-07 6.57548133e-07\n",
      " 4.38365422e-07 4.38365422e-07 6.57548133e-07 8.76730844e-07\n",
      " 4.38365422e-07 8.76730844e-07 6.57548133e-07 6.57548133e-07\n",
      " 8.76730844e-07 4.38365422e-07 4.38365422e-07 8.76730844e-07\n",
      " 4.38365422e-07 6.57548133e-07 8.76730844e-07 6.57548133e-07\n",
      " 6.57548133e-07 6.57548133e-07 6.57548133e-07 6.57548133e-07\n",
      " 6.57548133e-07 4.38365422e-07 6.57548133e-07 6.57548133e-07\n",
      " 8.76730844e-07 6.57548133e-07 6.57548133e-07 8.76730844e-07\n",
      " 6.57548133e-07 6.57548133e-07 6.57548133e-07 6.57548133e-07\n",
      " 6.57548133e-07 6.57548133e-07 8.76730844e-07 6.57548133e-07\n",
      " 6.57548133e-07 8.76730844e-07 6.57548133e-07 6.57548133e-07\n",
      " 6.57548133e-07 6.57548133e-07 6.57548133e-07 8.76730844e-07\n",
      " 8.76730844e-07 8.76730844e-07 6.57548133e-07 8.76730844e-07\n",
      " 4.38365422e-07 6.57548133e-07 6.57548133e-07 6.57548133e-07\n",
      " 6.57548133e-07 6.57548133e-07 4.38365422e-07 8.76730844e-07\n",
      " 6.57548133e-07 8.76730844e-07 6.57548133e-07 6.57548133e-07\n",
      " 6.57548133e-07 6.57548133e-07 6.57548133e-07 8.76730844e-07\n",
      " 4.38365422e-07 6.57548133e-07 6.57548133e-07 6.57548133e-07\n",
      " 8.76730844e-07 6.57548133e-07 6.57548133e-07 6.57548133e-07\n",
      " 8.76730844e-07 8.76730844e-07 6.57548133e-07 6.57548133e-07\n",
      " 6.57548133e-07 8.76730844e-07 6.57548133e-07 6.57548133e-07\n",
      " 6.57548133e-07 8.76730844e-07 8.76730844e-07 6.57548133e-07\n",
      " 6.57548133e-07 6.57548133e-07 8.76730844e-07 6.57548133e-07\n",
      " 6.57548133e-07 6.57548133e-07 6.57548133e-07 6.57548133e-07\n",
      " 8.76730844e-07 8.76730844e-07 6.57548133e-07 8.76730844e-07\n",
      " 6.57548133e-07 6.57548133e-07 8.76730844e-07 6.57548133e-07\n",
      " 6.57548133e-07 6.57548133e-07 6.57548133e-07 6.57548133e-07\n",
      " 6.57548133e-07 8.76730844e-07 6.57548133e-07 6.57548133e-07\n",
      " 6.57548133e-07 4.38365422e-07 8.76730844e-07 6.57548133e-07\n",
      " 6.57548133e-07 6.57548133e-07 6.57548133e-07 6.57548133e-07\n",
      " 6.57548133e-07 6.57548133e-07 8.76730844e-07 6.57548133e-07\n",
      " 6.57548133e-07 8.76730844e-07 8.76730844e-07 8.76730844e-07\n",
      " 6.57548133e-07 4.38365422e-07 6.57548133e-07 6.57548133e-07\n",
      " 8.76730844e-07 6.57548133e-07 6.57548133e-07 8.76730844e-07\n",
      " 6.57548133e-07 8.76730844e-07 6.57548133e-07 6.57548133e-07\n",
      " 8.76730844e-07 8.76730844e-07 6.57548133e-07 6.57548133e-07\n",
      " 6.57548133e-07 8.76730844e-07 6.57548133e-07 6.57548133e-07\n",
      " 6.57548133e-07 6.57548133e-07 8.76730844e-07 6.57548133e-07\n",
      " 6.57548133e-07 6.57548133e-07 8.76730844e-07 6.57548133e-07\n",
      " 6.57548133e-07 6.57548133e-07 6.57548133e-07 8.76730844e-07\n",
      " 6.57548133e-07 6.57548133e-07 6.57548133e-07 6.57548133e-07\n",
      " 8.76730844e-07 6.57548133e-07 6.57548133e-07 8.76730844e-07\n",
      " 6.57548133e-07 6.57548133e-07 6.57548133e-07 6.57548133e-07\n",
      " 8.76730844e-07 8.76730844e-07 6.57548133e-07 8.76730844e-07\n",
      " 6.57548133e-07 8.76730844e-07 6.57548133e-07 6.57548133e-07\n",
      " 6.57548133e-07 8.76730844e-07 6.57548133e-07 6.57548133e-07\n",
      " 8.76730844e-07 6.57548133e-07 6.57548133e-07 8.76730844e-07\n",
      " 6.57548133e-07 6.57548133e-07 6.57548133e-07 8.76730844e-07\n",
      " 8.76730844e-07 6.57548133e-07 8.76730844e-07 6.57548133e-07\n",
      " 6.57548133e-07 8.76730844e-07 4.38365422e-07 1.31509627e-06\n",
      " 3.72610609e-06 5.04120236e-06 6.57548133e-06 7.89057760e-06\n",
      " 9.20567387e-06 1.00824047e-05 1.11783183e-05 1.20550491e-05\n",
      " 1.27125972e-05 1.31509627e-05 1.40276935e-05 1.44660589e-05\n",
      " 1.49044244e-05 1.55619725e-05 1.62195206e-05 1.66578860e-05\n",
      " 1.68770688e-05 1.70962515e-05 1.77537996e-05 1.79729823e-05\n",
      " 1.84113477e-05 1.86305304e-05 1.88497132e-05 1.92880786e-05\n",
      " 1.95072613e-05 1.97264440e-05 2.01648094e-05 2.03839921e-05\n",
      " 2.03839921e-05 2.08223576e-05 2.10415403e-05 2.10415403e-05\n",
      " 2.14799057e-05 2.12607230e-05 1.95072613e-05 1.79729823e-05\n",
      " 1.62195206e-05 1.51236071e-05 1.42468762e-05 1.33701454e-05\n",
      " 1.24934145e-05 1.18358664e-05 1.11783183e-05 1.05207701e-05\n",
      " 1.00824047e-05 9.64403929e-06 9.20567387e-06 8.98649116e-06\n",
      " 8.76730844e-06 8.54812573e-06 8.32894302e-06 8.10976031e-06\n",
      " 7.89057760e-06 7.67139489e-06 7.45221218e-06 7.45221218e-06\n",
      " 7.23302947e-06 7.23302947e-06 7.01384676e-06 7.01384676e-06\n",
      " 6.79466404e-06 6.79466404e-06 6.79466404e-06 6.57548133e-06\n",
      " 6.57548133e-06 6.57548133e-06 6.57548133e-06 6.35629862e-06\n",
      " 6.35629862e-06 6.35629862e-06 6.35629862e-06 6.13711591e-06\n",
      " 6.13711591e-06 6.13711591e-06 6.13711591e-06 6.13711591e-06\n",
      " 6.13711591e-06 6.13711591e-06 5.91793320e-06 5.91793320e-06\n",
      " 5.91793320e-06 5.91793320e-06 5.91793320e-06 5.91793320e-06\n",
      " 5.91793320e-06 5.91793320e-06 5.69875049e-06 5.69875049e-06\n",
      " 5.69875049e-06 5.69875049e-06 5.69875049e-06 5.69875049e-06\n",
      " 5.69875049e-06 5.69875049e-06 5.69875049e-06 5.47956778e-06\n",
      " 5.47956778e-06 5.47956778e-06 5.47956778e-06 5.47956778e-06\n",
      " 5.47956778e-06 5.47956778e-06 5.47956778e-06 5.47956778e-06\n",
      " 5.47956778e-06 5.47956778e-06 5.47956778e-06 5.47956778e-06\n",
      " 5.47956778e-06 5.47956778e-06 5.47956778e-06 5.47956778e-06\n",
      " 5.47956778e-06 5.26038507e-06 5.26038507e-06 5.26038507e-06\n",
      " 5.26038507e-06 4.16447151e-06 3.81377917e-05 3.30965894e-05\n",
      " 2.71786562e-05 2.38909155e-05 2.08223576e-05]\n"
     ]
    }
   ],
   "source": [
    "print(sr_2)"
   ]
  },
  {
   "cell_type": "markdown",
   "id": "b23a6945",
   "metadata": {},
   "source": [
    "### Mass Sublimed"
   ]
  },
  {
   "cell_type": "code",
   "execution_count": 434,
   "id": "3b58bd95",
   "metadata": {},
   "outputs": [],
   "source": [
    "#Mass Sublimed Function\n",
    "    #The index is the spreadsheet row-2\n",
    "def mass_sub(SR,t,index): #inputs are sublimation rate. time elapsed and start index(indicating beginning of sublimation)\n",
    "    ms=np.zeros(SR.shape) #initialize array to store mass sublimed \n",
    "    for i in range(SR.shape[0]):\n",
    "        if i==0:\n",
    "            ms[i]=0\n",
    "        else:\n",
    "            ms[i]=ms[i-1]+((SR[i-1]+SR[i])/2)*(t_m[i+index]-t_m[i-1+index])*60 #Making sure to match the time indices\n",
    "    return ms"
   ]
  },
  {
   "cell_type": "code",
   "execution_count": 435,
   "id": "6fe03e76",
   "metadata": {},
   "outputs": [
    {
     "name": "stdout",
     "output_type": "stream",
     "text": [
      "Size: (975,)\n",
      "Size: (784,)\n",
      "Size: (983,)\n",
      "[0.00000000e+00 2.76170216e-03 8.90977721e-03 1.64058259e-02\n",
      " 2.52827257e-02 3.53432122e-02 4.62913886e-02 5.80286228e-02\n",
      " 7.06864243e-02 8.43305481e-02 9.90596263e-02 1.14347620e-01\n",
      " 1.29602737e-01 1.44759222e-01 1.59619809e-01 1.73724217e-01\n",
      " 1.86546405e-01 1.98842556e-01 2.11697622e-01 2.24980094e-01\n",
      " 2.38295444e-01 2.51479284e-01 2.64432982e-01 2.76630500e-01\n",
      " 2.88400611e-01 3.00565252e-01 3.12894279e-01 3.25157552e-01\n",
      " 3.37322192e-01 3.49388201e-01 3.61388454e-01 3.73322953e-01\n",
      " 3.85125942e-01 3.96797421e-01 4.08403146e-01 4.19943115e-01\n",
      " 4.31384453e-01 4.42760036e-01 4.54069863e-01 4.65313937e-01\n",
      " 4.76525132e-01 4.87670573e-01 4.98750259e-01 5.09764190e-01\n",
      " 5.20712367e-01 5.31594788e-01 5.42444333e-01 5.53228122e-01\n",
      " 5.63946157e-01 5.74631314e-01 5.85283593e-01 5.95902996e-01\n",
      " 6.06456643e-01 6.16977414e-01 6.27465306e-01 6.37887444e-01\n",
      " 6.48276705e-01 6.58633088e-01 6.68956593e-01 6.79247222e-01\n",
      " 6.89504973e-01 6.99729846e-01 7.09921842e-01 7.20080961e-01\n",
      " 7.30207202e-01 7.40333443e-01 7.50426807e-01 7.60487294e-01\n",
      " 7.70514903e-01 7.80509634e-01 7.90504366e-01 8.00466220e-01\n",
      " 8.10395197e-01 8.20324174e-01 8.30220273e-01 8.40083495e-01\n",
      " 8.49946717e-01 8.59809939e-01 8.69640284e-01 8.79437751e-01\n",
      " 8.89235218e-01 8.99032685e-01 9.08797275e-01 9.18528987e-01\n",
      " 9.28260700e-01 9.37992412e-01 9.47724125e-01 9.57422960e-01\n",
      " 9.67088917e-01 9.76754875e-01 9.86420832e-01 9.96086790e-01\n",
      " 1.00571987e+00 1.01532007e+00 1.02492028e+00 1.03452048e+00\n",
      " 1.04412068e+00 1.05372088e+00 1.06332109e+00 1.07292129e+00\n",
      " 1.08248861e+00 1.09202306e+00 1.10155751e+00 1.11109196e+00\n",
      " 1.12062641e+00 1.13016085e+00 1.13969530e+00 1.14922975e+00\n",
      " 1.15876420e+00 1.16829865e+00 1.17783309e+00 1.18736754e+00\n",
      " 1.19690199e+00 1.20640356e+00 1.21587225e+00 1.22534095e+00\n",
      " 1.23484252e+00 1.24434409e+00 1.25381278e+00 1.26328147e+00\n",
      " 1.27278304e+00 1.28228461e+00 1.29178619e+00 1.30128776e+00\n",
      " 1.31075645e+00 1.32025802e+00 1.32979247e+00 1.33932692e+00\n",
      " 1.34886136e+00 1.35839581e+00 1.36793026e+00 1.37746471e+00\n",
      " 1.38699916e+00 1.39653360e+00 1.40606805e+00 1.41560250e+00\n",
      " 1.42513695e+00 1.43467139e+00 1.44420584e+00 1.45374029e+00\n",
      " 1.46330762e+00 1.47290782e+00 1.48250802e+00 1.49210822e+00\n",
      " 1.50170843e+00 1.51130863e+00 1.52094171e+00 1.53060767e+00\n",
      " 1.54027362e+00 1.54993958e+00 1.55960554e+00 1.56930438e+00\n",
      " 1.57903609e+00 1.58876780e+00 1.59849951e+00 1.60823122e+00\n",
      " 1.61799581e+00 1.62779328e+00 1.63759075e+00 1.64738822e+00\n",
      " 1.65718568e+00 1.66698315e+00 1.67678062e+00 1.68657808e+00\n",
      " 1.69637555e+00 1.70617302e+00 1.71597049e+00 1.72576795e+00\n",
      " 1.73556542e+00 1.74536289e+00 1.75516035e+00 1.76495782e+00\n",
      " 1.77475529e+00 1.78455276e+00 1.79435022e+00 1.80414769e+00\n",
      " 1.81394516e+00 1.82374263e+00 1.83354009e+00 1.84330468e+00\n",
      " 1.85303639e+00 1.86273523e+00 1.87240119e+00 1.88203427e+00\n",
      " 1.89163447e+00 1.90120180e+00 1.91067049e+00 1.92000767e+00\n",
      " 1.92924622e+00 1.93835326e+00 1.94726304e+00 1.95600843e+00\n",
      " 1.96462231e+00 1.97310468e+00 1.98148842e+00 1.98983928e+00\n",
      " 1.99815727e+00 2.00640950e+00 2.01456309e+00 2.02258518e+00\n",
      " 2.03047576e+00 2.03820195e+00 2.04579663e+00 2.05329268e+00\n",
      " 2.06065722e+00 2.06792312e+00 2.07512328e+00 2.08225767e+00\n",
      " 2.08932632e+00 2.09632920e+00 2.10326634e+00 2.11010484e+00\n",
      " 2.11687758e+00 2.12361745e+00 2.13029156e+00 2.13689992e+00\n",
      " 2.14344253e+00 2.14991938e+00 2.15636335e+00 2.16277444e+00\n",
      " 2.16911978e+00 2.17539937e+00 2.18161320e+00 2.18779415e+00\n",
      " 2.19394222e+00 2.20002454e+00 2.20604111e+00 2.21199192e+00\n",
      " 2.21787698e+00 2.22372915e+00 2.22951558e+00 2.23520337e+00\n",
      " 2.24082541e+00 2.24638169e+00 2.25187221e+00 2.25732986e+00\n",
      " 2.26272176e+00 2.26801502e+00 2.27324253e+00 2.27840428e+00\n",
      " 2.28350028e+00 2.28853052e+00 2.29346213e+00 2.29829511e+00\n",
      " 2.30306234e+00 2.30773093e+00 2.31230089e+00 2.31677222e+00\n",
      " 2.32114491e+00 2.32545185e+00 2.32966016e+00 2.33376983e+00\n",
      " 2.33778088e+00 2.34166041e+00 2.34540844e+00 2.34902495e+00\n",
      " 2.35250996e+00 2.35589633e+00 2.35918407e+00 2.36234030e+00\n",
      " 2.36539790e+00 2.36838974e+00 2.37128296e+00 2.37404466e+00\n",
      " 2.37670773e+00 2.37930504e+00 2.38180373e+00 2.38417090e+00\n",
      " 2.38643944e+00 2.38860935e+00 2.39064775e+00 2.39255464e+00\n",
      " 2.39436290e+00 2.39610540e+00 2.39778215e+00 2.39936026e+00\n",
      " 2.40083974e+00 2.40225347e+00 2.40356857e+00 2.40478503e+00\n",
      " 2.40593574e+00 2.40702070e+00 2.40807277e+00 2.40909197e+00\n",
      " 2.41007830e+00 2.41103174e+00 2.41195231e+00 2.41287288e+00\n",
      " 2.41376057e+00 2.41461538e+00 2.41547019e+00 2.41629213e+00\n",
      " 2.41708118e+00 2.41787024e+00 2.41862642e+00 2.41934972e+00\n",
      " 2.42007303e+00 2.42076345e+00 2.42142100e+00 2.42207855e+00\n",
      " 2.42273610e+00 2.42336077e+00 2.42398544e+00 2.42461011e+00\n",
      " 2.42516903e+00 2.42569506e+00 2.42622110e+00 2.42671426e+00\n",
      " 2.42717455e+00 2.42763483e+00 2.42806224e+00 2.42845677e+00\n",
      " 2.42885129e+00 2.42924582e+00 2.42964035e+00 2.43003488e+00\n",
      " 2.43042941e+00 2.43082394e+00 2.43118559e+00 2.43151436e+00\n",
      " 2.43184314e+00 2.43217191e+00 2.43250069e+00 2.43282946e+00\n",
      " 2.43315824e+00 2.43348701e+00 2.43381578e+00 2.43411168e+00\n",
      " 2.43437470e+00 2.43463772e+00 2.43490074e+00 2.43516376e+00\n",
      " 2.43542678e+00 2.43568980e+00 2.43595281e+00 2.43624871e+00\n",
      " 2.43654461e+00 2.43677475e+00 2.43697201e+00 2.43716928e+00\n",
      " 2.43736654e+00 2.43756381e+00 2.43776107e+00 2.43795834e+00\n",
      " 2.43815560e+00 2.43835287e+00 2.43855013e+00 2.43874739e+00\n",
      " 2.43894466e+00 2.43914192e+00 2.43930631e+00 2.43947070e+00\n",
      " 2.43963508e+00 2.43976659e+00 2.43989810e+00 2.44002961e+00\n",
      " 2.44016112e+00 2.44029263e+00 2.44042414e+00 2.44055565e+00\n",
      " 2.44068716e+00 2.44085155e+00 2.44101594e+00 2.44118032e+00\n",
      " 2.44131183e+00 2.44137759e+00 2.44144334e+00 2.44150910e+00\n",
      " 2.44160773e+00 2.44170636e+00 2.44180499e+00 2.44190363e+00\n",
      " 2.44196938e+00 2.44203513e+00 2.44210089e+00 2.44216664e+00\n",
      " 2.44223240e+00 2.44229815e+00 2.44239679e+00 2.44249542e+00\n",
      " 2.44256117e+00 2.44265981e+00 2.44275844e+00 2.44282419e+00\n",
      " 2.44288995e+00 2.44295570e+00 2.44302146e+00 2.44308721e+00\n",
      " 2.44315297e+00 2.44321872e+00 2.44328448e+00 2.44335023e+00\n",
      " 2.44341599e+00 2.44348174e+00 2.44354750e+00 2.44361325e+00\n",
      " 2.44367901e+00 2.44374476e+00 2.44381051e+00 2.44387627e+00\n",
      " 2.44394202e+00 2.44400778e+00 2.44407353e+00 2.44413929e+00\n",
      " 2.44420504e+00 2.44427080e+00 2.44433655e+00 2.44443519e+00\n",
      " 2.44456670e+00 2.44466533e+00 2.44473108e+00 2.44479684e+00\n",
      " 2.44486259e+00 2.44492835e+00 2.44502698e+00 2.44512561e+00\n",
      " 2.44519137e+00 2.44525712e+00 2.44535575e+00 2.44548726e+00\n",
      " 2.44558589e+00 2.44568453e+00 2.44578316e+00 2.44588179e+00\n",
      " 2.44598042e+00 2.44604618e+00 2.44614481e+00 2.44624344e+00\n",
      " 2.44630920e+00 2.44637495e+00 2.44644071e+00 2.44653934e+00\n",
      " 2.44667085e+00 2.44676948e+00 2.44686811e+00 2.44699962e+00\n",
      " 2.44709826e+00 2.44719689e+00 2.44729552e+00 2.44736127e+00\n",
      " 2.44745991e+00 2.44755854e+00 2.44765717e+00 2.44775580e+00\n",
      " 2.44785444e+00 2.44795307e+00 2.44805170e+00 2.44818321e+00\n",
      " 2.44828184e+00 2.44834760e+00 2.44841335e+00 2.44851198e+00\n",
      " 2.44861062e+00 2.44867637e+00 2.44874213e+00 2.44880788e+00\n",
      " 2.44890651e+00 2.44900515e+00 2.44910378e+00 2.44920241e+00\n",
      " 2.44926816e+00 2.44936680e+00 2.44946543e+00 2.44953118e+00\n",
      " 2.44959694e+00 2.44969557e+00 2.44979420e+00 2.44985996e+00\n",
      " 2.44995859e+00 2.45009010e+00 2.45018873e+00 2.45025449e+00\n",
      " 2.45032024e+00 2.45041887e+00 2.45051751e+00 2.45061614e+00\n",
      " 2.45071477e+00 2.45081340e+00 2.45091203e+00 2.45097779e+00\n",
      " 2.45107642e+00 2.45120793e+00 2.45130656e+00 2.45140520e+00\n",
      " 2.45150383e+00 2.45156958e+00 2.45166822e+00 2.45179972e+00\n",
      " 2.45193123e+00 2.45209562e+00 2.45222713e+00 2.45229289e+00\n",
      " 2.45235864e+00 2.45242440e+00 2.45249015e+00 2.45255591e+00\n",
      " 2.45262166e+00 2.45272029e+00 2.45285180e+00 2.45298331e+00\n",
      " 2.45311482e+00 2.45327921e+00 2.45341072e+00 2.45347647e+00\n",
      " 2.45357510e+00 2.45373949e+00 2.45387100e+00 2.45393676e+00\n",
      " 2.45400251e+00 2.45406827e+00 2.45413402e+00 2.45423265e+00\n",
      " 2.45436416e+00 2.45449567e+00 2.45466006e+00 2.45482445e+00\n",
      " 2.45495596e+00 2.45508747e+00 2.45525185e+00 2.45541624e+00\n",
      " 2.45554775e+00 2.45571214e+00 2.45590940e+00 2.45607379e+00\n",
      " 2.45623817e+00 2.45643544e+00 2.45659983e+00 2.45673134e+00\n",
      " 2.45689572e+00 2.45706011e+00 2.45722450e+00 2.45738888e+00\n",
      " 2.45752039e+00 2.45765190e+00 2.45778341e+00 2.45791492e+00\n",
      " 2.45804643e+00 2.45821082e+00 2.45837521e+00 2.45850672e+00\n",
      " 2.45867110e+00 2.45883549e+00 2.45896700e+00 2.45909851e+00\n",
      " 2.45923002e+00 2.45936153e+00 2.45952592e+00 2.45969030e+00\n",
      " 2.45982181e+00 2.45995332e+00 2.46008483e+00 2.46024922e+00\n",
      " 2.46044648e+00 2.46061087e+00 2.46074238e+00 2.46090677e+00\n",
      " 2.46107115e+00 2.46123554e+00 2.46143280e+00 2.46159719e+00\n",
      " 2.46172870e+00 2.46186021e+00 2.46202460e+00 2.46218899e+00\n",
      " 2.46232049e+00 2.46245200e+00 2.46261639e+00 2.46281366e+00\n",
      " 2.46297804e+00 2.46310955e+00 2.46327394e+00 2.46343833e+00\n",
      " 2.46356984e+00 2.46373422e+00 2.46389861e+00 2.46403012e+00\n",
      " 2.46416163e+00 2.46432602e+00 2.46452328e+00 2.46472055e+00\n",
      " 2.46488493e+00 2.46504932e+00 2.46524658e+00 2.46541097e+00\n",
      " 2.46557536e+00 2.46573975e+00 2.46587125e+00 2.46600276e+00\n",
      " 2.46613427e+00 2.46629866e+00 2.46649593e+00 2.46666031e+00\n",
      " 2.46679182e+00 2.46692333e+00 2.46705484e+00 2.46718635e+00\n",
      " 2.46735074e+00 2.46751513e+00 2.46764663e+00 2.46781102e+00\n",
      " 2.46797541e+00 2.46810692e+00 2.46823843e+00 2.46840282e+00\n",
      " 2.46860008e+00 2.46879734e+00 2.46896173e+00 2.46909324e+00\n",
      " 2.46929051e+00 2.46948777e+00 2.46961928e+00 2.46978367e+00\n",
      " 2.46994805e+00 2.47007956e+00 2.47024395e+00 2.47040834e+00\n",
      " 2.47060560e+00 2.47080287e+00 2.47096725e+00 2.47113164e+00\n",
      " 2.47129603e+00 2.47146041e+00 2.47162480e+00 2.47185494e+00\n",
      " 2.47208508e+00 2.47228235e+00 2.47251249e+00 2.47277551e+00\n",
      " 2.47300565e+00 2.47317004e+00 2.47336730e+00 2.47359745e+00\n",
      " 2.47376183e+00 2.47392622e+00 2.47409061e+00 2.47425499e+00\n",
      " 2.47441938e+00 2.47455089e+00 2.47468240e+00 2.47484679e+00\n",
      " 2.47504405e+00 2.47527419e+00 2.47553721e+00 2.47576735e+00\n",
      " 2.47596462e+00 2.47619476e+00 2.47642490e+00 2.47662217e+00\n",
      " 2.47681943e+00 2.47701670e+00 2.47724684e+00 2.47750986e+00\n",
      " 2.47770712e+00 2.47783863e+00 2.47797014e+00 2.47813453e+00\n",
      " 2.47829891e+00 2.47843042e+00 2.47859481e+00 2.47882495e+00\n",
      " 2.47902222e+00 2.47921948e+00 2.47944962e+00 2.47964689e+00\n",
      " 2.47987703e+00 2.48007429e+00 2.48020580e+00 2.48040307e+00\n",
      " 2.48060033e+00 2.48076472e+00 2.48099486e+00 2.48122500e+00\n",
      " 2.48142227e+00 2.48161953e+00 2.48181680e+00 2.48201406e+00\n",
      " 2.48221133e+00 2.48237571e+00 2.48254010e+00 2.48273736e+00\n",
      " 2.48296751e+00 2.48319765e+00 2.48339491e+00 2.48362505e+00\n",
      " 2.48385520e+00 2.48405246e+00 2.48424973e+00 2.48444699e+00\n",
      " 2.48464425e+00 2.48484152e+00 2.48507166e+00 2.48530180e+00\n",
      " 2.48549907e+00 2.48572921e+00 2.48595935e+00 2.48615661e+00\n",
      " 2.48635388e+00 2.48655114e+00 2.48674841e+00 2.48697855e+00\n",
      " 2.48724157e+00 2.48750459e+00 2.48773473e+00 2.48796487e+00\n",
      " 2.48816214e+00 2.48832652e+00 2.48852379e+00 2.48872105e+00\n",
      " 2.48891832e+00 2.48911558e+00 2.48927997e+00 2.48947723e+00\n",
      " 2.48970737e+00 2.48993752e+00 2.49016766e+00 2.49036492e+00\n",
      " 2.49056219e+00 2.49075945e+00 2.49095672e+00 2.49118686e+00\n",
      " 2.49138412e+00 2.49154851e+00 2.49174577e+00 2.49194304e+00\n",
      " 2.49217318e+00 2.49240332e+00 2.49260059e+00 2.49279785e+00\n",
      " 2.49302799e+00 2.49329101e+00 2.49352115e+00 2.49371842e+00\n",
      " 2.49391568e+00 2.49414582e+00 2.49437597e+00 2.49457323e+00\n",
      " 2.49477050e+00 2.49500064e+00 2.49526366e+00 2.49549380e+00\n",
      " 2.49569106e+00 2.49588833e+00 2.49611847e+00 2.49634861e+00\n",
      " 2.49654588e+00 2.49674314e+00 2.49694040e+00 2.49713767e+00\n",
      " 2.49736781e+00 2.49763083e+00 2.49786097e+00 2.49809111e+00\n",
      " 2.49832126e+00 2.49851852e+00 2.49874866e+00 2.49897880e+00\n",
      " 2.49917607e+00 2.49937333e+00 2.49957060e+00 2.49976786e+00\n",
      " 2.49996513e+00 2.50019527e+00 2.50042541e+00 2.50062267e+00\n",
      " 2.50081994e+00 2.50098433e+00 2.50118159e+00 2.50141173e+00\n",
      " 2.50160900e+00 2.50180626e+00 2.50200352e+00 2.50220079e+00\n",
      " 2.50239805e+00 2.50259532e+00 2.50282546e+00 2.50305560e+00\n",
      " 2.50325287e+00 2.50348301e+00 2.50374603e+00 2.50400905e+00\n",
      " 2.50423919e+00 2.50440358e+00 2.50456796e+00 2.50476523e+00\n",
      " 2.50499537e+00 2.50522551e+00 2.50542278e+00 2.50565292e+00\n",
      " 2.50588306e+00 2.50611320e+00 2.50634334e+00 2.50654061e+00\n",
      " 2.50677075e+00 2.50703377e+00 2.50726391e+00 2.50746117e+00\n",
      " 2.50765844e+00 2.50788858e+00 2.50811872e+00 2.50831599e+00\n",
      " 2.50851325e+00 2.50871052e+00 2.50894066e+00 2.50917080e+00\n",
      " 2.50936806e+00 2.50956533e+00 2.50979547e+00 2.51002561e+00\n",
      " 2.51022288e+00 2.51042014e+00 2.51061741e+00 2.51084755e+00\n",
      " 2.51107769e+00 2.51127495e+00 2.51147222e+00 2.51166948e+00\n",
      " 2.51189962e+00 2.51212977e+00 2.51232703e+00 2.51255717e+00\n",
      " 2.51278731e+00 2.51298458e+00 2.51318184e+00 2.51337911e+00\n",
      " 2.51360925e+00 2.51387227e+00 2.51410241e+00 2.51433255e+00\n",
      " 2.51456269e+00 2.51479284e+00 2.51502298e+00 2.51522024e+00\n",
      " 2.51541751e+00 2.51564765e+00 2.51587779e+00 2.51607505e+00\n",
      " 2.51630520e+00 2.51653534e+00 2.51673260e+00 2.51696274e+00\n",
      " 2.51719289e+00 2.51739015e+00 2.51758742e+00 2.51781756e+00\n",
      " 2.51808058e+00 2.51831072e+00 2.51854086e+00 2.51877100e+00\n",
      " 2.51896827e+00 2.51919841e+00 2.51939567e+00 2.51965869e+00\n",
      " 2.52041487e+00 2.52172997e+00 2.52347247e+00 2.52564238e+00\n",
      " 2.52820682e+00 2.53110003e+00 2.53428914e+00 2.53777414e+00\n",
      " 2.54148929e+00 2.54536882e+00 2.54944562e+00 2.55371969e+00\n",
      " 2.55812526e+00 2.56269522e+00 2.56746244e+00 2.57239405e+00\n",
      " 2.57742430e+00 2.58252029e+00 2.58774780e+00 2.59310682e+00\n",
      " 2.59856447e+00 2.60412075e+00 2.60974279e+00 2.61546346e+00\n",
      " 2.62128276e+00 2.62716781e+00 2.63315150e+00 2.63923382e+00\n",
      " 2.64534902e+00 2.65152997e+00 2.65780955e+00 2.66412202e+00\n",
      " 2.67050023e+00 2.67691133e+00 2.68302653e+00 2.68864856e+00\n",
      " 2.69377744e+00 2.69847891e+00 2.70288448e+00 2.70702703e+00\n",
      " 2.71090657e+00 2.71455596e+00 2.71800809e+00 2.72126295e+00\n",
      " 2.72435343e+00 2.72731239e+00 2.73013985e+00 2.73286867e+00\n",
      " 2.73553174e+00 2.73812906e+00 2.74066062e+00 2.74312643e+00\n",
      " 2.74552648e+00 2.74786077e+00 2.75012931e+00 2.75236498e+00\n",
      " 2.75456776e+00 2.75673767e+00 2.75887470e+00 2.76097886e+00\n",
      " 2.76305013e+00 2.76508853e+00 2.76712693e+00 2.76913245e+00\n",
      " 2.77110510e+00 2.77307774e+00 2.77505039e+00 2.77699015e+00\n",
      " 2.77889704e+00 2.78080393e+00 2.78271082e+00 2.78458484e+00\n",
      " 2.78642597e+00 2.78826710e+00 2.79010824e+00 2.79194937e+00\n",
      " 2.79379051e+00 2.79563164e+00 2.79743990e+00 2.79921528e+00\n",
      " 2.80099066e+00 2.80276604e+00 2.80454142e+00 2.80631680e+00\n",
      " 2.80809218e+00 2.80986756e+00 2.81161006e+00 2.81331969e+00\n",
      " 2.81502931e+00 2.81673894e+00 2.81844856e+00 2.82015819e+00\n",
      " 2.82186781e+00 2.82357744e+00 2.82528706e+00 2.82696381e+00\n",
      " 2.82860768e+00 2.83025155e+00 2.83189542e+00 2.83353929e+00\n",
      " 2.83518316e+00 2.83682703e+00 2.83847090e+00 2.84011477e+00\n",
      " 2.84175865e+00 2.84340252e+00 2.84504639e+00 2.84669026e+00\n",
      " 2.84833413e+00 2.84997800e+00 2.85162187e+00 2.85326574e+00\n",
      " 2.85490961e+00 2.85652060e+00 2.85809872e+00 2.85967683e+00\n",
      " 2.86125495e+00 2.86266868e+00 2.86901402e+00 2.87969917e+00\n",
      " 2.88874046e+00 2.89640090e+00 2.90310789e+00]\n"
     ]
    }
   ],
   "source": [
    "#Mass Sublimed Calc. Values\n",
    "ms_2=mass_sub(sr_2,t_m,strt_ind2)\n",
    "ms_3=mass_sub(sr_3,t_m,strt_ind3) \n",
    "ms_4=mass_sub(sr_4,t_m,strt_ind4)\n",
    "ms_core=mass_sub(sr_core,t_m,strt_ind4)\n",
    "print(\"Size:\",ms_2.shape)\n",
    "print(\"Size:\",ms_3.shape)\n",
    "print(\"Size:\",ms_4.shape) #Should match sublimation rate shapes\n",
    "print(ms_2)"
   ]
  },
  {
   "cell_type": "markdown",
   "id": "14a1e30e",
   "metadata": {},
   "source": [
    "### Dry Layer Height"
   ]
  },
  {
   "cell_type": "code",
   "execution_count": 436,
   "id": "98d105c8",
   "metadata": {},
   "outputs": [],
   "source": [
    "#Dry Layer Height Function\n",
    "def dry_h(MS): #Input is mass sublimated\n",
    "    dlh=MS/(ice_dens*water_cont*SAin) #Since we set ms[0]=0, no need to reset initial conditions here\n",
    "    return dlh"
   ]
  },
  {
   "cell_type": "code",
   "execution_count": 437,
   "id": "1d9785e6",
   "metadata": {},
   "outputs": [
    {
     "name": "stdout",
     "output_type": "stream",
     "text": [
      "Size: (975,)\n",
      "Size: (784,)\n",
      "Size: (983,)\n",
      "Final Dry Layer Height Predicted By Model: 1.092112691243503\n"
     ]
    }
   ],
   "source": [
    "#Dry Layer Height Calculated\n",
    "dlh_2=dry_h(ms_2)\n",
    "dlh_3=dry_h(ms_3)\n",
    "dlh_4=dry_h(ms_4)\n",
    "dlh_core=dry_h(ms_core)\n",
    "print(\"Size:\",dlh_2.shape)\n",
    "print(\"Size:\",dlh_3.shape)\n",
    "print(\"Size:\",dlh_4.shape) #Again sizes should match up\n",
    "print(\"Final Dry Layer Height Predicted By Model:\",dlh_2[dlh_2.shape[0]-1])"
   ]
  },
  {
   "cell_type": "markdown",
   "id": "020f742b",
   "metadata": {},
   "source": [
    "Note: Model predicts the dry layer height well as this value is close to what was measured experimentally as the dry layer height."
   ]
  },
  {
   "cell_type": "markdown",
   "id": "07dd1331",
   "metadata": {},
   "source": [
    "### Sublimation Temperature"
   ]
  },
  {
   "cell_type": "code",
   "execution_count": 438,
   "id": "f1715198",
   "metadata": {},
   "outputs": [],
   "source": [
    "# Sublimation Temperature Function\n",
    "def sub_temp(T,HF,DLH,strt_index,index,stop_index): #inputs are temperature,heat flow,dry layer height,start index and the zeros HF index\n",
    "    f=((HF*(dry_cake-DLH))/lam)\n",
    "    T=T[strt_index:stop_index]\n",
    "    T=np.delete(T, index)\n",
    "    T=T.reshape(f.size) #Get rid of the extra second dimension\n",
    "    st=T-f\n",
    "    return st"
   ]
  },
  {
   "cell_type": "code",
   "execution_count": 439,
   "id": "93428459",
   "metadata": {},
   "outputs": [
    {
     "name": "stdout",
     "output_type": "stream",
     "text": [
      "Size: (975,)\n",
      "Size: (784,)\n",
      "Size: (983,)\n"
     ]
    }
   ],
   "source": [
    "# Sublimation Temperature Calculations\n",
    "st_2=sub_temp(T_2N,hf_2,dlh_2,strt_ind2,ind2_zero,stop_ind)\n",
    "st_3=sub_temp(T_3N,hf_3,dlh_3,strt_ind3,ind3_zero,stop_ind)\n",
    "st_4=sub_temp(T_4N,hf_4,dlh_4,strt_ind4,ind4_zero,stop_ind)\n",
    "st_core=sub_temp(T_core,hf_core,dlh_core,strt_ind4,indc_zero,stop_ind)\n",
    "print(\"Size:\",st_2.shape)\n",
    "print(\"Size:\",st_3.shape)\n",
    "print(\"Size:\",st_4.shape) #Again shapes should match"
   ]
  },
  {
   "cell_type": "code",
   "execution_count": 440,
   "id": "8b122a77",
   "metadata": {},
   "outputs": [],
   "source": [
    "#Set Initial Condtions\n",
    "st_2[0]=0   \n",
    "st_3[0]=0\n",
    "st_4[0]=0\n",
    "st_core[0]=0"
   ]
  },
  {
   "cell_type": "markdown",
   "id": "c4abb040",
   "metadata": {},
   "source": [
    "### Measured Resistance(Experimental)"
   ]
  },
  {
   "cell_type": "code",
   "execution_count": 441,
   "id": "1fac3322",
   "metadata": {},
   "outputs": [],
   "source": [
    "#Measured Resistance Function\n",
    "def res_calc(SP,CM,SR,strt_ind,index,stop_index): #Inputs are sublimation pressure, chamber pressure,sublimation rate and start index\n",
    "    SP=SP.reshape(SP.shape[0]) #Get rid of extra dimension\n",
    "    CM=CM.reshape(CM.shape[0])\n",
    "    SP=SP[strt_ind:stop_index]\n",
    "    CM=CM[strt_ind:stop_index] #Make sure we're extracting the correct pressures\n",
    "    SP=np.delete(SP, index)\n",
    "    CM=np.delete(CM, index)\n",
    "    r_m=(SP-CM)*(SAin/(SR*3600))\n",
    "    r_m[0]=0 #Set initial condition\n",
    "    return r_m"
   ]
  },
  {
   "cell_type": "code",
   "execution_count": 442,
   "id": "3b070944",
   "metadata": {},
   "outputs": [
    {
     "name": "stdout",
     "output_type": "stream",
     "text": [
      "Size: (975,)\n",
      "Size: (784,)\n",
      "Size: (983,)\n"
     ]
    },
    {
     "name": "stderr",
     "output_type": "stream",
     "text": [
      "<ipython-input-441-4b3398be3b6b>:9: RuntimeWarning: divide by zero encountered in true_divide\n",
      "  r_m=(SP-CM)*(SAin/(SR*3600))\n"
     ]
    }
   ],
   "source": [
    "#Measured Resistance Calculations\n",
    "rm_2=res_calc(sub_pres2,cham_pres,sr_2,strt_ind2,ind2_zero,stop_ind)\n",
    "rm_3=res_calc(sub_pres3,cham_pres,sr_3,strt_ind3,ind3_zero,stop_ind)\n",
    "rm_4=res_calc(sub_pres4,cham_pres,sr_4,strt_ind4,ind4_zero,stop_ind)\n",
    "rm_core=res_calc(sub_pres_core,cham_pres,sr_core,strt_ind4,indc_zero,stop_ind)\n",
    "\n",
    "print(\"Size:\",rm_2.shape)\n",
    "print(\"Size:\",rm_3.shape)\n",
    "print(\"Size:\",rm_4.shape) #Again shapes should match"
   ]
  },
  {
   "cell_type": "code",
   "execution_count": 443,
   "id": "2474ee39",
   "metadata": {},
   "outputs": [
    {
     "data": {
      "text/plain": [
       "Text(0, 0.5, 'Resistance[(mT*hr*cm2/g)]')"
      ]
     },
     "execution_count": 443,
     "metadata": {},
     "output_type": "execute_result"
    },
    {
     "data": {
      "image/png": "[encoded data removed]",
      "text/plain": [
       "<Figure size 432x288 with 1 Axes>"
      ]
     },
     "metadata": {
      "needs_background": "light"
     },
     "output_type": "display_data"
    }
   ],
   "source": [
    "#Visualize Measured Resistance Values\n",
    "plt.plot(dlh_2,rm_2,label=\"2NN\")\n",
    "plt.plot(dlh_3,rm_3,label=\"3NN\")\n",
    "plt.plot(dlh_4,rm_4,label=\"4NN\")\n",
    "plt.plot(dlh_core,rm_core,label=\"Core\")\n",
    "plt.title(\"Resistance Values For 4 Vial Cases\")\n",
    "plt.legend()\n",
    "plt.xlabel(\"Dry Layer(cm)\")\n",
    "plt.ylabel(\"Resistance[(mT*hr*cm2/g)]\")"
   ]
  },
  {
   "cell_type": "code",
   "execution_count": 444,
   "id": "3d5582f6",
   "metadata": {},
   "outputs": [
    {
     "data": {
      "text/plain": [
       "Text(0.5, 1.0, 'Resistance Values For 4 Vial Cases')"
      ]
     },
     "execution_count": 444,
     "metadata": {},
     "output_type": "execute_result"
    },
    {
     "data": {
      "image/png": "[encoded data removed]",
      "text/plain": [
       "<Figure size 432x288 with 1 Axes>"
      ]
     },
     "metadata": {
      "needs_background": "light"
     },
     "output_type": "display_data"
    }
   ],
   "source": [
    "plt.plot(dlh_2[0:200],rm_2[0:200],label=\"2NN\")\n",
    "plt.plot(dlh_3[0:200],rm_3[0:200],label=\"3NN\")\n",
    "plt.plot(dlh_4[0:200],rm_4[0:200],label=\"4NN\")\n",
    "plt.plot(dlh_core[0:200],rm_core[0:200],label=\"Core\")\n",
    "plt.legend()\n",
    "plt.xlabel(\"Dry Layer(cm)\")\n",
    "plt.ylabel(\"Resistance[(mT*hr*cm2/g)]\")\n",
    "plt.title(\"Resistance Values For 4 Vial Cases\")"
   ]
  },
  {
   "cell_type": "markdown",
   "id": "c3fdccdb",
   "metadata": {},
   "source": [
    "### OLS for Resistance "
   ]
  },
  {
   "cell_type": "code",
   "execution_count": 445,
   "id": "be706e44",
   "metadata": {},
   "outputs": [
    {
     "name": "stdout",
     "output_type": "stream",
     "text": [
      "(784,)\n",
      "4\n",
      "[[0.000e+00 5.250e+04 2.000e+00]\n",
      " [0.000e+00 9.300e+04 3.500e+00]\n",
      " [0.000e+00 1.201e+05 5.900e+00]\n",
      " [0.000e+00 1.201e+05 5.900e+00]]\n"
     ]
    }
   ],
   "source": [
    "R_calc=np.array([rm_2,rm_3,rm_4,rm_core],dtype=\"object\")\n",
    "d=np.array([dlh_2,dlh_3,dlh_4,dlh_core],dtype=\"object\")\n",
    "print(R_calc[1].shape)\n",
    "print(len(R_calc))\n",
    "ic2=np.array([0,52500,2])\n",
    "ic3=np.array([0,93000,3.5])\n",
    "ic4=np.array([0,120100,5.9])\n",
    "ic_c=np.array([0,120100,5.9])\n",
    "ic=np.array([ic2,ic3,ic4,ic_c])\n",
    "print(ic)"
   ]
  },
  {
   "cell_type": "code",
   "execution_count": 446,
   "id": "de7514bd",
   "metadata": {},
   "outputs": [
    {
     "name": "stdout",
     "output_type": "stream",
     "text": [
      "Time I fitted to(hrs): 16.666666666666668\n"
     ]
    }
   ],
   "source": [
    "print(\"Time I fitted to(hrs):\",t_m[200]/60)"
   ]
  },
  {
   "cell_type": "code",
   "execution_count": 447,
   "id": "fac8375e",
   "metadata": {},
   "outputs": [
    {
     "name": "stdout",
     "output_type": "stream",
     "text": [
      "0\n",
      "Current Vial Case: 2NN\n",
      "Parameters for 2NN : [1.18728305e-03 9.05000002e+04 1.58945675e+00]\n",
      "1\n",
      "Current Vial Case: 3NN\n",
      "Parameters for 3NN : [1.10921160e-03 9.30000001e+04 1.79926946e+00]\n",
      "2\n",
      "Current Vial Case: 4NN\n",
      "Parameters for 4NN : [8.85161107e-01 1.20100243e+05 3.41918344e+00]\n",
      "3\n",
      "Current Vial Case: core\n",
      "Parameters for core : [-4.39910391e+02  1.19976605e+05  7.01388053e+00]\n"
     ]
    },
    {
     "data": {
      "image/png": "[encoded data removed]",
      "text/plain": [
       "<Figure size 360x720 with 4 Axes>"
      ]
     },
     "metadata": {
      "needs_background": "light"
     },
     "output_type": "display_data"
    }
   ],
   "source": [
    "#Least Squares Fitting of Resistance Values\n",
    "\n",
    "#Define matrices to hold Calculated Resistance Values,Dry Layer Height(measured), and initial condition estimates\n",
    "R_calc_all=np.array([rm_2,rm_3,rm_4,rm_core],dtype=\"object\")\n",
    "d_all=np.array([dlh_2,dlh_3,dlh_4,dlh_core],dtype=\"object\")\n",
    "ic2=np.array([0,90500,4])\n",
    "ic3=np.array([0,93000,3.5])\n",
    "ic4=np.array([0,120100,5.9])\n",
    "ic_c=np.array([0,120100,5.9])\n",
    "ic=np.array([ic2,ic3,ic4,ic_c])\n",
    "#x=np.array([rm_2.shape[0],rm_3.shape[0],rm_4.shape[0]]) #I tried this first to see if fitting until end of primary drying would be better\n",
    "x=np.array([200,200,200,200]) #ending up fitting up to the 200th time step ()\n",
    "model=[\"2NN\",\"3NN\",\"4NN\",\"core\"]\n",
    "plt.figure(figsize=(5, 10))\n",
    "for i in range(len(R_calc_all)): #loop over vial cases\n",
    "    print(i)\n",
    "    print(\"Current Vial Case:\",model[i])\n",
    "    R_calc=(R_calc_all[i][0:x[i]]).astype(\"float\") #Select appropriate R and d values for this run, and truncate \n",
    "    d=(d_all[i][0:x[i]]).astype(\"float\")\n",
    "    #Define Residuals Function\n",
    "    def residuals(theta,d,R_calc):\n",
    "        R_fit = theta[0]+((theta[1]*d)/(1+theta[2]*d)) #Calculated Resistance\n",
    "        res=R_fit-R_calc      \n",
    "        return res\n",
    "\n",
    "    #Define Parameter Set\n",
    "        #theta=[a,b,c]\n",
    "    theta_0=(ic[i]).astype(\"float\") #Set initial Condition\n",
    "\n",
    "    #Least Squares Fitting\n",
    "    param=least_squares(residuals,theta_0, loss='soft_l1', f_scale=0.1,args=(d,R_calc))\n",
    "    print(\"Parameters for\",model[i],\":\",param.x)\n",
    "    \n",
    "    #Find predicted resistance values\n",
    "    R_pred=param.x[0]+((param.x[1]*d)/(1+param.x[2]*d)) \n",
    "\n",
    "    #Plotting\n",
    "    labels_p=[\"2NN Predicted\",\"3NN Predicted\",\"4NN Predicted\",\"Core Predicted\"]\n",
    "    labels_m=[\"2NN Measured\",\"3NN Measured\",\"4NN Measured\",\"Core Measured\"]\n",
    "    plt.subplot(4, 1, i+1)\n",
    "    plt.plot(d,R_pred,label=labels_p[i])\n",
    "    plt.plot(d,R_calc,label=labels_m[i])\n",
    "    plt.xlabel(\"Dry Layer Height(cm)\")\n",
    "    plt.ylabel(\"Resistance[(mT*hr*cm2/g)]\")\n",
    "    plt.title(\"Fitted vs Measured Resistance\")\n",
    "    plt.legend()\n",
    "    plt.tight_layout()"
   ]
  },
  {
   "cell_type": "markdown",
   "id": "3e58efe7",
   "metadata": {},
   "source": [
    "### Another Package for higher order fitting\n",
    "https://lmfit.github.io/lmfit-py/\n",
    "\n",
    "Might try this? Dont know what our acceptance criteria is. "
   ]
  },
  {
   "cell_type": "markdown",
   "id": "a3231fff",
   "metadata": {},
   "source": [
    "https://stackoverflow.com/questions/51972637/nonlinear-regression-with-python-whats-a-simple-method-to-fit-this-data-bette   "
   ]
  },
  {
   "cell_type": "markdown",
   "id": "01b9c8b2",
   "metadata": {},
   "source": [
    "https://docs.scipy.org/doc/scipy/reference/generated/scipy.optimize.least_squares.html"
   ]
  },
  {
   "cell_type": "markdown",
   "id": "8056be04",
   "metadata": {},
   "source": [
    "# Extra Stuff"
   ]
  },
  {
   "cell_type": "code",
   "execution_count": 448,
   "id": "671a5e1a",
   "metadata": {},
   "outputs": [
    {
     "name": "stdout",
     "output_type": "stream",
     "text": [
      "[1.17621967e+02 6.00022810e+04 1.14202014e+00]\n"
     ]
    },
    {
     "data": {
      "image/png": "[encoded data removed]",
      "text/plain": [
       "<Figure size 432x288 with 1 Axes>"
      ]
     },
     "metadata": {
      "needs_background": "light"
     },
     "output_type": "display_data"
    }
   ],
   "source": [
    "#Least Squares Fitting of Resistance Values\n",
    "\n",
    "#Define matrices to hold Calculated Resistance Values and Dry Layer Height\n",
    "R_calc=rm_4[0:250]\n",
    "d=dlh_4[0:250]\n",
    "\n",
    "#Define Residuals Function\n",
    "def residuals(theta,d,R_calc):\n",
    "    R_fit = theta[0]+((theta[1]*d)/(1+theta[2]*d)) #Calculated Resistance\n",
    "    res=R_fit-R_calc\n",
    "    return res\n",
    "\n",
    "#Define Parameter Set\n",
    "    #theta=[a,b,c]\n",
    "\n",
    "#theta_0=[0,120100,5.9] #Random guess for initial conditions #Model Changes as we change initial conditions\n",
    "theta_0=[0,60000,450]\n",
    "\n",
    "#Least Squares Fitting\n",
    "res1=least_squares(residuals,theta_0, loss='soft_l1', f_scale=0.1,args=(d,R_calc))\n",
    "print(res1.x)\n",
    "\n",
    "#Plotting\n",
    "R_pred=res1.x[0]+((res1.x[1]*d)/(1+res1.x[2]*d)) \n",
    "plt.plot(dlh_4[0:250],R_pred,label=\"4NN Predicted\")\n",
    "plt.plot(dlh_4[0:250],rm_4[0:250],label=\"4NN Measured\")\n",
    "plt.xlabel(\"Time(s)\")\n",
    "plt.ylabel(\"Resistance[(mT*hr*cm2/g)]\")\n",
    "plt.title(\"Resistance Values Across All Time\")\n",
    "plt.legend()\n",
    "plt.tight_layout()"
   ]
  },
  {
   "cell_type": "code",
   "execution_count": null,
   "id": "f9efda70",
   "metadata": {},
   "outputs": [],
   "source": []
  }
 ],
 "metadata": {
  "kernelspec": {
   "display_name": "Python 3",
   "language": "python",
   "name": "python3"
  },
  "language_info": {
   "codemirror_mode": {
    "name": "ipython",
    "version": 3
   },
   "file_extension": ".py",
   "mimetype": "text/x-python",
   "name": "python",
   "nbconvert_exporter": "python",
   "pygments_lexer": "ipython3",
   "version": "3.8.8"
  }
 },
 "nbformat": 4,
 "nbformat_minor": 5
}
