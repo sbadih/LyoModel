{
 "cells": [
  {
   "cell_type": "markdown",
   "id": "f133f5d1",
   "metadata": {},
   "source": [
    "# Building The Design Space for Lyophilization-Edge and Core"
   ]
  },
  {
   "cell_type": "code",
   "execution_count": 36,
   "id": "08d2244f",
   "metadata": {},
   "outputs": [],
   "source": [
    "#Outputs:\n",
    "    #Drying Time\n",
    "    #Product Temperature\n",
    "\n",
    "#Use this notebook if you want to test only one shelf temperature/chamber pressure combination. \n",
    "#Can test either edge or core cases, need to change resistance parameters depending on which case is being tested.\n",
    "#This notebook can be used as a validation step"
   ]
  },
  {
   "cell_type": "code",
   "execution_count": 37,
   "id": "820c17d3",
   "metadata": {},
   "outputs": [],
   "source": [
    "#Libraries\n",
    "import matplotlib.pyplot as plt\n",
    "import numpy as np\n",
    "from scipy.optimize import least_squares\n",
    "import pandas as pd\n",
    "import os\n",
    "import warnings\n",
    "warnings.filterwarnings('ignore')\n",
    "import math\n",
    "from mpl_toolkits import mplot3d"
   ]
  },
  {
   "cell_type": "markdown",
   "id": "0c12c8fe",
   "metadata": {},
   "source": [
    "### Model Constant Inputs"
   ]
  },
  {
   "cell_type": "code",
   "execution_count": 38,
   "id": "f470d5a9",
   "metadata": {},
   "outputs": [
    {
     "name": "stdout",
     "output_type": "stream",
     "text": [
      "Enter Surface Area In(cm^2): 5.982843996\n",
      "5.982843996\n",
      "Enter Vial Capac: 20\n",
      "20.0\n",
      "Enter Vial Numbers(filled): 86\n",
      "86.0\n",
      "Enter Ice Density: 0.918\n",
      "0.918\n",
      "Enter Density: 1.036\n",
      "1.036\n",
      "Enter Fill Volume(ml): 6.3\n",
      "6.3\n",
      "Enter Water Content: 0.484\n",
      "0.484\n",
      "Enter Din: 2.76\n",
      "2.76\n",
      "Enter Dout: 3\n",
      "3.0\n",
      "Enter Tcritical: -20.1\n",
      "-20.1\n",
      "Dry Cake Initial Height: 1.1883652534350033\n"
     ]
    }
   ],
   "source": [
    "#Input Parameters\n",
    "SAin = float(input(\"Enter Surface Area In(cm^2): \")) #5.982843996\n",
    "print(SAin)\n",
    "vial_capac = float(input(\"Enter Vial Capac: \")) #20\n",
    "print(vial_capac)\n",
    "vial_numbers = float(input(\"Enter Vial Numbers(filled): \")) #86\n",
    "print(vial_numbers)\n",
    "ice_den = float(input(\"Enter Ice Density: \")) #0.918\n",
    "print(ice_den)\n",
    "den = float(input(\"Enter Density: \")) #1.036\n",
    "print(den)\n",
    "fill_volume = float(input(\"Enter Fill Volume(ml): \")) #6.3\n",
    "print(fill_volume)\n",
    "water_cont = float(input(\"Enter Water Content: \")) #0.484\n",
    "print(water_cont)\n",
    "Din = float(input(\"Enter Din: \")) #2.76\n",
    "print(Din)\n",
    "Dout = float(input(\"Enter Dout: \")) #3\n",
    "print(Dout)\n",
    "T_critical=float(input(\"Enter Tcritical: \"))\n",
    "print(T_critical)\n",
    "dry_cake=(fill_volume*den)/(SAin*ice_den)\n",
    "print(\"Dry Cake Initial Height:\",dry_cake)\n",
    "lam=0.00358"
   ]
  },
  {
   "cell_type": "markdown",
   "id": "4a22cd41",
   "metadata": {},
   "source": [
    "##  Set Shelf Temp/Chamber Pressure"
   ]
  },
  {
   "cell_type": "code",
   "execution_count": 39,
   "id": "e22d5629",
   "metadata": {},
   "outputs": [
    {
     "name": "stdout",
     "output_type": "stream",
     "text": [
      "Enter Shelf Temperature(C): -10\n",
      "-10.0\n",
      "Enter Chamber Pressure(C): 125\n",
      "125.0\n"
     ]
    }
   ],
   "source": [
    "#Set Sampling Rate for Chamber Pressure and Shelf Temperatures(inputs to our model)\n",
    "T_shelf = float(input(\"Enter Shelf Temperature(C): \")) #-10\n",
    "print(T_shelf)\n",
    "P_chamber = float(input(\"Enter Chamber Pressure(C): \")) #125\n",
    "print(P_chamber)\n",
    "\n",
    "temp=np.array([T_shelf]) #Sample temperature \n",
    "press=np.array([P_chamber]) #Sample pressure "
   ]
  },
  {
   "cell_type": "markdown",
   "id": "0c3f6e00",
   "metadata": {},
   "source": [
    "## Cake Resistance Parameters"
   ]
  },
  {
   "cell_type": "markdown",
   "id": "e76d97d0",
   "metadata": {},
   "source": [
    "Parameters for 2NN : [6.88496101e+00 1.00000101e+05 7.44986665e+00]\n",
    "\n",
    "Parameters for 3NN : [5.50885891e+00 1.00000068e+05 8.37529548e+00]\n",
    "\n",
    "Parameters for 4NN : [-9.20522337e+01  9.99973622e+04  6.86547089e+00]\n",
    "\n",
    "Parameters for core : [4.93983075e+00 1.00000142e+05 7.77494817e+00]"
   ]
  },
  {
   "cell_type": "code",
   "execution_count": 40,
   "id": "33702e77",
   "metadata": {},
   "outputs": [
    {
     "name": "stdout",
     "output_type": "stream",
     "text": [
      "Enter your A parameter for resistance: -8.85164801e-02\n",
      "-0.0885164801\n",
      "Enter your B parameter for resistance: 9.04999955e+04\n",
      "90499.9955\n",
      "Enter your C parameter for resistance: 6.50812284e+00\n",
      "6.50812284\n"
     ]
    }
   ],
   "source": [
    "#Set Cake Resistance Parameters\n",
    "a = float(input(\"Enter your A parameter for resistance: \")) #-8.85164801e-02\n",
    "print(a)\n",
    "b = float(input(\"Enter your B parameter for resistance: \")) #9.04999955e+04\n",
    "print(b)\n",
    "c = float(input(\"Enter your C parameter for resistance: \")) #6.50812284e+00\n",
    "print(c)\n",
    "\n",
    "cake_res_param=np.zeros(3)\n",
    "cake_res_param[0]=a\n",
    "cake_res_param[1]=b\n",
    "cake_res_param[2]=c"
   ]
  },
  {
   "cell_type": "markdown",
   "id": "b9a904d9",
   "metadata": {},
   "source": [
    "## Start Iterations"
   ]
  },
  {
   "cell_type": "code",
   "execution_count": 41,
   "id": "9dc682e6",
   "metadata": {},
   "outputs": [
    {
     "name": "stdout",
     "output_type": "stream",
     "text": [
      "Current Pressure/Temp Combo: -10.0 C 125.0 mTorr\n",
      "Current Iteration: 1\n",
      "Current Iteration: 2\n",
      "Current Iteration: 3\n",
      "Current Iteration: 4\n",
      "Current Iteration: 5\n",
      "Current Iteration: 6\n",
      "Current Iteration: 7\n",
      "Current Iteration: 8\n",
      "Current Iteration: 9\n",
      "Current Iteration: 10\n",
      "Current Iteration: 11\n",
      "Current Iteration: 12\n",
      "Current Iteration: 13\n",
      "Current Iteration: 14\n",
      "Current Iteration: 15\n",
      "Current Iteration: 16\n",
      "Drying Time(Hrs): 42\n",
      "Product Temperature(C): -26.63674630144571\n",
      "Pmin: 5.378339944168784\n"
     ]
    }
   ],
   "source": [
    "#Create Matrices to Store Predicted Drying Time and Product Temp at Each Pressure/Temp combo\n",
    "dt=np.zeros((len(temp),len(press)))\n",
    "tp=np.zeros((len(temp),len(press)))\n",
    "p_min=np.zeros((len(temp),len(press)))\n",
    "p_min_param=np.array([5.12,18.829,0])\n",
    "#Start Iterations\n",
    "for i in range(len(temp)):\n",
    "    for j in range(len(press)):\n",
    "        print(\"Current Pressure/Temp Combo:\",temp[i],\"C\",press[j],\"mTorr\")\n",
    "        \n",
    "        #Set initial value for percent removed water\n",
    "        prw_v=0\n",
    "        #Set counter variable\n",
    "        count=10\n",
    "        \n",
    "        while prw_v<100 and count<60: # keep iterating until prw reaches closest value to 100\n",
    "            print(\"Current Iteration:\", count-9)\n",
    "            #Set Initial Arrays that will keep changing in length\n",
    "            cycle_time=np.arange(18,count+18,1)\n",
    "            Kv_values=np.repeat(0.00020961432864185497,count) #From Kv Fitting model, doesn't change based on vial configuration\n",
    "            shelf_temp=np.repeat(temp[i],count) #In degrees Celsius\n",
    "            cham_pres=np.repeat(press[j]/1000,count) #In Torr\n",
    "\n",
    "            #OLS Function\n",
    "            def ols_fit():\n",
    "                #Define Parameter Set(Initial)\n",
    "                #T_p_0=((df2[['TC AVG']]).values)[16:count+16] #Used thermocouple average as a starting point for the product temperature fitting\n",
    "                T_p_0=np.repeat(-45,count)\n",
    "                #Define Residuals Function\n",
    "                def residuals(T_p): #T_p is the parameter we are fitting\n",
    "                    #Need to calculate initial condition for cake resistance and Tice based on initial T_p_0 guess\n",
    "                    #Go through all steps here\n",
    "                    #Define function to calculate cake resistance and Tice\n",
    "                    def intermed(T_p):\n",
    "                        hf=(shelf_temp-T_p)*Kv_values\n",
    "                        sh=np.zeros(hf.size)\n",
    "                        for i in range(len(hf)):\n",
    "                            if i==0:\n",
    "                                sh[i]=0\n",
    "                            else:\n",
    "                                sh[i]=sh[i-1]+(hf[i]+hf[i-1])*(cycle_time[i]-cycle_time[i-1])*3600/2*Dout*Dout*np.pi/4\n",
    "                        msi=sh/676\n",
    "                        pdl=msi/(water_cont*ice_den*Din*Din*np.pi/4)\n",
    "                        cake_res=(cake_res_param[0]+((cake_res_param[1]*pdl)/(1+cake_res_param[2]*pdl)))/1000 #Use 2NN case for edge\n",
    "                        Tice_surf=T_p-hf*(dry_cake-pdl)/lam\n",
    "                        return cake_res, Tice_surf\n",
    "                    outputs=intermed(T_p) #variable to store cake res and Tice_surf\n",
    "                    p_pred=np.exp(24.01849-6144.96/(outputs[1].astype(\"float64\")+273.0)) #Have to set initial condition for Tice_surf\n",
    "                    #p_pred=np.exp(24.01849-6144.96/(outputs[0]+273.0)) #Have to set initial condition for Tice_surf\n",
    "                    p_real=cham_pres+outputs[0]*3600*((Dout*Dout)/(Din*Din))*Kv_values*(shelf_temp-T_p)/676 #Have to set initial condition for cake_res\n",
    "                    p_real=np.array(p_real, dtype=float)\n",
    "                    res=p_pred-p_real\n",
    "                    return res\n",
    "                #Least Squares Fitting\n",
    "                lsq=least_squares(residuals,T_p_0, loss='soft_l1', f_scale=0.1)\n",
    "\n",
    "                #Fitted Product Temperature\n",
    "                T_p_fit=lsq.x\n",
    "\n",
    "                return T_p_fit #final outcome T_p \n",
    "            ####   At this point you have fitted product temperature ####\n",
    "            T_product=ols_fit()\n",
    "\n",
    "            #Function to calculate all intermediate values used to fit the T_product\n",
    "            def param(T_p):\n",
    "                hf=(shelf_temp-T_p)*Kv_values\n",
    "                sh=np.zeros(hf.size)\n",
    "                for i in range(len(hf)):\n",
    "                    if i==0:\n",
    "                        sh[i]=0\n",
    "                    else:\n",
    "                        sh[i]=sh[i-1]+(hf[i]+hf[i-1])*(cycle_time[i]-cycle_time[i-1])*3600/2*Dout*Dout*np.pi/4\n",
    "                msi=sh/676\n",
    "                pdl=msi/(water_cont*ice_den*Din*Din*np.pi/4)\n",
    "                cake_res=cake_res_param[0]+((cake_res_param[1]*pdl)/(1+cake_res_param[2]*pdl)) \n",
    "                Tice_surf=T_p-hf*(dry_cake-pdl)/lam\n",
    "                return cake_res, Tice_surf, hf, msi, sh, pdl\n",
    "\n",
    "            #Find all intermediate values\n",
    "\n",
    "            #Heat Flux\n",
    "            hf_model=param(ols_fit())[2]\n",
    "            #Sublimation Heat\n",
    "            sh_model=param(ols_fit())[4]\n",
    "            #Mass of Sublimed Ice \n",
    "            msi_model=param(ols_fit())[3]\n",
    "            #Product Dried Layer\n",
    "            pdl_model=param(ols_fit())[5]\n",
    "            #Cake Resistance\n",
    "            cake_res_model=param(ols_fit())[0]\n",
    "            #Tice_surf\n",
    "            Tice_model=param(ols_fit())[1]\n",
    "\n",
    "            #Find the sublimation rate\n",
    "            def sub_rate(HF):\n",
    "                sr=np.zeros(HF.size)\n",
    "                for i in range(len(HF)):\n",
    "                    if i==0:\n",
    "                        sr[i]=0\n",
    "                    else:\n",
    "                        sr[i]=vial_numbers*HF[i]*np.pi*math.pow(Dout,2)/(4*676)\n",
    "                return sr\n",
    "            sr=sub_rate(param(ols_fit())[2]) #g/s\n",
    "            sr_kg=sr*3600/1000\n",
    "\n",
    "            #Find the percent removed water\n",
    "            def perc_wat():\n",
    "                prw = ((((param(ols_fit()))[3]/water_cont)/fill_volume)/den)*100\n",
    "                return prw \n",
    "            prw=perc_wat()\n",
    "\n",
    "            #Increment the length of necessary variables by one\n",
    "            count=count+1\n",
    "\n",
    "            #Set prw_v as the new value\n",
    "            prw_v=prw[prw.shape[0]-1] #Pick the last element of the prw array\n",
    "\n",
    "        #Predict Drying Time Using the final output of the for loop for the prw\n",
    "        drying_time=cycle_time[cycle_time.shape[0]-1]\n",
    "        print(\"Drying Time(Hrs):\", drying_time)\n",
    "        #Predict Product Temperature Based on Maximum Temperature in the Array\n",
    "        product_temp=np.max(T_product)\n",
    "        print(\"Product Temperature(C):\",product_temp)\n",
    "        #Predict Pmin based on parameters set\n",
    "        p_min_model=p_min_param[0]+p_min_param[1]*sr_kg+p_min_param[2]*sr_kg*sr_kg\n",
    "        #Store Model Predictions for Drying Time and Product Temperature \n",
    "        dt[i,j]=drying_time\n",
    "        tp[i,j]=product_temp\n",
    "        #Store Pmin\n",
    "        print(\"Pmin:\",np.max(p_min_model))\n",
    "        p_min[i,j]=np.max(p_min_model)           "
   ]
  },
  {
   "cell_type": "markdown",
   "id": "ad7b14f7",
   "metadata": {},
   "source": [
    "## Fitted Product Temperature Plot"
   ]
  },
  {
   "cell_type": "code",
   "execution_count": 42,
   "id": "3a61232e",
   "metadata": {},
   "outputs": [
    {
     "name": "stdout",
     "output_type": "stream",
     "text": [
      "Fitted Temperature from OLS:\n",
      " [-35.75072637 -30.21886128 -28.83620977 -28.14075762 -27.7174307\n",
      " -27.43367995 -27.23220062 -27.08372518 -26.9715978  -26.88558422\n",
      " -26.81902351 -26.7673814  -26.72745785 -26.69692645 -26.67405334\n",
      " -26.65751869 -26.6462994  -26.63958974 -26.6367463  -26.63724892\n",
      " -26.64067247 -26.64666608 -26.65493758 -26.66524175 -26.67737129]\n"
     ]
    },
    {
     "data": {
      "text/plain": [
       "Text(0.5, 1.0, 'Fitted Product Temp From Code')"
      ]
     },
     "execution_count": 42,
     "metadata": {},
     "output_type": "execute_result"
    },
    {
     "data": {
      "image/png": "[encoded data removed]",
      "text/plain": [
       "<Figure size 432x288 with 1 Axes>"
      ]
     },
     "metadata": {
      "needs_background": "light"
     },
     "output_type": "display_data"
    }
   ],
   "source": [
    "print(\"Fitted Temperature from OLS:\\n\",T_product)\n",
    "plt.plot(cycle_time,T_product,color=\"red\",linewidth=5,label=\"code\")\n",
    "plt.xlabel(\"Time(hrs)\")\n",
    "plt.ylabel(\"Temperature(C)\")\n",
    "plt.title(\"Fitted Product Temp From Code\")"
   ]
  },
  {
   "cell_type": "markdown",
   "id": "9e918008",
   "metadata": {},
   "source": [
    "## Final Graphs Output"
   ]
  },
  {
   "cell_type": "code",
   "execution_count": 43,
   "id": "182757b3",
   "metadata": {},
   "outputs": [],
   "source": [
    "#Sublimation Rate Function\n",
    "def sub_rate(HF):\n",
    "    sr=np.zeros(HF.size)\n",
    "    for i in range(len(HF)):\n",
    "        if i==0:\n",
    "            sr[i]=0\n",
    "        else:\n",
    "            sr[i]=vial_numbers*HF[i]*np.pi*math.pow(Dout,2)/(4*676)\n",
    "    return sr\n",
    "\n",
    "#Sublimation Rate Calculation\n",
    "sr=sub_rate(hf_model) #g/s\n",
    "sr_kg=sr*3600/1000"
   ]
  },
  {
   "cell_type": "code",
   "execution_count": 44,
   "id": "28bbd502",
   "metadata": {},
   "outputs": [
    {
     "name": "stdout",
     "output_type": "stream",
     "text": [
      "Percent Removed Water:\n",
      " [ 0.          5.74121893 10.61887228 15.23698778 19.71537708 24.10545826\n",
      " 28.43493825 32.72071179 36.97393822 41.20241849 45.4118435  49.60650595\n",
      " 53.78973263 57.96416006 62.13191772 66.29475367 70.45412339 74.61125393\n",
      " 78.76719137 82.92283646 87.0789719  91.23628346 95.39537661 99.55678971]\n"
     ]
    }
   ],
   "source": [
    "#Percent Removed Water Function\n",
    "def perc_wat():\n",
    "    prw = (((msi_model/water_cont)/fill_volume)/den)*100\n",
    "    return prw \n",
    "\n",
    "#Percent Removed Water Calculation\n",
    "prw_old=perc_wat()\n",
    "ind=[]\n",
    "for i in range(len(prw_old)):\n",
    "    if prw_old[i]>100:\n",
    "        ind.append(i)\n",
    "prw=np.delete(prw_old,ind) #drop values that exceed 100\n",
    "print(\"Percent Removed Water:\\n\",prw)"
   ]
  },
  {
   "cell_type": "code",
   "execution_count": 45,
   "id": "5c76ec98",
   "metadata": {},
   "outputs": [
    {
     "data": {
      "image/png": "[encoded data removed]",
      "text/plain": [
       "<Figure size 576x432 with 2 Axes>"
      ]
     },
     "metadata": {
      "needs_background": "light"
     },
     "output_type": "display_data"
    }
   ],
   "source": [
    "#Plot Final Graph For combined Pressures and Temperatures\n",
    "pressure=P_chamber \n",
    "l=len(prw)\n",
    "p_min_model=p_min_param[0]+p_min_param[1]*sr_kg+p_min_param[2]*sr_kg*sr_kg\n",
    "fig,ax = plt.subplots( figsize=(8,6) )\n",
    "#Temperature axis\n",
    "# ax.plot(cycle_time[0:l],\n",
    "#         shelf_temp[0:l],\n",
    "#         color=\"red\",label=\"Shelf Temperature(C)\")\n",
    "ax.plot(cycle_time[0:l],\n",
    "        T_product[0:l],\n",
    "        color=\"pink\",marker=\"x\",label=\"T_product/T_bottom\") #T_product/T_bottom\n",
    "ax.plot(cycle_time[0:l],\n",
    "        Tice_model[0:l],\n",
    "        color=\"blue\",marker=\"D\",label=\"Tice_surf/T_subl_surf\") #Tice_surf/T_subl_surf\n",
    "#Change this to real T critical\n",
    "ax.plot(cycle_time[0:l],\n",
    "        np.repeat(T_critical,cycle_time.shape[0])[0:l],\n",
    "        color=\"purple\",marker=\"*\",label=\"T_critical\") #Tcritical\n",
    "ax.set_xlabel(\"Time(hrs)\", fontsize = 14)\n",
    "ax.set_ylabel(\"Temperature(C)\", fontsize = 14)\n",
    "plt.legend(bbox_to_anchor=(1.5,0.5))\n",
    "\n",
    "#Pressure Axis\n",
    "ax2=ax.twinx()\n",
    "ax2.plot(cycle_time[0:l],prw,color=\"green\",label=\"% of removed water\") #Percent Removed Water\n",
    "ax2.plot(cycle_time[0:l],p_min_model[0:l],color=\"brown\",label=\"Pmin\") #pmin\n",
    "ax2.plot(cycle_time[0:l],np.repeat(pressure,cycle_time.shape[0])[0:l],color=\"m\",marker=\"s\",label=\"Pressure(mTorr)\") #pressure\n",
    "\n",
    "ax2.set_ylabel(\"Pressure(mTorr)/Percent Removed Water\", fontsize = 14)\n",
    "plt.legend(bbox_to_anchor=(1.5,0.75))\n",
    "plt.show()"
   ]
  },
  {
   "cell_type": "code",
   "execution_count": 46,
   "id": "01c6286e",
   "metadata": {},
   "outputs": [
    {
     "data": {
      "image/png": "[encoded data removed]",
      "text/plain": [
       "<Figure size 576x432 with 2 Axes>"
      ]
     },
     "metadata": {
      "needs_background": "light"
     },
     "output_type": "display_data"
    }
   ],
   "source": [
    "#Plot graph for Kv vs Rh\n",
    "fig,ax = plt.subplots( figsize=(8,6) )\n",
    "#Temperature axis\n",
    "ax.plot(cycle_time[0:l],\n",
    "        cake_res_model[0:l],\n",
    "        color=\"blue\",marker=\"D\",label=\"Cake Resistance\")\n",
    "ax.set_xlabel(\"Time(hrs)\", fontsize = 14)\n",
    "ax.set_ylabel(\"Cake Resistance(cm^2Torr*hr/g)\", fontsize = 14)\n",
    "plt.legend(bbox_to_anchor=(1.5,0.5))\n",
    "ax2=ax.twinx()\n",
    "ax2.plot(cycle_time[0:l],Kv_values[0:l],color=\"magenta\",label=\"Heat Transfer Coefficient\") #Percent Removed Water\n",
    "ax2.set_ylabel(\"Heat Transfer Coefficient(cal/s/K/cm^2)\", fontsize = 14)\n",
    "plt.legend(bbox_to_anchor=(1.55,0.6))\n",
    "plt.title(\"Kv vs R(h)\",fontsize=18)\n",
    "plt.show()"
   ]
  },
  {
   "cell_type": "markdown",
   "id": "fcecaa3d",
   "metadata": {},
   "source": [
    "# Done"
   ]
  }
 ],
 "metadata": {
  "kernelspec": {
   "display_name": "Python 3",
   "language": "python",
   "name": "python3"
  },
  "language_info": {
   "codemirror_mode": {
    "name": "ipython",
    "version": 3
   },
   "file_extension": ".py",
   "mimetype": "text/x-python",
   "name": "python",
   "nbconvert_exporter": "python",
   "pygments_lexer": "ipython3",
   "version": "3.8.8"
  }
 },
 "nbformat": 4,
 "nbformat_minor": 5
}
