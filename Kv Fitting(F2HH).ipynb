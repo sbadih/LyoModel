{
 "cells": [
  {
   "cell_type": "code",
   "execution_count": 2,
   "id": "3cff769d",
   "metadata": {},
   "outputs": [],
   "source": [
    "#Imports\n",
    "import matplotlib.pyplot as plt\n",
    "import numpy as np\n",
    "from scipy.optimize import least_squares\n",
    "import pandas as pd\n",
    "import os\n",
    "from mpl_toolkits import mplot3d\n",
    "from scipy.linalg import lstsq\n",
    "import math"
   ]
  },
  {
   "cell_type": "markdown",
   "id": "87997293",
   "metadata": {},
   "source": [
    "## Backtracking Kv from TDLAS Data (F2 HH Cycle)"
   ]
  },
  {
   "cell_type": "markdown",
   "id": "f33a4bdb",
   "metadata": {},
   "source": [
    "Note: This was the cycle we had missing data around the time where the primary drying was ending. I just set everything as a constant from the last value it recorded."
   ]
  },
  {
   "cell_type": "code",
   "execution_count": 19,
   "id": "9fca0fe2",
   "metadata": {},
   "outputs": [
    {
     "name": "stdout",
     "output_type": "stream",
     "text": [
      "['Date/Time', 'Delta Time from filestart', 'Process [H2O]', 'Refcell [H2O]', 'Velocity', 'Mass Flow', 'Mass Flow Scaling', 'Process Purge', 'RefCell Purge', 'Pressure', 'Process Temp', 'RefCell Temp', 'Shelf Temp', 'Error Code', 'Unnamed: 14', 'per data point', 'per data point.1', 'Removal']\n",
      "['Timestamp', ' SPLYO.CONDENSER_TEMPERATURE.F_CV', ' SPLYO.SHELF_OUTLET.F_CV', ' SPLYO.SHELF_INLET.F_CV', ' SPLYO.SHELF_SP.F_CV', ' SPLYO.TC_AVG.F_CV', ' SPLYO.VACUUM_SP.F_CV', ' SPLYO.CHAMBER_CM.F_CV', ' SPLYO.ROUGH_VACUUM.F_CV', ' SPLYO.CHAMBER_PIRANI.F_CV', ' SPLYO.CONDENSER_VACUUM.F_CV']\n",
      "Headers:\n",
      "['Timestamp', ' SPLYO.TC01.F_CV', ' SPLYO.TC02.F_CV', ' SPLYO.TC03.F_CV', ' SPLYO.TC04.F_CV', ' SPLYO.TC05.F_CV', ' SPLYO.TC06.F_CV', ' SPLYO.TC07.F_CV', ' SPLYO.TC08.F_CV', ' SPLYO.TC09.F_CV', ' SPLYO.TC10.F_CV', ' SPLYO.TC11.F_CV', ' SPLYO.TC12.F_CV', ' SPLYO.TC13.F_CV', ' SPLYO.TC14.F_CV', ' SPLYO.TC15.F_CV', ' SPLYO.TC16.F_CV', ' SPLYO.TC_AVG.F_CV']\n"
     ]
    }
   ],
   "source": [
    "#Load Data\n",
    "#Initial Data\n",
    "file_location1 = r'C:\\Users\\sbadih\\OneDrive - Gilead Sciences\\Trodelvy 2.0 Modelling Data\\TDLAS Data\\F4_HH.xlsx'\n",
    "assert os.path.isfile(file_location1)\n",
    "df1 = pd.read_excel(file_location1,sheet_name='Sheet1')\n",
    "print(list(df1.columns))\n",
    "\n",
    "#Initial Data(SV File)\n",
    "file_location2 = r'C:\\Users\\sbadih\\OneDrive - Gilead Sciences\\Trodelvy 2.0 Modelling Data\\220711_GS-0132_F2_0C125mT_SV.xlsx'\n",
    "assert os.path.isfile(file_location2)\n",
    "df2 = pd.read_excel(file_location2,sheet_name='220711_GS-0132_F2_0C125mT_SV')\n",
    "print(list(df2.columns))\n",
    "\n",
    "# Load Data(PP File)\n",
    "file_location3 = r'C:\\Users\\sbadih\\OneDrive - Gilead Sciences\\Trodelvy 2.0 Modelling Data\\220711_GS-0132_F2_0C125mT_PP.xlsx'\n",
    "assert os.path.isfile(file_location3)\n",
    "df3 = pd.read_excel(file_location3,sheet_name='220711_GS-0132_F2_0C125mT_PP')\n",
    "print(\"Headers:\")\n",
    "print(list(df3.columns))"
   ]
  },
  {
   "cell_type": "markdown",
   "id": "eeac8af9",
   "metadata": {},
   "source": [
    "##### Note: TDLAS data is every minute but the lyo data is every 5 mins, so have to adjust the sampling from TDLAS to back calculate the Kv."
   ]
  },
  {
   "cell_type": "code",
   "execution_count": 20,
   "id": "c4392efa",
   "metadata": {},
   "outputs": [
    {
     "name": "stdout",
     "output_type": "stream",
     "text": [
      "(1440,)\n",
      "(1440,)\n",
      "[ 0.  0.  0. ... 20. 20. 20.]\n",
      "[15.7 15.7 15.8 ...  6.8  6.8  6.8]\n"
     ]
    }
   ],
   "source": [
    "#Define needed parameters/inputs\n",
    "SAout=7.0685775\n",
    "vial_number=86 #number of filled vials used\n",
    "T_shelf= ((df2[[' SPLYO.SHELF_SP.F_CV']]).values).reshape(-1)\n",
    "T_p_2NN=((df3[[' SPLYO.TC06.F_CV']]).values).reshape(-1)\n",
    "T_p_3NN=((df3[[' SPLYO.TC03.F_CV']]).values).reshape(-1)\n",
    "T_p_4NN=((df3[[' SPLYO.TC01.F_CV']]).values).reshape(-1)\n",
    "\n",
    "print(T_shelf.shape)\n",
    "print(T_p_2NN.shape)\n",
    "print(T_shelf)\n",
    "print(T_p_2NN)"
   ]
  },
  {
   "cell_type": "code",
   "execution_count": 26,
   "id": "a37b744e",
   "metadata": {},
   "outputs": [
    {
     "name": "stdout",
     "output_type": "stream",
     "text": [
      "(1064,)\n",
      "(1064,)\n",
      "(1064,)\n",
      "(1063,)\n",
      "(1063,)\n",
      "(1063,)\n"
     ]
    },
    {
     "name": "stderr",
     "output_type": "stream",
     "text": [
      "<ipython-input-26-2ef26f447567>:33: RuntimeWarning: divide by zero encountered in true_divide\n",
      "  kv_2_old=hf/(T_shelf_new-T_p_2NN_new)\n",
      "<ipython-input-26-2ef26f447567>:34: RuntimeWarning: divide by zero encountered in true_divide\n",
      "  kv_3_old=hf/(T_shelf_new-T_p_3NN_new)\n",
      "<ipython-input-26-2ef26f447567>:35: RuntimeWarning: divide by zero encountered in true_divide\n",
      "  kv_4_old=hf/(T_shelf_new-T_p_4NN_new)\n"
     ]
    }
   ],
   "source": [
    "#Extract sublimation rate (g/s)\n",
    "\n",
    "#Need to extract data every five minutes only\n",
    "mf=(df1[['Mass Flow']]).values\n",
    "mf=mf.reshape(-1)\n",
    "\n",
    "#Elapsed Time Array\n",
    "time=(df2[['Timestamp']]).values #every 5 mins\n",
    "ind=(np.arange(0,len(time)*5,5)) #Create array for time passed in increments of 5 mins\n",
    "\n",
    "#Find index of ind array where the mf.shape value exists\n",
    "w=np.where(ind==mf.shape[0])\n",
    "w=np.asarray(w)\n",
    "\n",
    "#Truncate the ind array only up to that index\n",
    "ind=ind[0:w[0,0]]\n",
    "#Extract elements of mf using the ind array\n",
    "mf_new=mf[ind]\n",
    "\n",
    "#Convert mass flow to (g/s/vial)\n",
    "sub_rate=mf_new/vial_number\n",
    "\n",
    "#Calculate Heat Flow\n",
    "hf=sub_rate*676/SAout\n",
    "\n",
    "#Truncate Tshelf and Tp based on mf shape\n",
    "T_shelf_new=T_shelf[0:mf_new.shape[0]]\n",
    "T_p_2NN_new=T_p_2NN[0:mf_new.shape[0]]\n",
    "T_p_3NN_new=T_p_3NN[0:mf_new.shape[0]]\n",
    "T_p_4NN_new=T_p_4NN[0:mf_new.shape[0]]\n",
    "\n",
    "#Find Kv based on Heat Flow\n",
    "kv_2_old=hf/(T_shelf_new-T_p_2NN_new)\n",
    "kv_3_old=hf/(T_shelf_new-T_p_3NN_new)\n",
    "kv_4_old=hf/(T_shelf_new-T_p_4NN_new)\n",
    "print(kv_2_old.shape)\n",
    "print(kv_3_old.shape)\n",
    "print(kv_4_old.shape)\n",
    "#Remove any infinite values due to divide by zero\n",
    "for i in range(kv_2_old.shape[0]):\n",
    "    if kv_2_old[i]==float('+inf'):\n",
    "        kv_2=np.delete(kv_2_old, i)\n",
    "    if kv_3_old[i]==float('+inf'):\n",
    "        kv_3=np.delete(kv_3_old,i)\n",
    "    if kv_4_old[i]==float('+inf'):\n",
    "        kv_4=np.delete(kv_4_old,i)\n",
    "#Change the dtype to float64 to avoid precision issues\n",
    "kv_2=kv_2.astype(\"float64\")\n",
    "kv_3=kv_3.astype(\"float64\")\n",
    "kv_4=kv_4.astype(\"float64\")\n",
    "print(kv_2.shape)\n",
    "print(kv_3.shape)\n",
    "print(kv_4.shape)"
   ]
  },
  {
   "cell_type": "code",
   "execution_count": 27,
   "id": "babea734",
   "metadata": {},
   "outputs": [
    {
     "name": "stdout",
     "output_type": "stream",
     "text": [
      "[-0.00000000e+00 -2.56963759e-06 -2.40831758e-06 ...  1.79963404e-06\n",
      "  1.79230476e-06  1.82355952e-06]\n",
      "[-0.00000000e+00 -2.56963759e-06 -2.42365718e-06 ...  1.74670363e-06\n",
      "  1.73958991e-06  1.76992542e-06]\n",
      "[-0.00000000e+00 -2.74444286e-06 -2.57104174e-06 ...  1.63828754e-06\n",
      "  1.63161537e-06  1.66006798e-06]\n"
     ]
    },
    {
     "data": {
      "image/png": "[encoded data removed]",
      "text/plain": [
       "<Figure size 360x648 with 3 Axes>"
      ]
     },
     "metadata": {
      "needs_background": "light"
     },
     "output_type": "display_data"
    }
   ],
   "source": [
    "#Output\n",
    "print(kv_2)\n",
    "print(kv_3)\n",
    "print(kv_4)\n",
    "\n",
    "#Plot\n",
    "plt.figure(figsize=(5, 9))\n",
    "plt.subplot(3,1,1)\n",
    "plt.scatter(np.arange(0,kv_2.shape[0],1),kv_2,color=\"red\",label=\"2NN\")\n",
    "plt.xlabel(\"Time(mins)\")\n",
    "plt.ylabel(\"Kv Value\")\n",
    "plt.legend()\n",
    "plt.subplot(3,1,2)\n",
    "plt.scatter(np.arange(0,kv_3.shape[0],1),kv_3,color=\"blue\",label=\"3NN\")\n",
    "plt.xlabel(\"Time(mins)\")\n",
    "plt.ylabel(\"Kv Value\")\n",
    "plt.legend()\n",
    "plt.subplot(3,1,3)\n",
    "plt.scatter(np.arange(0,kv_4.shape[0],1),kv_4,color=\"green\",label=\"4NN\")\n",
    "plt.xlabel(\"Time(mins)\")\n",
    "plt.ylabel(\"Kv Value\")\n",
    "plt.legend()\n",
    "plt.tight_layout()"
   ]
  },
  {
   "cell_type": "code",
   "execution_count": 23,
   "id": "50da0555",
   "metadata": {},
   "outputs": [],
   "source": [
    "def sse(x1,x2):\n",
    "    sse=[]\n",
    "    for i in range(len(x1)):\n",
    "        sse.append(math.pow(x1[i]-x2[i],2))\n",
    "    sse=np.array(sse)\n",
    "    return np.sum(sse)"
   ]
  },
  {
   "cell_type": "code",
   "execution_count": 29,
   "id": "67139ebe",
   "metadata": {},
   "outputs": [],
   "source": [
    "# print(\"SSE for Kv2 vs Kv3:\",sse(kv_2,kv_3))\n",
    "# print(\"SSE for Kv3 vs Kv4:\",sse(kv_3,kv_4))\n",
    "# print(\"SSE for Kv2 vs Kv4:\",sse(kv_2,kv_4))"
   ]
  },
  {
   "cell_type": "markdown",
   "id": "880cf15b",
   "metadata": {},
   "source": [
    "### Note: Warning indicates that the difference is too small for python to store so it outputs a nan. This means no significant different is found between Kv values based on vial nearest neighbour configuration."
   ]
  },
  {
   "cell_type": "code",
   "execution_count": 35,
   "id": "a9f96813",
   "metadata": {},
   "outputs": [
    {
     "name": "stdout",
     "output_type": "stream",
     "text": [
      "Number of Outliers for 2NN : 374\n",
      "(689,)\n",
      "Number of Negative Values for 2NN : 282\n",
      "(407,)\n",
      "Number of Outliers for 3NN : 371\n",
      "(692,)\n",
      "Number of Negative Values for 3NN : 285\n",
      "(407,)\n",
      "Number of Outliers for 4NN : 58\n",
      "(1005,)\n",
      "Number of Negative Values for 4NN : 387\n",
      "(618,)\n",
      "Avg Kv for 2NN : 0.0012553412713576222\n",
      "Avg Kv for 3NN : 0.0012553412713576222\n",
      "Avg Kv for 4NN : inf\n"
     ]
    },
    {
     "data": {
      "image/png": "[encoded data removed]",
      "text/plain": [
       "<Figure size 360x648 with 3 Axes>"
      ]
     },
     "metadata": {
      "needs_background": "light"
     },
     "output_type": "display_data"
    }
   ],
   "source": [
    "# Take Average Kv Values without outlier points and negative points\n",
    "kv=np.array([kv_2,kv_3,kv_4])\n",
    "avg=np.zeros(3)\n",
    "x=[\"2NN\",\"3NN\",\"4NN\"]\n",
    "color=[\"red\",\"blue\",\"green\"]\n",
    "\n",
    "plt.figure(figsize=(5,9))\n",
    "for i in range(3):\n",
    "    # IQR\n",
    "    kv\n",
    "    Q1 = np.percentile(kv[i], 25,\n",
    "                       interpolation = 'midpoint')\n",
    "    Q3 = np.percentile(kv[i], 75,\n",
    "                       interpolation = 'midpoint')\n",
    "    IQR = Q3 - Q1\n",
    "\n",
    "    # Above Upper bound\n",
    "    upper = kv[i,:] >= (Q3+1.5*IQR)\n",
    "    drop=(np.where(upper))[0]\n",
    "\n",
    "    # Below Lower bound\n",
    "    lower = kv[i,:] <= (Q1-1.5*IQR)\n",
    "    drop=np.append(drop,np.where(lower)[0])\n",
    "    print(\"Number of Outliers for\",x[i],\":\",drop.shape[0])\n",
    "    \n",
    "    #Drop Outliers\n",
    "    kv_out=np.delete(kv_2,drop)\n",
    "    print(kv_out.shape)\n",
    "    \n",
    "    #Drop Negative Values\n",
    "    ind=[]\n",
    "    for j in range(len(kv_out)):\n",
    "        if kv_out[j]<0:\n",
    "            ind.append(j)\n",
    "    print(\"Number of Negative Values for\",x[i],\":\",len(ind))\n",
    "    kv_out=np.delete(kv_out,ind)\n",
    "    print(kv_out.shape)\n",
    "    \n",
    "    #Find Average and Store\n",
    "    avg[i]=np.mean(kv_out*100)\n",
    "    \n",
    "    #Plot\n",
    "    plt.subplot(3, 1, i+1)\n",
    "    plt.scatter(np.arange(0,kv_out.shape[0],1),kv_out*100,color=color[i],label=x[i])\n",
    "    plt.xlabel(\"Time(mins)\")\n",
    "    plt.ylabel(\"Kv Value\")\n",
    "    plt.legend()\n",
    "    plt.tight_layout()\n",
    "for i in range(3):\n",
    "    print(\"Avg Kv for\",x[i],\":\",avg[i])"
   ]
  },
  {
   "cell_type": "markdown",
   "id": "8319cd5c",
   "metadata": {},
   "source": [
    "Ask about the magnitude factor(100). When I used this value it fitted way better than the value from the hyperplane fitting."
   ]
  },
  {
   "cell_type": "code",
   "execution_count": null,
   "id": "81075f02",
   "metadata": {},
   "outputs": [],
   "source": []
  }
 ],
 "metadata": {
  "kernelspec": {
   "display_name": "Python 3",
   "language": "python",
   "name": "python3"
  },
  "language_info": {
   "codemirror_mode": {
    "name": "ipython",
    "version": 3
   },
   "file_extension": ".py",
   "mimetype": "text/x-python",
   "name": "python",
   "nbconvert_exporter": "python",
   "pygments_lexer": "ipython3",
   "version": "3.8.8"
  }
 },
 "nbformat": 4,
 "nbformat_minor": 5
}
